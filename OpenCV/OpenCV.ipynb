{
 "cells": [
  {
   "cell_type": "code",
   "execution_count": 2,
   "id": "c3f6e8bc-da66-4b76-b903-a0124b3068f4",
   "metadata": {},
   "outputs": [
    {
     "name": "stdout",
     "output_type": "stream",
     "text": [
      "Collecting opencv-contrib-python\n",
      "  Downloading opencv_contrib_python-4.11.0.86-cp37-abi3-manylinux_2_17_x86_64.manylinux2014_x86_64.whl.metadata (20 kB)\n",
      "Requirement already satisfied: numpy>=1.21.2 in /home/jsock/venv/lib/python3.12/site-packages (from opencv-contrib-python) (2.2.6)\n",
      "Downloading opencv_contrib_python-4.11.0.86-cp37-abi3-manylinux_2_17_x86_64.manylinux2014_x86_64.whl (69.1 MB)\n",
      "\u001b[2K   \u001b[90m━━━━━━━━━━━━━━━━━━━━━━━━━━━━━━━━━━━━━━━━\u001b[0m \u001b[32m69.1/69.1 MB\u001b[0m \u001b[31m26.4 MB/s\u001b[0m eta \u001b[36m0:00:00\u001b[0m00:01\u001b[0m00:01\u001b[0mm\n",
      "\u001b[?25hInstalling collected packages: opencv-contrib-python\n",
      "Successfully installed opencv-contrib-python-4.11.0.86\n"
     ]
    }
   ],
   "source": [
    "# 풀 패키지\n",
    "!pip install opencv-contrib-python"
   ]
  },
  {
   "cell_type": "code",
   "execution_count": 3,
   "id": "d2791def-3cf2-4390-957e-ca5169f9d917",
   "metadata": {},
   "outputs": [
    {
     "data": {
      "text/plain": [
       "'4.11.0'"
      ]
     },
     "execution_count": 3,
     "metadata": {},
     "output_type": "execute_result"
    }
   ],
   "source": [
    "import cv2\n",
    "# 객체 탐지하기 위한 별도의 라이브러리\n",
    "cv2.__version__"
   ]
  },
  {
   "cell_type": "code",
   "execution_count": null,
   "id": "4a9079cf-f1e1-43c9-8e56-e01738a46482",
   "metadata": {},
   "outputs": [],
   "source": [
    "# cv2 자체가 가지고 있는 이미지 출력 기능\n",
    "\n",
    "# imread(경로)\n",
    "img = cv2.imread('./data/pets.jpg')\n",
    "\n",
    "# opencv 이미지 출력 기능\n",
    "cv2.imshow('pet', img) # 창 이름\n",
    "cv2.waitKey(0) # 대기시간 0 : 무한대기 // 지정된 시간동안 사용자 키 입력 대기\n",
    "cv2.destroyAllWindows # 모든 창 닫기"
   ]
  },
  {
   "cell_type": "code",
   "execution_count": null,
   "id": "ebb796b5-fb70-4f80-8f89-29d10bc9f4ae",
   "metadata": {},
   "outputs": [],
   "source": []
  }
 ],
 "metadata": {
  "kernelspec": {
   "display_name": "Python 3 (ipykernel)",
   "language": "python",
   "name": "python3"
  },
  "language_info": {
   "codemirror_mode": {
    "name": "ipython",
    "version": 3
   },
   "file_extension": ".py",
   "mimetype": "text/x-python",
   "name": "python",
   "nbconvert_exporter": "python",
   "pygments_lexer": "ipython3",
   "version": "3.12.3"
  }
 },
 "nbformat": 4,
 "nbformat_minor": 5
}
