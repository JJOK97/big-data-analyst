{
 "cells": [
  {
   "cell_type": "code",
   "execution_count": 2,
   "id": "8a21c094-72b0-4d1b-bdb5-ef70b93ef6cf",
   "metadata": {},
   "outputs": [],
   "source": [
    "import cv2\n",
    "import matplotlib.pyplot as pit"
   ]
  },
  {
   "cell_type": "code",
   "execution_count": 3,
   "id": "44813467-ddb5-4cbc-a72e-79bd3bf40f01",
   "metadata": {},
   "outputs": [
    {
     "name": "stdout",
     "output_type": "stream",
     "text": [
      "동영상 재생 끝 or 읽기 실패\n"
     ]
    },
    {
     "name": "stderr",
     "output_type": "stream",
     "text": [
      "[ WARN:0@657.017] global cap_v4l.cpp:913 open VIDEOIO(V4L2:/dev/video0): can't open camera by index\n",
      "[ERROR:0@657.017] global obsensor_uvc_stream_channel.cpp:158 getStreamChannelGroup Camera index out of range\n"
     ]
    }
   ],
   "source": [
    "cap = cv2.VideoCapture(0) # 영상(비디오 객체) 가져옴\n",
    "\n",
    "while True: # 계속 실행, 동영상 : 연속적인 이미지\n",
    "    ch, frame = cap.read() # ch : 성공여부(T or F), frame: 받아온 이미지\n",
    "\n",
    "    # 실패할 경우 while 멈추기\n",
    "    # False일 경우 실행되는 문장\n",
    "    if not ch:\n",
    "        print('동영상 재생 끝 or 읽기 실패')\n",
    "        break\n",
    "\n",
    "    # 제대로 읽었을 경우\n",
    "    cv2.imshow('video1', frame)\n",
    "\n",
    "    # q라고 하는 알파벳을 클릭 > 동영상 윈도우창 꺼짐\n",
    "    key = cv2.waitKey(33) # 속도 제어, 사용자 입력값은 key에 저장\n",
    "    if key == ord('q'):\n",
    "        print('사용자에 의해서 영상이 종료')\n",
    "        break\n",
    "cap.release() # 카메라 연결 자원 해제\n",
    "cv2.destroyAllWindows()"
   ]
  },
  {
   "cell_type": "code",
   "execution_count": null,
   "id": "74c42fbe-bebc-4590-8186-b9f665e3f460",
   "metadata": {},
   "outputs": [],
   "source": []
  }
 ],
 "metadata": {
  "kernelspec": {
   "display_name": "Python 3 (ipykernel)",
   "language": "python",
   "name": "python3"
  },
  "language_info": {
   "codemirror_mode": {
    "name": "ipython",
    "version": 3
   },
   "file_extension": ".py",
   "mimetype": "text/x-python",
   "name": "python",
   "nbconvert_exporter": "python",
   "pygments_lexer": "ipython3",
   "version": "3.12.3"
  }
 },
 "nbformat": 4,
 "nbformat_minor": 5
}
