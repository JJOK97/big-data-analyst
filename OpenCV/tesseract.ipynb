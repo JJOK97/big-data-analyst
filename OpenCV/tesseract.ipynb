{
 "cells": [
  {
   "cell_type": "code",
   "execution_count": 2,
   "id": "e03c8085-bc8a-492b-942b-d60ca333f32a",
   "metadata": {},
   "outputs": [
    {
     "name": "stdout",
     "output_type": "stream",
     "text": [
      "Collecting pytesseract\n",
      "  Downloading pytesseract-0.3.13-py3-none-any.whl.metadata (11 kB)\n",
      "Requirement already satisfied: packaging>=21.3 in /home/jsock/venv/lib/python3.12/site-packages (from pytesseract) (25.0)\n",
      "Requirement already satisfied: Pillow>=8.0.0 in /home/jsock/venv/lib/python3.12/site-packages (from pytesseract) (11.2.1)\n",
      "Downloading pytesseract-0.3.13-py3-none-any.whl (14 kB)\n",
      "Installing collected packages: pytesseract\n",
      "Successfully installed pytesseract-0.3.13\n"
     ]
    }
   ],
   "source": [
    "!pip install pytesseract"
   ]
  },
  {
   "cell_type": "code",
   "execution_count": 3,
   "id": "ce2acc18-c33a-417c-85c4-094a64c7da98",
   "metadata": {},
   "outputs": [],
   "source": [
    "import pytesseract as pyt"
   ]
  },
  {
   "cell_type": "code",
   "execution_count": null,
   "id": "e15b0c38-2de0-4096-9371-b6aed869fbcd",
   "metadata": {},
   "outputs": [],
   "source": [
    "pyt.pytesseract.tesseract_cmd = r'\"C:\\Program Files\\Tesseract-OCR\\tesseract.exe\"'"
   ]
  }
 ],
 "metadata": {
  "kernelspec": {
   "display_name": "Python 3 (ipykernel)",
   "language": "python",
   "name": "python3"
  },
  "language_info": {
   "codemirror_mode": {
    "name": "ipython",
    "version": 3
   },
   "file_extension": ".py",
   "mimetype": "text/x-python",
   "name": "python",
   "nbconvert_exporter": "python",
   "pygments_lexer": "ipython3",
   "version": "3.12.3"
  }
 },
 "nbformat": 4,
 "nbformat_minor": 5
}
