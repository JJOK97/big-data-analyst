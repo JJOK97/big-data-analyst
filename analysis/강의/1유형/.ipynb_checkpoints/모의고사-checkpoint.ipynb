{
 "cells": [
  {
   "cell_type": "markdown",
   "id": "83e8c47a-fdf8-443a-bae6-454791c29eb3",
   "metadata": {},
   "source": [
    "문제1-1.  \n",
    "다음은 mtcars 데이터셋이다.  \n",
    "am, gear 컬럼 값 조합에 따라 아래와 같이 3개의 그룹으로 나뉜다고 할 때  \n",
    "3개 그룹의 mpg 표준편차를 구해 max값, min값을 확인하여  \n",
    "표준편차의 범위(range) 값을 구하시오.  \n",
    "(단, 정답은 반올림하여 소수점 첫재짜리까지 구하시오)  \n",
    "3개 그룹 : A그룹(am:1, gear:4), B그룹(am:0, gear:3), C그룹(am:0, gear:4)  \n"
   ]
  },
  {
   "cell_type": "code",
   "execution_count": 4,
   "id": "4e4c5ea9-da54-4d08-bb31-e379b4387cf3",
   "metadata": {},
   "outputs": [],
   "source": [
    "# 데이터 준비\n",
    "import pandas as pd\n",
    "import numpy as np\n",
    "df = pd.read_csv(\"mtcars.csv\")"
   ]
  },
  {
   "cell_type": "code",
   "execution_count": 5,
   "id": "dbd2d989-f9a7-4aa4-89f6-1c235f81da70",
   "metadata": {},
   "outputs": [
    {
     "data": {
      "text/plain": [
       "np.float64(2.3)"
      ]
     },
     "execution_count": 5,
     "metadata": {},
     "output_type": "execute_result"
    }
   ],
   "source": [
    "# df['am'].unique() # 0 1\n",
    "df['gear'].unique() # 4 3 5\n",
    "df = df[df['gear'] != 5.0]\n",
    "\n",
    "df = df.groupby(['am', 'gear']).agg({\n",
    "    'mpg':'std'})\n",
    "\n",
    "df = df.reset_index()\n",
    "\n",
    "max_value = df['mpg'].max()\n",
    "min_value = df['mpg'].min()\n",
    "round(max_value - min_value, 1)"
   ]
  },
  {
   "cell_type": "markdown",
   "id": "f362d446-80cd-48df-a343-e0d4b2d545bb",
   "metadata": {},
   "source": [
    "문제1-2.  \n",
    "다음은 mtcars 데이터셋이다.  \n",
    "5개 변수(disp, hp, drat, wt, qsec)들 중에  \n",
    "mpg 변수와 상관관계가 가장 큰 변수를 선정하고  \n",
    "선정한 변수를 최대-최소 정규화 진행 후 값이 0.5를 초과하는 데이터의 수와  \n",
    "선정한 변수를 z-score 표준화 진행하여 Z값이 1 을 초과하는 데이터 수를  \n",
    "더하면 얼마가 되는지 구하시오.  "
   ]
  },
  {
   "cell_type": "code",
   "execution_count": 6,
   "id": "66e8a9fc-db99-4377-af2e-84a035233ec0",
   "metadata": {},
   "outputs": [],
   "source": [
    "# 데이터 준비\n",
    "import pandas as pd\n",
    "import numpy as np\n",
    "df = pd.read_csv(\"mtcars.csv\")"
   ]
  },
  {
   "cell_type": "code",
   "execution_count": 7,
   "id": "f29244a3-9740-4322-8cc9-f58936be179b",
   "metadata": {},
   "outputs": [
    {
     "data": {
      "text/html": [
       "<div>\n",
       "<style scoped>\n",
       "    .dataframe tbody tr th:only-of-type {\n",
       "        vertical-align: middle;\n",
       "    }\n",
       "\n",
       "    .dataframe tbody tr th {\n",
       "        vertical-align: top;\n",
       "    }\n",
       "\n",
       "    .dataframe thead th {\n",
       "        text-align: right;\n",
       "    }\n",
       "</style>\n",
       "<table border=\"1\" class=\"dataframe\">\n",
       "  <thead>\n",
       "    <tr style=\"text-align: right;\">\n",
       "      <th></th>\n",
       "      <th>disp</th>\n",
       "      <th>hp</th>\n",
       "      <th>drat</th>\n",
       "      <th>wt</th>\n",
       "      <th>qsec</th>\n",
       "      <th>mpg</th>\n",
       "    </tr>\n",
       "  </thead>\n",
       "  <tbody>\n",
       "    <tr>\n",
       "      <th>disp</th>\n",
       "      <td>1.000000</td>\n",
       "      <td>0.790949</td>\n",
       "      <td>-0.710214</td>\n",
       "      <td>0.887980</td>\n",
       "      <td>-0.433698</td>\n",
       "      <td>-0.847551</td>\n",
       "    </tr>\n",
       "    <tr>\n",
       "      <th>hp</th>\n",
       "      <td>0.790949</td>\n",
       "      <td>1.000000</td>\n",
       "      <td>-0.448759</td>\n",
       "      <td>0.658748</td>\n",
       "      <td>-0.708223</td>\n",
       "      <td>-0.776168</td>\n",
       "    </tr>\n",
       "    <tr>\n",
       "      <th>drat</th>\n",
       "      <td>-0.710214</td>\n",
       "      <td>-0.448759</td>\n",
       "      <td>1.000000</td>\n",
       "      <td>-0.712441</td>\n",
       "      <td>0.091205</td>\n",
       "      <td>0.681172</td>\n",
       "    </tr>\n",
       "    <tr>\n",
       "      <th>wt</th>\n",
       "      <td>0.887980</td>\n",
       "      <td>0.658748</td>\n",
       "      <td>-0.712441</td>\n",
       "      <td>1.000000</td>\n",
       "      <td>-0.174716</td>\n",
       "      <td>-0.867659</td>\n",
       "    </tr>\n",
       "    <tr>\n",
       "      <th>qsec</th>\n",
       "      <td>-0.433698</td>\n",
       "      <td>-0.708223</td>\n",
       "      <td>0.091205</td>\n",
       "      <td>-0.174716</td>\n",
       "      <td>1.000000</td>\n",
       "      <td>0.418684</td>\n",
       "    </tr>\n",
       "    <tr>\n",
       "      <th>mpg</th>\n",
       "      <td>-0.847551</td>\n",
       "      <td>-0.776168</td>\n",
       "      <td>0.681172</td>\n",
       "      <td>-0.867659</td>\n",
       "      <td>0.418684</td>\n",
       "      <td>1.000000</td>\n",
       "    </tr>\n",
       "  </tbody>\n",
       "</table>\n",
       "</div>"
      ],
      "text/plain": [
       "          disp        hp      drat        wt      qsec       mpg\n",
       "disp  1.000000  0.790949 -0.710214  0.887980 -0.433698 -0.847551\n",
       "hp    0.790949  1.000000 -0.448759  0.658748 -0.708223 -0.776168\n",
       "drat -0.710214 -0.448759  1.000000 -0.712441  0.091205  0.681172\n",
       "wt    0.887980  0.658748 -0.712441  1.000000 -0.174716 -0.867659\n",
       "qsec -0.433698 -0.708223  0.091205 -0.174716  1.000000  0.418684\n",
       "mpg  -0.847551 -0.776168  0.681172 -0.867659  0.418684  1.000000"
      ]
     },
     "execution_count": 7,
     "metadata": {},
     "output_type": "execute_result"
    }
   ],
   "source": [
    "pd.get_dummies(df.loc[:,['disp', 'hp', 'drat', 'wt', 'qsec', 'mpg']]).corr()"
   ]
  },
  {
   "cell_type": "code",
   "execution_count": 8,
   "id": "fd1e9cde-417e-4cd3-93c3-ecd62bfc38da",
   "metadata": {},
   "outputs": [
    {
     "name": "stdout",
     "output_type": "stream",
     "text": [
      "14\n"
     ]
    }
   ],
   "source": [
    "df2 = df.copy()\n",
    "df3 = df.copy()\n",
    "\n",
    "max_value = df2[['wt']].max()\n",
    "min_value = df2[['wt']].min()\n",
    "\n",
    "df2 = (df2[['wt']] - min_value ) / (max_value - min_value)\n",
    "cond1 = len(df2[df2['wt'] > 0.5])\n",
    "df3 = ( df3[['wt']] - df3[['wt']].mean() ) / df3[['wt']].std()\n",
    "cond2 = len(df3[df3['wt'] > 1])\n",
    "print(cond1 + cond2)"
   ]
  },
  {
   "cell_type": "markdown",
   "id": "f09281cf-3cdc-488f-98b0-2653d8f965de",
   "metadata": {},
   "source": [
    "다음은 시간대별로 생산된 wine의 화학조성 데이터이다.  \n",
    "24년 1월에 생산된 wine과 24년 2월에 생산된 wine의  \n",
    "alcohol 변수 평균값 차이를 절대값으로 구하시오.  \n",
    "(단, 정답은 반올림하여 소수점 첫째자리까지 구하시오)  "
   ]
  },
  {
   "cell_type": "code",
   "execution_count": 9,
   "id": "fa97b844-1351-4071-93ea-72c5fca26a33",
   "metadata": {},
   "outputs": [],
   "source": [
    "############### 복사 영역 ###################\n",
    "from sklearn.datasets import load_wine\n",
    "# 와인 데이터셋을 로드합니다.\n",
    "wine = load_wine()\n",
    "X, y = load_wine(return_X_y= True, as_frame=True)\n",
    "df = X.copy() \n",
    "df['time'] = pd.date_range('2024-01-01 00:00:00', '2024-03-29 12:00:00', periods= 178)\n",
    "df = df[ ['time','alcohol','malic_acid','ash','magnesium'] ]\n",
    "df = df.set_index('time', drop=True)\n",
    "############### 복사 영역 ###################"
   ]
  },
  {
   "cell_type": "code",
   "execution_count": 10,
   "id": "fd7b0dec-a56f-4246-9218-6680b4f41044",
   "metadata": {},
   "outputs": [
    {
     "name": "stdout",
     "output_type": "stream",
     "text": [
      "<class 'pandas.core.frame.DataFrame'>\n",
      "DatetimeIndex: 178 entries, 2024-01-01 00:00:00 to 2024-03-29 12:00:00\n",
      "Data columns (total 4 columns):\n",
      " #   Column      Non-Null Count  Dtype  \n",
      "---  ------      --------------  -----  \n",
      " 0   alcohol     178 non-null    float64\n",
      " 1   malic_acid  178 non-null    float64\n",
      " 2   ash         178 non-null    float64\n",
      " 3   magnesium   178 non-null    float64\n",
      "dtypes: float64(4)\n",
      "memory usage: 7.0 KB\n"
     ]
    }
   ],
   "source": [
    "df.info()"
   ]
  },
  {
   "cell_type": "code",
   "execution_count": 11,
   "id": "b3ce144d-24cc-4291-9ea7-e000d774fd52",
   "metadata": {},
   "outputs": [],
   "source": [
    "df1 = df[(df.index.year == 2024) & (df.index.month == 1)]\n",
    "df2 = df[(df.index.year == 2024) & (df.index.month == 2)]"
   ]
  },
  {
   "cell_type": "code",
   "execution_count": 12,
   "id": "8a499cf1-b0b8-402c-b214-cd3481ee2540",
   "metadata": {},
   "outputs": [
    {
     "data": {
      "text/plain": [
       "np.float64(1.4)"
      ]
     },
     "execution_count": 12,
     "metadata": {},
     "output_type": "execute_result"
    }
   ],
   "source": [
    "cond1 = df1['alcohol'].mean()\n",
    "cond2 = df2['alcohol'].mean()\n",
    "\n",
    "result = round(abs(cond2 - cond1), 1)\n",
    "result"
   ]
  },
  {
   "cell_type": "markdown",
   "id": "80b82f66-9a4f-47dd-bbcb-48afb4487522",
   "metadata": {},
   "source": [
    "다음은 사람의 키(cm)와 몸무게(kg) 데이터이다.  \n",
    "BMI를 아래와 같은 공식으로 구할 수 있다고 할 때  \n",
    "정상에 속하는 사람과 비만에 속하는 사람의 인원 수 차이를  \n",
    "절대값으로 구하시오.  \n",
    "BMI 공식 = 몸무게(kg) / (키(m)의 제곱)  \n",
    "BMI 지수별 비만도  \n",
    "18.5미만 : 저체중  \n",
    "18.5이상 ~ 23미만 : 정상  \n",
    "23이상 ~ 25미만 : 과체중  \n",
    "25이상 ~ 30미만 : 비만  \n",
    "30이상 : 고도비만  "
   ]
  },
  {
   "cell_type": "code",
   "execution_count": 13,
   "id": "a22d5c2f-ccfd-40f4-80e5-eef4fcc59c91",
   "metadata": {},
   "outputs": [
    {
     "data": {
      "text/plain": [
       "3"
      ]
     },
     "execution_count": 13,
     "metadata": {},
     "output_type": "execute_result"
    }
   ],
   "source": [
    "############### 복사 영역 ###################\n",
    "# 데이터 생성\n",
    "data = {\n",
    "    'height': [172, 173, 161, 168, 176, 175, 172, 169, 175, 171, 178, 166, 176, 164, 169, 164, 163, 179, 168, 177, 179, 164, 169, 163, 162, 170, 175, 177, 163, 171],\n",
    "    'weight': [77, 70, 89, 90, 63, 85, 80, 78, 83, 66, 53, 85, 50, 55, 96, 75, 95, 100, 92, 90, 50, 89, 81, 71, 65, 96, 70, 95, 54, 62]\n",
    "}\n",
    "df = pd.DataFrame(data)\n",
    "############### 복사 영역 ###################\n",
    "\n",
    "df['bmi'] = df['weight'] / ((df['height']/100) ** 2)\n",
    "df['bmi_check'] = np.where(df['bmi'] >= 30, '고도비만',\n",
    "                           np.where(df['bmi'] >= 25, '비만',\n",
    "                                    np.where(df['bmi'] >= 23, '과체중',\n",
    "                                             np.where(df['bmi'] >= 18.5, '정상', '저체중'))))\n",
    "\n",
    "len(df[df['bmi_check'] == '비만']) - len(df[df['bmi_check'] == '정상'])"
   ]
  },
  {
   "cell_type": "markdown",
   "id": "7fcfa393-9a51-4a72-af7a-a2a3c323af0b",
   "metadata": {},
   "source": [
    "다음은 당뇨 진척정도 데이터셋이다.  \n",
    "주어진 변수들 중에 s3 변수와 음의 상관관계가 가장 큰 변수 2개의  \n",
    "상관계수 값을 구하고, 두 상관계수의 차이값을 절대값으로 구하시오.  \n",
    "(단, 반올림하여 소수점 첫째자리까지 구하시오)  "
   ]
  },
  {
   "cell_type": "code",
   "execution_count": 14,
   "id": "94ab5914-b475-4861-b36e-27c11b8593ec",
   "metadata": {},
   "outputs": [
    {
     "data": {
      "text/html": [
       "<div>\n",
       "<style scoped>\n",
       "    .dataframe tbody tr th:only-of-type {\n",
       "        vertical-align: middle;\n",
       "    }\n",
       "\n",
       "    .dataframe tbody tr th {\n",
       "        vertical-align: top;\n",
       "    }\n",
       "\n",
       "    .dataframe thead th {\n",
       "        text-align: right;\n",
       "    }\n",
       "</style>\n",
       "<table border=\"1\" class=\"dataframe\">\n",
       "  <thead>\n",
       "    <tr style=\"text-align: right;\">\n",
       "      <th></th>\n",
       "      <th>age</th>\n",
       "      <th>sex</th>\n",
       "      <th>bmi</th>\n",
       "      <th>bp</th>\n",
       "      <th>s1</th>\n",
       "      <th>s2</th>\n",
       "      <th>s3</th>\n",
       "      <th>s4</th>\n",
       "      <th>s5</th>\n",
       "      <th>s6</th>\n",
       "    </tr>\n",
       "  </thead>\n",
       "  <tbody>\n",
       "    <tr>\n",
       "      <th>0</th>\n",
       "      <td>0.038076</td>\n",
       "      <td>0.050680</td>\n",
       "      <td>0.061696</td>\n",
       "      <td>0.021872</td>\n",
       "      <td>-0.044223</td>\n",
       "      <td>-0.034821</td>\n",
       "      <td>-0.043401</td>\n",
       "      <td>-0.002592</td>\n",
       "      <td>0.019907</td>\n",
       "      <td>-0.017646</td>\n",
       "    </tr>\n",
       "    <tr>\n",
       "      <th>1</th>\n",
       "      <td>-0.001882</td>\n",
       "      <td>-0.044642</td>\n",
       "      <td>-0.051474</td>\n",
       "      <td>-0.026328</td>\n",
       "      <td>-0.008449</td>\n",
       "      <td>-0.019163</td>\n",
       "      <td>0.074412</td>\n",
       "      <td>-0.039493</td>\n",
       "      <td>-0.068332</td>\n",
       "      <td>-0.092204</td>\n",
       "    </tr>\n",
       "    <tr>\n",
       "      <th>2</th>\n",
       "      <td>0.085299</td>\n",
       "      <td>0.050680</td>\n",
       "      <td>0.044451</td>\n",
       "      <td>-0.005670</td>\n",
       "      <td>-0.045599</td>\n",
       "      <td>-0.034194</td>\n",
       "      <td>-0.032356</td>\n",
       "      <td>-0.002592</td>\n",
       "      <td>0.002861</td>\n",
       "      <td>-0.025930</td>\n",
       "    </tr>\n",
       "  </tbody>\n",
       "</table>\n",
       "</div>"
      ],
      "text/plain": [
       "        age       sex       bmi        bp        s1        s2        s3  \\\n",
       "0  0.038076  0.050680  0.061696  0.021872 -0.044223 -0.034821 -0.043401   \n",
       "1 -0.001882 -0.044642 -0.051474 -0.026328 -0.008449 -0.019163  0.074412   \n",
       "2  0.085299  0.050680  0.044451 -0.005670 -0.045599 -0.034194 -0.032356   \n",
       "\n",
       "         s4        s5        s6  \n",
       "0 -0.002592  0.019907 -0.017646  \n",
       "1 -0.039493 -0.068332 -0.092204  \n",
       "2 -0.002592  0.002861 -0.025930  "
      ]
     },
     "execution_count": 14,
     "metadata": {},
     "output_type": "execute_result"
    }
   ],
   "source": [
    "############### 복사 영역 ################### \n",
    "import pandas as pd\n",
    "import numpy as np\n",
    "from sklearn.datasets import load_diabetes\n",
    "# 당뇨진척정도 데이터셋을 로드합니다.\n",
    "X, y = load_diabetes(return_X_y= True, as_frame=True)\n",
    "df = X\n",
    "############### 복사 영역 ###################\n",
    "df.head(3)"
   ]
  },
  {
   "cell_type": "code",
   "execution_count": 15,
   "id": "820e4f85-9ed2-49df-81ba-919204809d31",
   "metadata": {},
   "outputs": [
    {
     "data": {
      "text/plain": [
       "s4   -0.738493\n",
       "s5   -0.398577\n",
       "Name: s3, dtype: float64"
      ]
     },
     "execution_count": 15,
     "metadata": {},
     "output_type": "execute_result"
    }
   ],
   "source": [
    "df.corr()['s3'].sort_values().head(2)"
   ]
  },
  {
   "cell_type": "code",
   "execution_count": 16,
   "id": "f46b1a40-6a3f-47b2-8e54-34aaf2607854",
   "metadata": {},
   "outputs": [
    {
     "data": {
      "text/plain": [
       "0.3"
      ]
     },
     "execution_count": 16,
     "metadata": {},
     "output_type": "execute_result"
    }
   ],
   "source": [
    "round(abs((-0.738493) - (-0.398577)),1)"
   ]
  },
  {
   "cell_type": "markdown",
   "id": "d74da04f-2413-4263-9323-488bff2fc4ae",
   "metadata": {},
   "source": [
    "다음은 wine의 화학조성 데이터셋이다.  \n",
    "magnesium 칼럼 값이 이상치를 나타내는 와인들을 선정하고  \n",
    "그 와인들 중에 class가 0인 와인의 비율을 구하시오.  \n",
    "(단, 이상치는 Z-score 표준화 후 값이 1.5를 초과하거나 1.5미만인 값이다)  \n",
    "(단, 이상치 비율은 반올림하여 소수점 둘째자리 까지 구하시오)  "
   ]
  },
  {
   "cell_type": "code",
   "execution_count": 17,
   "id": "40ec2a99-d884-474b-8268-639b4a3177bc",
   "metadata": {},
   "outputs": [
    {
     "name": "stdout",
     "output_type": "stream",
     "text": [
      "<class 'pandas.core.frame.DataFrame'>\n",
      "RangeIndex: 178 entries, 0 to 177\n",
      "Data columns (total 14 columns):\n",
      " #   Column                        Non-Null Count  Dtype  \n",
      "---  ------                        --------------  -----  \n",
      " 0   class                         178 non-null    int64  \n",
      " 1   alcohol                       178 non-null    float64\n",
      " 2   malic_acid                    178 non-null    float64\n",
      " 3   ash                           178 non-null    float64\n",
      " 4   alcalinity_of_ash             178 non-null    float64\n",
      " 5   magnesium                     178 non-null    float64\n",
      " 6   total_phenols                 178 non-null    float64\n",
      " 7   flavanoids                    178 non-null    float64\n",
      " 8   nonflavanoid_phenols          178 non-null    float64\n",
      " 9   proanthocyanins               178 non-null    float64\n",
      " 10  color_intensity               178 non-null    float64\n",
      " 11  hue                           178 non-null    float64\n",
      " 12  od280/od315_of_diluted_wines  178 non-null    float64\n",
      " 13  proline                       178 non-null    float64\n",
      "dtypes: float64(13), int64(1)\n",
      "memory usage: 19.6 KB\n"
     ]
    }
   ],
   "source": [
    "############### 복사 영역 ###################\n",
    "import pandas as pd\n",
    "import numpy as np\n",
    "from sklearn.datasets import load_wine\n",
    "# 와인 데이터셋을 로드합니다.\n",
    "X, y = load_wine(return_X_y= True, as_frame=True)\n",
    "df = pd.concat([y,X],axis=1)\n",
    "df.rename(columns={'target':'class'}, inplace=True)\n",
    "############### 복사 영역 ###################\n",
    "df.info()"
   ]
  },
  {
   "cell_type": "code",
   "execution_count": 18,
   "id": "d5740800-0fb3-461c-bb68-1e11545b777b",
   "metadata": {},
   "outputs": [
    {
     "data": {
      "text/plain": [
       "0.31"
      ]
     },
     "execution_count": 18,
     "metadata": {},
     "output_type": "execute_result"
    }
   ],
   "source": [
    "df['z_score'] = (df['magnesium'] - df['magnesium'].mean()) / df['magnesium'].std()\n",
    "df1 = df[df['z_score'] > 1.5] \n",
    "df2 = df[df['z_score'] < -1.5]\n",
    "count = len(df1) + len(df2)\n",
    "df1 = len(df1[df1['class'] == 0])\n",
    "df2 = len(df2[df2['class'] == 0])\n",
    "result = (df1 + df2) / count\n",
    "round(result,2)"
   ]
  },
  {
   "cell_type": "markdown",
   "id": "9a224845-3d83-4f7e-b56e-9660c284bf91",
   "metadata": {},
   "source": [
    "문제1-7  \n",
    "다음은 와인의 화학 조성 데이터셋이다.  \n",
    "ash 칼럼 값이 상자그림 기준으로 이상치를 나타내는 와인들을 선정하고  \n",
    "그 와인들 중에 class가 1인 와인의 비율을 구하시오.  \n",
    "(class 컬럼은 0,1,2의 값을 가지며 와인의 종류를 나타냄)  \n",
    "(단, 이상치 비율은 반올림하여 소수점 둘째자리 까지 구하시오  "
   ]
  },
  {
   "cell_type": "code",
   "execution_count": 19,
   "id": "e42a49d1-46b0-46ad-896b-d93240efab9b",
   "metadata": {},
   "outputs": [
    {
     "data": {
      "text/html": [
       "<div>\n",
       "<style scoped>\n",
       "    .dataframe tbody tr th:only-of-type {\n",
       "        vertical-align: middle;\n",
       "    }\n",
       "\n",
       "    .dataframe tbody tr th {\n",
       "        vertical-align: top;\n",
       "    }\n",
       "\n",
       "    .dataframe thead th {\n",
       "        text-align: right;\n",
       "    }\n",
       "</style>\n",
       "<table border=\"1\" class=\"dataframe\">\n",
       "  <thead>\n",
       "    <tr style=\"text-align: right;\">\n",
       "      <th></th>\n",
       "      <th>class</th>\n",
       "      <th>alcohol</th>\n",
       "      <th>malic_acid</th>\n",
       "      <th>ash</th>\n",
       "      <th>alcalinity_of_ash</th>\n",
       "      <th>magnesium</th>\n",
       "      <th>total_phenols</th>\n",
       "      <th>flavanoids</th>\n",
       "      <th>nonflavanoid_phenols</th>\n",
       "      <th>proanthocyanins</th>\n",
       "      <th>color_intensity</th>\n",
       "      <th>hue</th>\n",
       "      <th>od280/od315_of_diluted_wines</th>\n",
       "      <th>proline</th>\n",
       "    </tr>\n",
       "  </thead>\n",
       "  <tbody>\n",
       "    <tr>\n",
       "      <th>0</th>\n",
       "      <td>0</td>\n",
       "      <td>14.23</td>\n",
       "      <td>1.71</td>\n",
       "      <td>2.43</td>\n",
       "      <td>15.6</td>\n",
       "      <td>127.0</td>\n",
       "      <td>2.80</td>\n",
       "      <td>3.06</td>\n",
       "      <td>0.28</td>\n",
       "      <td>2.29</td>\n",
       "      <td>5.64</td>\n",
       "      <td>1.04</td>\n",
       "      <td>3.92</td>\n",
       "      <td>1065.0</td>\n",
       "    </tr>\n",
       "    <tr>\n",
       "      <th>1</th>\n",
       "      <td>0</td>\n",
       "      <td>13.20</td>\n",
       "      <td>1.78</td>\n",
       "      <td>2.14</td>\n",
       "      <td>11.2</td>\n",
       "      <td>100.0</td>\n",
       "      <td>2.65</td>\n",
       "      <td>2.76</td>\n",
       "      <td>0.26</td>\n",
       "      <td>1.28</td>\n",
       "      <td>4.38</td>\n",
       "      <td>1.05</td>\n",
       "      <td>3.40</td>\n",
       "      <td>1050.0</td>\n",
       "    </tr>\n",
       "    <tr>\n",
       "      <th>2</th>\n",
       "      <td>0</td>\n",
       "      <td>13.16</td>\n",
       "      <td>2.36</td>\n",
       "      <td>2.67</td>\n",
       "      <td>18.6</td>\n",
       "      <td>101.0</td>\n",
       "      <td>2.80</td>\n",
       "      <td>3.24</td>\n",
       "      <td>0.30</td>\n",
       "      <td>2.81</td>\n",
       "      <td>5.68</td>\n",
       "      <td>1.03</td>\n",
       "      <td>3.17</td>\n",
       "      <td>1185.0</td>\n",
       "    </tr>\n",
       "  </tbody>\n",
       "</table>\n",
       "</div>"
      ],
      "text/plain": [
       "   class  alcohol  malic_acid   ash  alcalinity_of_ash  magnesium  \\\n",
       "0      0    14.23        1.71  2.43               15.6      127.0   \n",
       "1      0    13.20        1.78  2.14               11.2      100.0   \n",
       "2      0    13.16        2.36  2.67               18.6      101.0   \n",
       "\n",
       "   total_phenols  flavanoids  nonflavanoid_phenols  proanthocyanins  \\\n",
       "0           2.80        3.06                  0.28             2.29   \n",
       "1           2.65        2.76                  0.26             1.28   \n",
       "2           2.80        3.24                  0.30             2.81   \n",
       "\n",
       "   color_intensity   hue  od280/od315_of_diluted_wines  proline  \n",
       "0             5.64  1.04                          3.92   1065.0  \n",
       "1             4.38  1.05                          3.40   1050.0  \n",
       "2             5.68  1.03                          3.17   1185.0  "
      ]
     },
     "execution_count": 19,
     "metadata": {},
     "output_type": "execute_result"
    }
   ],
   "source": [
    "############### 복사 영역 ###################\n",
    "import pandas as pd\n",
    "import numpy as np\n",
    "from sklearn.datasets import load_wine\n",
    "# 와인 데이터셋을 로드합니다.\n",
    "X, y = load_wine(return_X_y= True, as_frame=True)\n",
    "df = pd.concat([y,X],axis=1)\n",
    "df.rename(columns={'target':'class'}, inplace=True)\n",
    "############### 복사 영역 ###################\n",
    "df.head(3)"
   ]
  },
  {
   "cell_type": "code",
   "execution_count": 20,
   "id": "054ca6c0-c22a-40e1-883b-2776d8990728",
   "metadata": {},
   "outputs": [
    {
     "data": {
      "text/plain": [
       "0.67"
      ]
     },
     "execution_count": 20,
     "metadata": {},
     "output_type": "execute_result"
    }
   ],
   "source": [
    "Q3 = df['ash'].quantile(0.75)\n",
    "Q1 = df['ash'].quantile(0.25)\n",
    "IQR = Q3 - Q1\n",
    "upper = Q3 + 1.5 * IQR\n",
    "lower = Q1 - 1.5 * IQR\n",
    "\n",
    "df2 = df[(df['ash'] > upper) | (df['ash'] < lower)]\n",
    "cond1 = len(df2)\n",
    "cond2 = len(df2[df2['class'] == 1])\n",
    "result = round(cond2/cond1,2)\n",
    "result"
   ]
  },
  {
   "cell_type": "markdown",
   "id": "6346d7e5-ca67-4280-9e81-e42b6f2ed187",
   "metadata": {},
   "source": [
    "문제1-8  \n",
    "다음은 시간대별로 생산된 wine의 화학조성 데이터이다.  \n",
    "alcohol칼럼의 결측치를 모두 제거하고  \n",
    "첫번째 행부터 순서대로 50%까지의 데이터를 추출하여  \n",
    "24년 1월에 생산한 wine의 alcohol 최소값과  \n",
    "24년 2월에 생산한 wine의 alcohol 최소값의 차이를 절대값으로 구하시오.  \n",
    "(단, 정답은 반올림하여 소수점 첫째자리까지 구하시오)  "
   ]
  },
  {
   "cell_type": "code",
   "execution_count": 21,
   "id": "9244a9d3-e253-4ea7-a89e-93f665a0e953",
   "metadata": {},
   "outputs": [
    {
     "name": "stdout",
     "output_type": "stream",
     "text": [
      "12.85\n",
      "11.61\n"
     ]
    },
    {
     "data": {
      "text/plain": [
       "np.float64(1.2)"
      ]
     },
     "execution_count": 21,
     "metadata": {},
     "output_type": "execute_result"
    }
   ],
   "source": [
    "############### 복사 영역 ###################\n",
    "from sklearn.datasets import load_wine\n",
    "# 와인 데이터셋을 로드합니다.\n",
    "wine = load_wine()\n",
    "X, y = load_wine(return_X_y= True, as_frame=True)\n",
    "data = X.copy() \n",
    "data['time'] = pd.date_range('2024-01-01 00:00:00', '2024-03-29 12:00:00', periods= 178)\n",
    "# 열순서 변경(time 변수를 맨 앞으로)\n",
    "data = data[ ['time'] + [col for col in data if col != 'time'] ]\n",
    "# 결측치 생성\n",
    "data.loc[50:91, 'alcohol'] = np.nan\n",
    "df = data.copy() \n",
    "df = df.astype({'time':'object'})\n",
    "############### 복사 영역 ###################\n",
    "\n",
    "df= df.dropna(subset=['alcohol'])\n",
    "df = df.head(int(len(df)*0.5))\n",
    "df['time'] = pd.to_datetime(df['time'])\n",
    "\n",
    "cond1 = df[(df['time'].dt.year == 2024) & (df['time'].dt.month == 1)]['alcohol'].min()\n",
    "print(cond1)\n",
    "cond2 = df[(df['time'].dt.year == 2024) & (df['time'].dt.month == 2)]['alcohol'].min()\n",
    "print(cond2)\n",
    "\n",
    "result = round(abs(cond1 - cond2),1)\n",
    "result"
   ]
  },
  {
   "cell_type": "markdown",
   "id": "8ed5eadf-75b2-44d4-b397-b6b16b255cab",
   "metadata": {},
   "source": [
    "문제1-9  \n",
    "다음은 시간대별로 생산된 wine의 화학조성 데이터이다.  \n",
    "24년 3월에 생산된 wine의 alcohol칼럼의 결측치를  \n",
    "24년 1~2월에 생산한 wine의 alcohol 최소값으로 대체한 후  \n",
    "24년 3월 wine의 alcohol 이상치의 개수를 상자그림 기준으로 구하시오.  "
   ]
  },
  {
   "cell_type": "code",
   "execution_count": 22,
   "id": "f6c4378d-c0d5-429c-92ae-faab31462173",
   "metadata": {},
   "outputs": [],
   "source": [
    "############### 복사 영역 ###################\n",
    "from sklearn.datasets import load_wine\n",
    "# 와인 데이터셋을 로드합니다.\n",
    "wine = load_wine()\n",
    "X, y = load_wine(return_X_y= True, as_frame=True)\n",
    "data = X.copy() \n",
    "data['time'] = pd.date_range('2024-01-01 00:00:00', '2024-03-29 12:00:00', periods= 178)\n",
    "# 열순서 변경(time 변수를 맨 앞으로)\n",
    "data = data[ ['time'] + [col for col in data if col != 'time'] ]\n",
    "# 결측치 생성\n",
    "data.loc[140:176, 'alcohol'] = np.nan\n",
    "df = data.copy() \n",
    "df = df.astype({'time':'object'})\n",
    "############### 복사 영역 ###################"
   ]
  },
  {
   "cell_type": "code",
   "execution_count": 23,
   "id": "c59cca65-825c-4f97-8a12-65077208ed44",
   "metadata": {},
   "outputs": [
    {
     "name": "stdout",
     "output_type": "stream",
     "text": [
      "1\n"
     ]
    }
   ],
   "source": [
    "df['time'] = pd.to_datetime(df['time'])\n",
    "# 1~2월의 알콜 최솟값\n",
    "min_value = df[(df['time'].dt.year == 2024)&((df['time'].dt.month==1)|(df['time'].dt.month ==2))]['alcohol'].min()\n",
    "min_value\n",
    "\n",
    "# 결측치 채우기\n",
    "df.loc[(df['time'].dt.month == 3) & (df['alcohol'].isna()), 'alcohol'] = min_value\n",
    "\n",
    "# 3월 알콜 이상치 개수 박스플롯\n",
    "df_merch = df[(df['time'].dt.month == 3)][['alcohol']]\n",
    "Q3 = df_merch['alcohol'].quantile(0.75)\n",
    "Q1 = df_merch['alcohol'].quantile(0.25)\n",
    "IQR = Q3 - Q1\n",
    "upper = Q3 + 1.5 * IQR\n",
    "lower = Q1 - 1.5 * IQR\n",
    "\n",
    "# df_merch[df_merch['alcohol'] > upper]\n",
    "print(len(df_merch[(df_merch['alcohol'] > upper) | (df_merch['alcohol'] < lower)]))"
   ]
  },
  {
   "cell_type": "code",
   "execution_count": null,
   "id": "814f7215-ac9c-45fa-8dc4-165df42d45dc",
   "metadata": {},
   "outputs": [],
   "source": []
  }
 ],
 "metadata": {
  "kernelspec": {
   "display_name": "Python 3 (ipykernel)",
   "language": "python",
   "name": "python3"
  },
  "language_info": {
   "codemirror_mode": {
    "name": "ipython",
    "version": 3
   },
   "file_extension": ".py",
   "mimetype": "text/x-python",
   "name": "python",
   "nbconvert_exporter": "python",
   "pygments_lexer": "ipython3",
   "version": "3.12.3"
  }
 },
 "nbformat": 4,
 "nbformat_minor": 5
}
