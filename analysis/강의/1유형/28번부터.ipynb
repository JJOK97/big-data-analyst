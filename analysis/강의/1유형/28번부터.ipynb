{
 "cells": [
  {
   "cell_type": "code",
   "execution_count": 1,
   "id": "3afc750c-33f0-497c-9714-1284ed9117ce",
   "metadata": {},
   "outputs": [
    {
     "data": {
      "text/html": [
       "<div>\n",
       "<style scoped>\n",
       "    .dataframe tbody tr th:only-of-type {\n",
       "        vertical-align: middle;\n",
       "    }\n",
       "\n",
       "    .dataframe tbody tr th {\n",
       "        vertical-align: top;\n",
       "    }\n",
       "\n",
       "    .dataframe thead th {\n",
       "        text-align: right;\n",
       "    }\n",
       "</style>\n",
       "<table border=\"1\" class=\"dataframe\">\n",
       "  <thead>\n",
       "    <tr style=\"text-align: right;\">\n",
       "      <th></th>\n",
       "      <th>car</th>\n",
       "      <th>mpg</th>\n",
       "      <th>cyl</th>\n",
       "      <th>disp</th>\n",
       "      <th>hp</th>\n",
       "      <th>drat</th>\n",
       "      <th>wt</th>\n",
       "      <th>qsec</th>\n",
       "      <th>vs</th>\n",
       "      <th>am</th>\n",
       "      <th>gear</th>\n",
       "      <th>carb</th>\n",
       "    </tr>\n",
       "  </thead>\n",
       "  <tbody>\n",
       "    <tr>\n",
       "      <th>0</th>\n",
       "      <td>Mazda RX4</td>\n",
       "      <td>21.0</td>\n",
       "      <td>6</td>\n",
       "      <td>160.0</td>\n",
       "      <td>110</td>\n",
       "      <td>3.90</td>\n",
       "      <td>2.620</td>\n",
       "      <td>16.46</td>\n",
       "      <td>0</td>\n",
       "      <td>1</td>\n",
       "      <td>4</td>\n",
       "      <td>4</td>\n",
       "    </tr>\n",
       "    <tr>\n",
       "      <th>1</th>\n",
       "      <td>Mazda RX4 Wag</td>\n",
       "      <td>21.0</td>\n",
       "      <td>6</td>\n",
       "      <td>160.0</td>\n",
       "      <td>110</td>\n",
       "      <td>3.90</td>\n",
       "      <td>2.875</td>\n",
       "      <td>17.02</td>\n",
       "      <td>0</td>\n",
       "      <td>1</td>\n",
       "      <td>4</td>\n",
       "      <td>4</td>\n",
       "    </tr>\n",
       "    <tr>\n",
       "      <th>2</th>\n",
       "      <td>Datsun 710</td>\n",
       "      <td>22.8</td>\n",
       "      <td>4</td>\n",
       "      <td>108.0</td>\n",
       "      <td>93</td>\n",
       "      <td>3.85</td>\n",
       "      <td>2.320</td>\n",
       "      <td>18.61</td>\n",
       "      <td>1</td>\n",
       "      <td>1</td>\n",
       "      <td>4</td>\n",
       "      <td>1</td>\n",
       "    </tr>\n",
       "    <tr>\n",
       "      <th>3</th>\n",
       "      <td>Hornet 4 Drive</td>\n",
       "      <td>21.4</td>\n",
       "      <td>6</td>\n",
       "      <td>258.0</td>\n",
       "      <td>110</td>\n",
       "      <td>3.08</td>\n",
       "      <td>3.215</td>\n",
       "      <td>19.44</td>\n",
       "      <td>1</td>\n",
       "      <td>0</td>\n",
       "      <td>3</td>\n",
       "      <td>1</td>\n",
       "    </tr>\n",
       "    <tr>\n",
       "      <th>4</th>\n",
       "      <td>Hornet Sportabout</td>\n",
       "      <td>18.7</td>\n",
       "      <td>8</td>\n",
       "      <td>360.0</td>\n",
       "      <td>175</td>\n",
       "      <td>3.15</td>\n",
       "      <td>3.440</td>\n",
       "      <td>17.02</td>\n",
       "      <td>0</td>\n",
       "      <td>0</td>\n",
       "      <td>3</td>\n",
       "      <td>2</td>\n",
       "    </tr>\n",
       "  </tbody>\n",
       "</table>\n",
       "</div>"
      ],
      "text/plain": [
       "                 car   mpg  cyl   disp   hp  drat     wt   qsec  vs  am  gear  \\\n",
       "0          Mazda RX4  21.0    6  160.0  110  3.90  2.620  16.46   0   1     4   \n",
       "1      Mazda RX4 Wag  21.0    6  160.0  110  3.90  2.875  17.02   0   1     4   \n",
       "2         Datsun 710  22.8    4  108.0   93  3.85  2.320  18.61   1   1     4   \n",
       "3     Hornet 4 Drive  21.4    6  258.0  110  3.08  3.215  19.44   1   0     3   \n",
       "4  Hornet Sportabout  18.7    8  360.0  175  3.15  3.440  17.02   0   0     3   \n",
       "\n",
       "   carb  \n",
       "0     4  \n",
       "1     4  \n",
       "2     1  \n",
       "3     1  \n",
       "4     2  "
      ]
     },
     "execution_count": 1,
     "metadata": {},
     "output_type": "execute_result"
    }
   ],
   "source": [
    "# 데이터 불러오기\n",
    "import pandas as pd\n",
    "import numpy as np\n",
    "df = pd.read_csv(\"mtcars.csv\")\n",
    "df.head()"
   ]
  },
  {
   "cell_type": "code",
   "execution_count": 37,
   "id": "36342056-4278-466d-ace7-bf7987c88185",
   "metadata": {},
   "outputs": [
    {
     "data": {
      "text/plain": [
       "7"
      ]
     },
     "execution_count": 37,
     "metadata": {},
     "output_type": "execute_result"
    }
   ],
   "source": [
    "# 문제 28\n",
    "# car 변수 값 중에서 'Merc'를 포함하는 데이터는 몇 개 인가?\n",
    "df = pd.read_csv(\"mtcars.csv\")\n",
    "len(df[df['car'].str.contains('Merc')])"
   ]
  },
  {
   "cell_type": "code",
   "execution_count": 50,
   "id": "95402def-2cd2-4065-9a68-3cc0305d893c",
   "metadata": {},
   "outputs": [
    {
     "data": {
      "text/plain": [
       "2"
      ]
     },
     "execution_count": 50,
     "metadata": {},
     "output_type": "execute_result"
    }
   ],
   "source": [
    "# 문제 29\n",
    "# car 변수 값이 'Dino'로 끝나는 데이터와 'Porsche'로 시작하는 데이터 수의 합은?\n",
    "df = pd.read_csv(\"mtcars.csv\")\n",
    "cond1 = len(df[df['car'].str.endswith('Dino')])\n",
    "cond2 = len(df[df['car'].str.startswith('Porsche')])\n",
    "\n",
    "cond1 + cond2"
   ]
  },
  {
   "cell_type": "code",
   "execution_count": 53,
   "id": "0d2de0ec-8e9f-48a5-b892-c627fe8e2fd0",
   "metadata": {},
   "outputs": [
    {
     "data": {
      "text/plain": [
       "30"
      ]
     },
     "execution_count": 53,
     "metadata": {},
     "output_type": "execute_result"
    }
   ],
   "source": [
    "# 문제 30\n",
    "# car 변수 값이 'Toyota'를 포함하지 않는 데이터는 몇 개 인가?\n",
    "df = pd.read_csv(\"mtcars.csv\")\n",
    "\n",
    "len(df[~df['car'].str.contains('Toyota')])"
   ]
  },
  {
   "cell_type": "code",
   "execution_count": 93,
   "id": "9ee29838-285d-4d3d-954e-8cecb31b1342",
   "metadata": {},
   "outputs": [
    {
     "data": {
      "text/plain": [
       "mpg    26.0\n",
       "dtype: float64"
      ]
     },
     "execution_count": 93,
     "metadata": {},
     "output_type": "execute_result"
    }
   ],
   "source": [
    "# 문제 31\n",
    "# groupby 함수를 활용해 cyl, vs 그룹별로 mpg값의 중앙값을 확인했을 때\n",
    "# 가장 큰 중앙값은?\n",
    "df = pd.read_csv(\"mtcars.csv\")\n",
    "\n",
    "df.groupby(by=['cyl', 'vs'])[['mpg']].median().max()"
   ]
  },
  {
   "cell_type": "code",
   "execution_count": 119,
   "id": "e1dcf2a4-c811-40bb-84c7-af3f004bd9a1",
   "metadata": {},
   "outputs": [
    {
     "data": {
      "text/plain": [
       "10"
      ]
     },
     "execution_count": 119,
     "metadata": {},
     "output_type": "execute_result"
    }
   ],
   "source": [
    "# 문제 32 ***\n",
    "# 근속연수 변수의 결측치를 각 부서별 같은 평가등급의 평균 근속연수로 채우고,\n",
    "# 근속연수의 평균을 구하시오\n",
    "# (단, 근속연수의 결측치, 평균값은 소수점을 버리고 정수로 채우시오)\n",
    "\n",
    "### 복사영역 ###\n",
    "import pandas as pd\n",
    "import numpy as np\n",
    "df = pd.DataFrame({\n",
    "\"부서\": [\"marketing\"] * 9 + [\"it\"] * 9,\n",
    "\"평가등급\": [\"A\", \"A\", \"A\", \"B\", \"B\", \"B\", \"C\", \"C\", \"C\",\n",
    "         \"A\", \"A\", \"A\", \"B\", \"B\", \"B\", \"C\", \"C\", \"C\"],\n",
    "\"근속연수\": [9, None, 12, 14, None, 17, 19, None, 22,\n",
    "2, None, 5, 5, None, 8, 8, None, 10]\n",
    "})\n",
    "\n",
    "df2 = df.copy()\n",
    "df2['근속연수'] = df2['근속연수'].fillna(df2.groupby(by = ['부서', '평가등급'])['근속연수'].transform('mean'))\n",
    "df2['근속연수'] = df2['근속연수'].astype(int)\n",
    "df2['근속연수'].mean().astype(int)"
   ]
  },
  {
   "cell_type": "code",
   "execution_count": 123,
   "id": "7b99e3b7-c74c-4512-8ba9-abe29a55463b",
   "metadata": {},
   "outputs": [
    {
     "data": {
      "text/plain": [
       "455.0"
      ]
     },
     "execution_count": 123,
     "metadata": {},
     "output_type": "execute_result"
    }
   ],
   "source": [
    "# 문제 33\n",
    "# 제품가격(price) 변수의 결측치를 마트(mart)별 같은 제품(product)의\n",
    "# 중앙값으로 채우고 제품가격(price)의 중앙값을 구하시오.\n",
    "# (단, 정답은 소수점 둘째자리에서 반올림하시오)\n",
    "### 복사영역 ###\n",
    "import pandas as pd\n",
    "import numpy as np\n",
    "df = pd.DataFrame({\n",
    "\"mart\": [\"A\"] * 9 + [\"B\"] * 9, # A = emart, B = homeplus\n",
    "\"product\": [\"tv\", \"tv\", \"tv\", \"ac\", \"ac\", \"ac\", \"wm\", \"wm\", \"wm\"] * 2,\n",
    "\"price\": [\n",
    "120, None, 130,\n",
    "450, None, 470,\n",
    "900, None, 950,\n",
    "125, None, 135,\n",
    "440, None, 460,\n",
    "910, None, 940]})\n",
    "\n",
    "df['price'] = df['price'].fillna(df.groupby(['mart', 'product'])['price'].transform('median'))\n",
    "round(df['price'].median(), 2)"
   ]
  },
  {
   "cell_type": "code",
   "execution_count": 125,
   "id": "49f6755b-6a47-4e4b-8e86-bf26743a5a3a",
   "metadata": {},
   "outputs": [
    {
     "data": {
      "text/html": [
       "<div>\n",
       "<style scoped>\n",
       "    .dataframe tbody tr th:only-of-type {\n",
       "        vertical-align: middle;\n",
       "    }\n",
       "\n",
       "    .dataframe tbody tr th {\n",
       "        vertical-align: top;\n",
       "    }\n",
       "\n",
       "    .dataframe thead th {\n",
       "        text-align: right;\n",
       "    }\n",
       "</style>\n",
       "<table border=\"1\" class=\"dataframe\">\n",
       "  <thead>\n",
       "    <tr style=\"text-align: right;\">\n",
       "      <th></th>\n",
       "      <th></th>\n",
       "      <th></th>\n",
       "      <th>mpg</th>\n",
       "    </tr>\n",
       "    <tr>\n",
       "      <th>vs</th>\n",
       "      <th>am</th>\n",
       "      <th>gear</th>\n",
       "      <th></th>\n",
       "    </tr>\n",
       "  </thead>\n",
       "  <tbody>\n",
       "    <tr>\n",
       "      <th rowspan=\"3\" valign=\"top\">0</th>\n",
       "      <th>0</th>\n",
       "      <th>3</th>\n",
       "      <td>15.050000</td>\n",
       "    </tr>\n",
       "    <tr>\n",
       "      <th rowspan=\"2\" valign=\"top\">1</th>\n",
       "      <th>4</th>\n",
       "      <td>21.000000</td>\n",
       "    </tr>\n",
       "    <tr>\n",
       "      <th>5</th>\n",
       "      <td>19.125000</td>\n",
       "    </tr>\n",
       "    <tr>\n",
       "      <th rowspan=\"4\" valign=\"top\">1</th>\n",
       "      <th rowspan=\"2\" valign=\"top\">0</th>\n",
       "      <th>3</th>\n",
       "      <td>20.333333</td>\n",
       "    </tr>\n",
       "    <tr>\n",
       "      <th>4</th>\n",
       "      <td>21.050000</td>\n",
       "    </tr>\n",
       "    <tr>\n",
       "      <th rowspan=\"2\" valign=\"top\">1</th>\n",
       "      <th>4</th>\n",
       "      <td>28.033333</td>\n",
       "    </tr>\n",
       "    <tr>\n",
       "      <th>5</th>\n",
       "      <td>30.400000</td>\n",
       "    </tr>\n",
       "  </tbody>\n",
       "</table>\n",
       "</div>"
      ],
      "text/plain": [
       "                  mpg\n",
       "vs am gear           \n",
       "0  0  3     15.050000\n",
       "   1  4     21.000000\n",
       "      5     19.125000\n",
       "1  0  3     20.333333\n",
       "      4     21.050000\n",
       "   1  4     28.033333\n",
       "      5     30.400000"
      ]
     },
     "execution_count": 125,
     "metadata": {},
     "output_type": "execute_result"
    }
   ],
   "source": [
    "# 문제 34\n",
    "# pivot_table 함수를 활용해서 vs값이 0, am값이 0, gear값이 3인 그룹의\n",
    "# mpg 평균값을 구하시오.\n",
    "df = pd.read_csv(\"mtcars.csv\")\n",
    "\n",
    "result = pd.pivot_table(df, index = ['vs', 'am', 'gear'], values = ['mpg'], aggfunc = 'mean')\n",
    "result"
   ]
  },
  {
   "cell_type": "code",
   "execution_count": 119,
   "id": "167e2373-2a12-46d7-915b-c680be3b0973",
   "metadata": {},
   "outputs": [
    {
     "data": {
      "text/html": [
       "<div>\n",
       "<style scoped>\n",
       "    .dataframe tbody tr th:only-of-type {\n",
       "        vertical-align: middle;\n",
       "    }\n",
       "\n",
       "    .dataframe tbody tr th {\n",
       "        vertical-align: top;\n",
       "    }\n",
       "\n",
       "    .dataframe thead th {\n",
       "        text-align: right;\n",
       "    }\n",
       "</style>\n",
       "<table border=\"1\" class=\"dataframe\">\n",
       "  <thead>\n",
       "    <tr style=\"text-align: right;\">\n",
       "      <th></th>\n",
       "      <th>vs</th>\n",
       "      <th>am</th>\n",
       "      <th>gear</th>\n",
       "      <th>mpg</th>\n",
       "    </tr>\n",
       "  </thead>\n",
       "  <tbody>\n",
       "    <tr>\n",
       "      <th>0</th>\n",
       "      <td>0</td>\n",
       "      <td>0</td>\n",
       "      <td>3</td>\n",
       "      <td>12</td>\n",
       "    </tr>\n",
       "    <tr>\n",
       "      <th>1</th>\n",
       "      <td>0</td>\n",
       "      <td>1</td>\n",
       "      <td>4</td>\n",
       "      <td>2</td>\n",
       "    </tr>\n",
       "    <tr>\n",
       "      <th>2</th>\n",
       "      <td>0</td>\n",
       "      <td>1</td>\n",
       "      <td>5</td>\n",
       "      <td>4</td>\n",
       "    </tr>\n",
       "    <tr>\n",
       "      <th>3</th>\n",
       "      <td>1</td>\n",
       "      <td>0</td>\n",
       "      <td>3</td>\n",
       "      <td>3</td>\n",
       "    </tr>\n",
       "    <tr>\n",
       "      <th>4</th>\n",
       "      <td>1</td>\n",
       "      <td>0</td>\n",
       "      <td>4</td>\n",
       "      <td>4</td>\n",
       "    </tr>\n",
       "    <tr>\n",
       "      <th>5</th>\n",
       "      <td>1</td>\n",
       "      <td>1</td>\n",
       "      <td>4</td>\n",
       "      <td>6</td>\n",
       "    </tr>\n",
       "    <tr>\n",
       "      <th>6</th>\n",
       "      <td>1</td>\n",
       "      <td>1</td>\n",
       "      <td>5</td>\n",
       "      <td>1</td>\n",
       "    </tr>\n",
       "  </tbody>\n",
       "</table>\n",
       "</div>"
      ],
      "text/plain": [
       "   vs  am  gear  mpg\n",
       "0   0   0     3   12\n",
       "1   0   1     4    2\n",
       "2   0   1     5    4\n",
       "3   1   0     3    3\n",
       "4   1   0     4    4\n",
       "5   1   1     4    6\n",
       "6   1   1     5    1"
      ]
     },
     "execution_count": 119,
     "metadata": {},
     "output_type": "execute_result"
    }
   ],
   "source": [
    "# 문제 35 ***\n",
    "# pivot_table 함수를 활용해서\n",
    "# vs값이 0, am값이 0, gear값이 3인 그룹의 데이터 수와\n",
    "# vs값이 1, am값이 0, gear값이 4인 그룹의 데이터 수의 차이를\n",
    "# 절대값으로 구하시오.\n",
    "df = pd.read_csv(\"mtcars.csv\")\n",
    "\n",
    "# print(pd.pivot_table.__doc__)\n",
    "result = pd.pivot_table(df, index = ['vs', 'am', 'gear'], values = 'mpg', aggfunc = 'count')\n",
    "result.reset_index()"
   ]
  },
  {
   "cell_type": "code",
   "execution_count": 154,
   "id": "25e423eb-dbc4-48c2-a359-8bbbae84de24",
   "metadata": {},
   "outputs": [
    {
     "data": {
      "text/html": [
       "<div>\n",
       "<style scoped>\n",
       "    .dataframe tbody tr th:only-of-type {\n",
       "        vertical-align: middle;\n",
       "    }\n",
       "\n",
       "    .dataframe tbody tr th {\n",
       "        vertical-align: top;\n",
       "    }\n",
       "\n",
       "    .dataframe thead th {\n",
       "        text-align: right;\n",
       "    }\n",
       "</style>\n",
       "<table border=\"1\" class=\"dataframe\">\n",
       "  <thead>\n",
       "    <tr style=\"text-align: right;\">\n",
       "      <th></th>\n",
       "      <th>매출</th>\n",
       "    </tr>\n",
       "    <tr>\n",
       "      <th>region</th>\n",
       "      <th></th>\n",
       "    </tr>\n",
       "  </thead>\n",
       "  <tbody>\n",
       "    <tr>\n",
       "      <th>east</th>\n",
       "      <td>4810</td>\n",
       "    </tr>\n",
       "    <tr>\n",
       "      <th>south</th>\n",
       "      <td>3690</td>\n",
       "    </tr>\n",
       "    <tr>\n",
       "      <th>north</th>\n",
       "      <td>3560</td>\n",
       "    </tr>\n",
       "    <tr>\n",
       "      <th>west</th>\n",
       "      <td>2900</td>\n",
       "    </tr>\n",
       "  </tbody>\n",
       "</table>\n",
       "</div>"
      ],
      "text/plain": [
       "          매출\n",
       "region      \n",
       "east    4810\n",
       "south   3690\n",
       "north   3560\n",
       "west    2900"
      ]
     },
     "execution_count": 154,
     "metadata": {},
     "output_type": "execute_result"
    }
   ],
   "source": [
    "# 문제 36\n",
    "# 다음은 지역별 제품의 판매 관련 데이터이다.\n",
    "# 매출(price*quantity)의 총합이 가장 큰 지역은 어디인가?\n",
    "### 복사영역 ###\n",
    "import pandas as pd\n",
    "import numpy as np\n",
    "df = pd.DataFrame({\n",
    "'region': ['north', 'south', 'east', 'west', 'north', 'south', 'east', 'west'],\n",
    "'product': ['a', 'a', 'b', 'b', 'c', 'c', 'a', 'a'],\n",
    "'price': [100, 150, 200, 130, 160, 120, 90, 110],\n",
    "'quantity': [10, 15, 20, 13, 16, 12, 9, 11]})\n",
    "### 복사영역 ###\n",
    "\n",
    "df['매출'] = df['price'] * df['quantity']\n",
    "df = df.groupby(['region']).agg({\n",
    "    '매출':'sum'}).sort_values('매출', ascending = False)\n",
    "df"
   ]
  },
  {
   "cell_type": "code",
   "execution_count": 163,
   "id": "e21f0cc6-7eb3-49a0-ba0b-375837f6b0cd",
   "metadata": {},
   "outputs": [
    {
     "data": {
      "text/plain": [
       "38.9"
      ]
     },
     "execution_count": 163,
     "metadata": {},
     "output_type": "execute_result"
    }
   ],
   "source": [
    "# 문제 37 ***\n",
    "# mpg 값이 25이상이면 high, 15이상 25미만이면 medium, 15미만이면 low로\n",
    "# 범주화하고 mpg값이 high인 그룹과 low인 그룹의 disp 표준편차의 차이를\n",
    "# 절대값으로 구하시오.\n",
    "df = pd.read_csv(\"mtcars.csv\")\n",
    "df['check'] = np.where(df['mpg'] >= 25, 'high', np.where(df['mpg'] >= 15, 'medium', 'low'))\n",
    "round(abs(df[df['check'] == 'high']['disp'].std() - df[df['check'] == 'low']['disp'].std()), 1)"
   ]
  },
  {
   "cell_type": "code",
   "execution_count": 152,
   "id": "48855f99-e50f-43e2-90e3-f6d09b8f168d",
   "metadata": {
    "scrolled": true
   },
   "outputs": [
    {
     "ename": "KeyError",
     "evalue": "'수학점수'",
     "output_type": "error",
     "traceback": [
      "\u001b[0;31m---------------------------------------------------------------------------\u001b[0m",
      "\u001b[0;31mKeyError\u001b[0m                                  Traceback (most recent call last)",
      "File \u001b[0;32m~/venv/lib/python3.12/site-packages/pandas/core/indexes/base.py:3805\u001b[0m, in \u001b[0;36mIndex.get_loc\u001b[0;34m(self, key)\u001b[0m\n\u001b[1;32m   3804\u001b[0m \u001b[38;5;28;01mtry\u001b[39;00m:\n\u001b[0;32m-> 3805\u001b[0m     \u001b[38;5;28;01mreturn\u001b[39;00m \u001b[38;5;28;43mself\u001b[39;49m\u001b[38;5;241;43m.\u001b[39;49m\u001b[43m_engine\u001b[49m\u001b[38;5;241;43m.\u001b[39;49m\u001b[43mget_loc\u001b[49m\u001b[43m(\u001b[49m\u001b[43mcasted_key\u001b[49m\u001b[43m)\u001b[49m\n\u001b[1;32m   3806\u001b[0m \u001b[38;5;28;01mexcept\u001b[39;00m \u001b[38;5;167;01mKeyError\u001b[39;00m \u001b[38;5;28;01mas\u001b[39;00m err:\n",
      "File \u001b[0;32mindex.pyx:167\u001b[0m, in \u001b[0;36mpandas._libs.index.IndexEngine.get_loc\u001b[0;34m()\u001b[0m\n",
      "File \u001b[0;32mindex.pyx:196\u001b[0m, in \u001b[0;36mpandas._libs.index.IndexEngine.get_loc\u001b[0;34m()\u001b[0m\n",
      "File \u001b[0;32mpandas/_libs/hashtable_class_helper.pxi:7081\u001b[0m, in \u001b[0;36mpandas._libs.hashtable.PyObjectHashTable.get_item\u001b[0;34m()\u001b[0m\n",
      "File \u001b[0;32mpandas/_libs/hashtable_class_helper.pxi:7089\u001b[0m, in \u001b[0;36mpandas._libs.hashtable.PyObjectHashTable.get_item\u001b[0;34m()\u001b[0m\n",
      "\u001b[0;31mKeyError\u001b[0m: '수학점수'",
      "\nThe above exception was the direct cause of the following exception:\n",
      "\u001b[0;31mKeyError\u001b[0m                                  Traceback (most recent call last)",
      "Cell \u001b[0;32mIn[152], line 18\u001b[0m\n\u001b[1;32m     15\u001b[0m \u001b[38;5;66;03m### 복사영역 ###\u001b[39;00m\n\u001b[1;32m     16\u001b[0m df\n\u001b[0;32m---> 18\u001b[0m df2 \u001b[38;5;241m=\u001b[39m np\u001b[38;5;241m.\u001b[39mwhere(\u001b[43mdf\u001b[49m\u001b[43m[\u001b[49m\u001b[38;5;124;43m'\u001b[39;49m\u001b[38;5;124;43m수학점수\u001b[39;49m\u001b[38;5;124;43m'\u001b[39;49m\u001b[43m]\u001b[49m \u001b[38;5;241m>\u001b[39m df[\u001b[38;5;124m'\u001b[39m\u001b[38;5;124m영어점수\u001b[39m\u001b[38;5;124m'\u001b[39m], \n\u001b[1;32m     19\u001b[0m                np\u001b[38;5;241m.\u001b[39mwhere(df[\u001b[38;5;124m'\u001b[39m\u001b[38;5;124m수학점수\u001b[39m\u001b[38;5;124m'\u001b[39m] \u001b[38;5;241m>\u001b[39m df[\u001b[38;5;124m'\u001b[39m\u001b[38;5;124m과학점수\u001b[39m\u001b[38;5;124m'\u001b[39m], df[\u001b[38;5;124m'\u001b[39m\u001b[38;5;124m수학점수\u001b[39m\u001b[38;5;124m'\u001b[39m], \n\u001b[1;32m     20\u001b[0m                  np\u001b[38;5;241m.\u001b[39mwhere(df[\u001b[38;5;124m'\u001b[39m\u001b[38;5;124m과학점수\u001b[39m\u001b[38;5;124m'\u001b[39m] \u001b[38;5;241m>\u001b[39m df[\u001b[38;5;124m'\u001b[39m\u001b[38;5;124m영어점수\u001b[39m\u001b[38;5;124m'\u001b[39m], df[\u001b[38;5;124m'\u001b[39m\u001b[38;5;124m과학점수\u001b[39m\u001b[38;5;124m'\u001b[39m], df[\u001b[38;5;124m'\u001b[39m\u001b[38;5;124m영어점수\u001b[39m\u001b[38;5;124m'\u001b[39m]),\n\u001b[1;32m     21\u001b[0m                          np\u001b[38;5;241m.\u001b[39mwhere(df[\u001b[38;5;124m'\u001b[39m\u001b[38;5;124m영어점수\u001b[39m\u001b[38;5;124m'\u001b[39m] \u001b[38;5;241m>\u001b[39m df[\u001b[38;5;124m'\u001b[39m\u001b[38;5;124m과학점수\u001b[39m\u001b[38;5;124m'\u001b[39m], df[\u001b[38;5;124m'\u001b[39m\u001b[38;5;124m영어점수\u001b[39m\u001b[38;5;124m'\u001b[39m], df[\u001b[38;5;124m'\u001b[39m\u001b[38;5;124m과학점수\u001b[39m\u001b[38;5;124m'\u001b[39m])))\n",
      "File \u001b[0;32m~/venv/lib/python3.12/site-packages/pandas/core/frame.py:4102\u001b[0m, in \u001b[0;36mDataFrame.__getitem__\u001b[0;34m(self, key)\u001b[0m\n\u001b[1;32m   4100\u001b[0m \u001b[38;5;28;01mif\u001b[39;00m \u001b[38;5;28mself\u001b[39m\u001b[38;5;241m.\u001b[39mcolumns\u001b[38;5;241m.\u001b[39mnlevels \u001b[38;5;241m>\u001b[39m \u001b[38;5;241m1\u001b[39m:\n\u001b[1;32m   4101\u001b[0m     \u001b[38;5;28;01mreturn\u001b[39;00m \u001b[38;5;28mself\u001b[39m\u001b[38;5;241m.\u001b[39m_getitem_multilevel(key)\n\u001b[0;32m-> 4102\u001b[0m indexer \u001b[38;5;241m=\u001b[39m \u001b[38;5;28;43mself\u001b[39;49m\u001b[38;5;241;43m.\u001b[39;49m\u001b[43mcolumns\u001b[49m\u001b[38;5;241;43m.\u001b[39;49m\u001b[43mget_loc\u001b[49m\u001b[43m(\u001b[49m\u001b[43mkey\u001b[49m\u001b[43m)\u001b[49m\n\u001b[1;32m   4103\u001b[0m \u001b[38;5;28;01mif\u001b[39;00m is_integer(indexer):\n\u001b[1;32m   4104\u001b[0m     indexer \u001b[38;5;241m=\u001b[39m [indexer]\n",
      "File \u001b[0;32m~/venv/lib/python3.12/site-packages/pandas/core/indexes/base.py:3812\u001b[0m, in \u001b[0;36mIndex.get_loc\u001b[0;34m(self, key)\u001b[0m\n\u001b[1;32m   3807\u001b[0m     \u001b[38;5;28;01mif\u001b[39;00m \u001b[38;5;28misinstance\u001b[39m(casted_key, \u001b[38;5;28mslice\u001b[39m) \u001b[38;5;129;01mor\u001b[39;00m (\n\u001b[1;32m   3808\u001b[0m         \u001b[38;5;28misinstance\u001b[39m(casted_key, abc\u001b[38;5;241m.\u001b[39mIterable)\n\u001b[1;32m   3809\u001b[0m         \u001b[38;5;129;01mand\u001b[39;00m \u001b[38;5;28many\u001b[39m(\u001b[38;5;28misinstance\u001b[39m(x, \u001b[38;5;28mslice\u001b[39m) \u001b[38;5;28;01mfor\u001b[39;00m x \u001b[38;5;129;01min\u001b[39;00m casted_key)\n\u001b[1;32m   3810\u001b[0m     ):\n\u001b[1;32m   3811\u001b[0m         \u001b[38;5;28;01mraise\u001b[39;00m InvalidIndexError(key)\n\u001b[0;32m-> 3812\u001b[0m     \u001b[38;5;28;01mraise\u001b[39;00m \u001b[38;5;167;01mKeyError\u001b[39;00m(key) \u001b[38;5;28;01mfrom\u001b[39;00m\u001b[38;5;250m \u001b[39m\u001b[38;5;21;01merr\u001b[39;00m\n\u001b[1;32m   3813\u001b[0m \u001b[38;5;28;01mexcept\u001b[39;00m \u001b[38;5;167;01mTypeError\u001b[39;00m:\n\u001b[1;32m   3814\u001b[0m     \u001b[38;5;66;03m# If we have a listlike key, _check_indexing_error will raise\u001b[39;00m\n\u001b[1;32m   3815\u001b[0m     \u001b[38;5;66;03m#  InvalidIndexError. Otherwise we fall through and re-raise\u001b[39;00m\n\u001b[1;32m   3816\u001b[0m     \u001b[38;5;66;03m#  the TypeError.\u001b[39;00m\n\u001b[1;32m   3817\u001b[0m     \u001b[38;5;28mself\u001b[39m\u001b[38;5;241m.\u001b[39m_check_indexing_error(key)\n",
      "\u001b[0;31mKeyError\u001b[0m: '수학점수'"
     ]
    }
   ],
   "source": [
    "# 문제 38\n",
    "# 다음은 학생별(학생ID) 선택과목의 점수, 과목별 강의실 정보에 대한 데이터다.\n",
    "# 학생별 선택과목의 과목점수가 가장 큰 학생의 학생ID 를 구하시오.\n",
    "### 복사영역 ###\n",
    "import pandas as pd\n",
    "df = pd.DataFrame({\n",
    "'학생ID': [201, 202, 203, 204, 205],\n",
    "'선택과목': ['수학', '영어', '과학', '수학', '영어'],\n",
    "'수학_점수': [88, 92, 85, 91, 87],\n",
    "'영어_점수': [78, 81, 79, 75, 83],\n",
    "'과학_점수': [89, 85, 90, 88, 84],\n",
    "'수학_강의실': ['101호']*5,\n",
    "'영어_강의실': ['102호']*5,\n",
    "'과학_강의실': ['103호']*5})\n",
    "### 복사영역 ###\n",
    "df\n",
    "\n",
    "# df.apply(lambda low: df[df[f'{df['선택과목']}_점수']\n"
   ]
  },
  {
   "cell_type": "code",
   "execution_count": 170,
   "id": "76135032-a736-4c6f-b3b5-feac0f14da7a",
   "metadata": {},
   "outputs": [
    {
     "data": {
      "text/plain": [
       "509"
      ]
     },
     "execution_count": 170,
     "metadata": {},
     "output_type": "execute_result"
    }
   ],
   "source": [
    "# 문제 39 ***\n",
    "# 다음은 학생별(학생ID) 선택과목의 점수, 과목별 강의실 정보에 대한 데이터다.\n",
    "# 학생별 선택과목의 강의실 번호를 구하고 강의실 번호 3자리를\n",
    "# 모두 더한 값은 무엇인가?\n",
    "### 복사영역 ###\n",
    "import pandas as pd\n",
    "df = pd.DataFrame({\n",
    "    '학생ID': [201, 202, 203, 204, 205],\n",
    "    '선택과목': ['수학', '영어', '과학', '수학', '영어'],\n",
    "    '수학_점수': [88, 92, 85, 91, 87],\n",
    "    '영어_점수': [78, 81, 79, 75, 83],\n",
    "    '과학_점수': [89, 85, 90, 88, 84],\n",
    "    '수학_강의실': ['101호']*5,\n",
    "    '영어_강의실': ['102호']*5,\n",
    "    '과학_강의실': ['103호']*5})\n",
    "### 복사영역 ###\n",
    "\n",
    "df['강의실번호'] = df.apply(lambda row: int(row[f\"{row['선택과목']}_강의실\"].rstrip(\"호\")), axis = 1)\n",
    "df['강의실번호'].sum()"
   ]
  },
  {
   "cell_type": "code",
   "execution_count": 27,
   "id": "3382b9f0-4b67-430e-a95b-1f106bcdcc85",
   "metadata": {},
   "outputs": [
    {
     "data": {
      "text/plain": [
       "1    202\n",
       "Name: 학생ID, dtype: int64"
      ]
     },
     "execution_count": 27,
     "metadata": {},
     "output_type": "execute_result"
    }
   ],
   "source": [
    "# 문제 40\n",
    "# 다음은 학생별(학생ID) 선택과목의 점수, 과목별 강의실 정보에 대한 데이터다.\n",
    "# 학점당 평균 점수가 가장 높은 학생의 학생ID를 구하시오.\n",
    "# * 학점당 평균 점수는 가중점수의 총합을 전체 학점수로 나눈 값이다.\n",
    "# * 가중점수는 과목별 점수 × 과목별 학점수로 계산한다.\n",
    "### 복사영역 ###\n",
    "import pandas as pd\n",
    "df = pd.DataFrame({\n",
    "'학생ID': [201, 202, 203, 204, 205],\n",
    "# '선택과목': ['수학', '영어', '과학', '수학', '영어'],\n",
    "'수학_점수': [88, 92, 85, 91, 87],\n",
    "'영어_점수': [78, 81, 79, 75, 83],\n",
    "'과학_점수': [89, 85, 90, 88, 84],\n",
    "# '수학_강의실': ['101호']*5,\n",
    "# '영어_강의실': ['102호']*5,\n",
    "# '과학_강의실': ['103호']*5\n",
    "})\n",
    "# 학점 정보 추가\n",
    "df['수학_학점수'] = 3\n",
    "df['영어_학점수'] = 2\n",
    "df['과학_학점수'] = 1\n",
    "### 복사영역 ###\n",
    "\n",
    "sub = ['수학', '영어', '과학']\n",
    "\n",
    "for i in sub:\n",
    "    df[f'{i}_가중점수'] = df[f'{i}_점수'] * df[f'{i}_학점수']\n",
    "\n",
    "df['sub_sum'] = df['수학_가중점수'] + df['영어_가중점수'] + df['과학_가중점수']\n",
    "df['hak_sum'] = df['수학_학점수'] + df['영어_학점수'] + df['과학_학점수']\n",
    "df['result'] = df['sub_sum'] / df['hak_sum']\n",
    "result = df['result'].max()\n",
    "\n",
    "df[df['result'] == result]['학생ID']"
   ]
  },
  {
   "cell_type": "code",
   "execution_count": 145,
   "id": "ebdbbe94-187f-48f0-a7d6-fbb13e16cbea",
   "metadata": {},
   "outputs": [
    {
     "data": {
      "text/plain": [
       "region  gender\n",
       "a       1          8000\n",
       "        2          8500\n",
       "b       1          1820\n",
       "        2          8040\n",
       "c       1         19500\n",
       "        2         19800\n",
       "d       1         27600\n",
       "        2         27600\n",
       "e       1         31600\n",
       "        2         31600\n",
       "Name: 총판매량, dtype: int64"
      ]
     },
     "execution_count": 145,
     "metadata": {},
     "output_type": "execute_result"
    }
   ],
   "source": [
    "# 문제 41 ***\n",
    "# 다음은 어느 회사의 지역별(region) 성별에 따른 제품별 판매량 데이터이다.\n",
    "# 지역별 성별에 따른 총 판매량을 구하고,\n",
    "# 성별간 총 판매수 차이가 큰 지역의 지역명을 구하시오.\n",
    "# (단, 총 판매수는 product1 과 product2를 더한 값이다)\n",
    "### 복사영역 ###\n",
    "import pandas as pd\n",
    "data = {\n",
    "'region': ['a']*4 + ['b']*4 + ['c']*4 + ['d']*4 + ['e']*4,\n",
    "'gender': [1, 2, 1, 2, 2, 1, 2, 1, 1, 1, 2, 2, 2, 1, 1, 2, 1, 2, 2, 1],\n",
    "'product1': [\n",
    "1000, 2000, 2500, 3000, # a\n",
    "4000, 120, 250, 350, # b\n",
    "5000, 6000, 5500, 5800, # c\n",
    "7000, 7200, 7100, 7300, # d\n",
    "8000, 8200, 8100, 8300 # e\n",
    "],\n",
    "'product2': [\n",
    "3000, 1500, 1500, 2000, # a\n",
    "3500, 350, 290, 1000, # b\n",
    "4000, 4500, 4200, 4300, # c\n",
    "6500, 6700, 6600, 6800, # d\n",
    "7500, 7700, 7600, 7800 # e\n",
    "]\n",
    "}\n",
    "df = pd.DataFrame(data)\n",
    "### 복사영역 ###\n",
    "\n",
    "# df2 = df.copy()\n",
    "# df2['total'] = df2['product1'] + df2['product2']\n",
    "\n",
    "# pivot1 = pd.pivot_table(df2,\n",
    "# index='region',\n",
    "# columns='gender', # 성별을 컬럼으로 구분\n",
    "# values='total')\n",
    "# # print(p1)\n",
    "# pivot1.columns = ['1', '2']\n",
    "# pivot1['result'] = abs(pivot1['1'] - pivot1['2'])\n",
    "# pivot1_reset = pivot1.reset_index()\n",
    "# pivot1_reset\n",
    "# result = pivot1_reset[pivot1_reset['result'] == pivot1_reset['result'].max()]['region']\n",
    "# print(result)\n",
    "\n",
    "df['총판매량'] = df['product1']+df['product2']\n",
    "df\n",
    "df_sum = df.groupby(['region', 'gender'])['총판매량'].sum()\n",
    "df_sum\n",
    "# df_pivot = df_sum.unstack()\n",
    "# df_pivot\n",
    "# df_pivot[3] = abs(df_pivot[1]-df_pivot[2])\n",
    "# df_pivot\n",
    "\n",
    "# df_pivot[3].idxmax()"
   ]
  },
  {
   "cell_type": "code",
   "execution_count": 146,
   "id": "8180099f-39d5-4a29-bff6-7ef8216b527e",
   "metadata": {},
   "outputs": [
    {
     "data": {
      "text/plain": [
       "1    b\n",
       "Name: region, dtype: object"
      ]
     },
     "execution_count": 146,
     "metadata": {},
     "output_type": "execute_result"
    }
   ],
   "source": [
    "# 문제 42 ***\n",
    "# 다음은 어느 회사의 지역별(region) 성별에 따른 제품별 판매량 데이터이다.\n",
    "# product1 변수의 결측치를 각 region별 같은 성별의 평균 값으로 채우고,\n",
    "# 지역별 product1과 product2 판매수의 차이가 가장 큰 지역을 찾으시오.\n",
    "### 복사영역 ###\n",
    "import pandas as pd\n",
    "import numpy as np\n",
    "data = {\n",
    "'region': ['a']*4 + ['b']*4 + ['c']*4 + ['d']*4 + ['e']*4,\n",
    "'gender': [1, 2, 1, 2, 2, 1, 2, 1, 1, 1, 2, 2, 2, 1, 1, 2, 1, 2, 2, 1],\n",
    "'product1': [\n",
    "1000, 2000, 2500, 3000, # a\n",
    "4000, 120, 250, 350, # b\n",
    "5000, 6000, 5500, 5800, # c\n",
    "7000, 7200, 7100, 7300, # d\n",
    "8000, 8200, 8100, 8300 # e\n",
    "],\n",
    "'product2': [\n",
    "3000, 1500, 1500, 2000, # a\n",
    "3500, 350, 290, 1000, # b\n",
    "4000, 4500, 4200, 4300, # c\n",
    "6500, 6700, 6600, 6800, # d\n",
    "7500, 7700, 7600, 7800 # e\n",
    "]\n",
    "}\n",
    "df2 = pd.DataFrame(data)\n",
    "df = df2.copy()\n",
    "# 각 지역에서 첫 번째 등장하는 인덱스를 기준으로 결측치 처리\n",
    "for region in ['a', 'b', 'c']:\n",
    "    idx = df[df['region'] == region].index[0]\n",
    "    df.loc[idx, 'product1'] = np.nan\n",
    "### 복사영역 ###\n",
    "df.head(10)\n",
    "\n",
    "df['product1'] = df['product1'].fillna(df.groupby('region')['product1'].transform('mean'))\n",
    "df['총계'] = df['product1'] + df['product2']\n",
    "pivot = pd.pivot_table(df, index='region', columns = 'gender', values = '총계')\n",
    "pivot.columns = ['1', '2']\n",
    "\n",
    "pivot = pivot.reset_index()\n",
    "pivot['result'] = abs(pivot['1'] - pivot['2'])\n",
    "pivot[pivot['result'] == pivot['result'].max()]['region']\n",
    "\n",
    "# df['product1'] = df['product1'].fillna(df.groupby('region')['product1'].transform('mean'))\n",
    "# # product1 결측 처리까지 끝낸 df 기준으로\n",
    "# df2 = df.copy()\n",
    "# df2['total'] = df2['product1'] + df2['product2']\n",
    "\n",
    "# pivot1 = pd.pivot_table(df2,\n",
    "# index='region',\n",
    "# columns='gender', # 성별을 컬럼으로 구분\n",
    "# values='total')\n",
    "# # print(p1)\n",
    "# pivot1.columns = ['1', '2']\n",
    "# pivot1['result'] = abs(pivot1['1'] - pivot1['2'])\n",
    "# pivot1_reset = pivot1.reset_index()\n",
    "# pivot1_reset"
   ]
  },
  {
   "cell_type": "code",
   "execution_count": 147,
   "id": "1e36cb43-aff1-4c72-9701-676d270f7a66",
   "metadata": {},
   "outputs": [
    {
     "name": "stdout",
     "output_type": "stream",
     "text": [
      "236\n"
     ]
    }
   ],
   "source": [
    "# 문제 43 ***\n",
    "# 다음은 연도별 과일의 판매량 및 재고 데이터이다.\n",
    "# 각 연도별 최대 판매율(판매율 = sales/stock)을 가진 과일 종류를 찾아\n",
    "# 연도별 해당 과일의 판매수(sales)를 모두 더하시오.\n",
    "### 복사영역 ###\n",
    "df = pd.DataFrame({\n",
    "'year': [2022, 2022, 2023, 2023, 2024, 2024],\n",
    "'type': ['sales', 'stock'] * 3,\n",
    "'apple': [50, 60, 45, 55, 40, 50],\n",
    "'banana': [30, 35, 25, 30, 20, 25],\n",
    "'orange': [70, 65, 80, 75, 90, 85],\n",
    "'grape': [90, 85, 88, 83, 86, 81]})\n",
    "\n",
    "df1 = df[df['type'] == 'sales']\n",
    "df2 = df[df['type'] == 'stock']\n",
    "# print(df1)\n",
    "# print(df2)\n",
    "\n",
    "merged_df = pd.merge(df1, df2, on='year') # suffixes=('_sales', '_stock')\n",
    "merged_df\n",
    "\n",
    "fruits = ['apple', 'banana', 'orange', 'grape']\n",
    "for i in fruits:\n",
    "    merged_df[f'{i}_판매율'] = merged_df[f'{i}_x'] / merged_df[f'{i}_y']\n",
    "merged_df\n",
    "\n",
    "merged_df['최대판매율과일'] = merged_df[[f'{i}_판매율' for i in fruits]].idxmax(axis=1)\n",
    "merged_df['최대판매율과일2'] = merged_df.loc[:, 'apple_판매율':'grape_판매율'].idxmax(axis=1)\n",
    "merged_df\n",
    "\n",
    "# 과일 유형만 따로 골라내기\n",
    "merged_df['최대판매율과일'] = merged_df['최대판매율과일'].str.split('_').str.get(0)\n",
    "# merged_df['최대판매율과일'] = merged_df['최대판매율과일'].str.replace('_판매율', '')\n",
    "merged_df\n",
    "\n",
    "# 판매율이 가장 높은 과일 유형의 판매수 구하기\n",
    "# 방법1 (apply + lambda)\n",
    "merged_df['최종판매수'] = merged_df.apply(lambda x: x[f\"{x['최대판매율과일']}_x\"], axis=1)\n",
    "# 방법2 (리스트 컴프리헨션)\n",
    "merged_df['최종판매수1'] = [merged_df.loc[i, merged_df.loc[i, '최대판매율과일'] + '_x'] for i in range(len(merged_df))]\n",
    "merged_df\n",
    "\n",
    "result = merged_df['최종판매수'].sum()\n",
    "print(result)"
   ]
  },
  {
   "cell_type": "code",
   "execution_count": null,
   "id": "50428458-b1ba-4f36-9c38-3858a66bc32b",
   "metadata": {},
   "outputs": [],
   "source": []
  },
  {
   "cell_type": "code",
   "execution_count": null,
   "id": "c62a01a3-26cb-40b9-bdb7-e1c83d164fbd",
   "metadata": {},
   "outputs": [],
   "source": []
  }
 ],
 "metadata": {
  "kernelspec": {
   "display_name": "Python 3 (ipykernel)",
   "language": "python",
   "name": "python3"
  },
  "language_info": {
   "codemirror_mode": {
    "name": "ipython",
    "version": 3
   },
   "file_extension": ".py",
   "mimetype": "text/x-python",
   "name": "python",
   "nbconvert_exporter": "python",
   "pygments_lexer": "ipython3",
   "version": "3.12.3"
  }
 },
 "nbformat": 4,
 "nbformat_minor": 5
}
