{
 "cells": [
  {
   "cell_type": "markdown",
   "id": "21bdad4c-16f9-4a40-b086-78305c3c2295",
   "metadata": {},
   "source": [
    "#### 핵심문제 27개(1~10)"
   ]
  },
  {
   "cell_type": "code",
   "execution_count": 21,
   "id": "2642ba58-ee86-48e9-a030-786a5ede8314",
   "metadata": {},
   "outputs": [],
   "source": [
    "# 데이터 불러오기\n",
    "import pandas as pd\n",
    "import numpy as np"
   ]
  },
  {
   "cell_type": "code",
   "execution_count": 22,
   "id": "39332c55-5969-4d48-99ed-fba371fa7083",
   "metadata": {},
   "outputs": [
    {
     "data": {
      "text/html": [
       "<div>\n",
       "<style scoped>\n",
       "    .dataframe tbody tr th:only-of-type {\n",
       "        vertical-align: middle;\n",
       "    }\n",
       "\n",
       "    .dataframe tbody tr th {\n",
       "        vertical-align: top;\n",
       "    }\n",
       "\n",
       "    .dataframe thead th {\n",
       "        text-align: right;\n",
       "    }\n",
       "</style>\n",
       "<table border=\"1\" class=\"dataframe\">\n",
       "  <thead>\n",
       "    <tr style=\"text-align: right;\">\n",
       "      <th></th>\n",
       "      <th>car</th>\n",
       "      <th>mpg</th>\n",
       "      <th>cyl</th>\n",
       "      <th>disp</th>\n",
       "      <th>hp</th>\n",
       "      <th>drat</th>\n",
       "      <th>wt</th>\n",
       "      <th>qsec</th>\n",
       "      <th>vs</th>\n",
       "      <th>am</th>\n",
       "      <th>gear</th>\n",
       "      <th>carb</th>\n",
       "    </tr>\n",
       "  </thead>\n",
       "  <tbody>\n",
       "    <tr>\n",
       "      <th>0</th>\n",
       "      <td>Mazda RX4</td>\n",
       "      <td>21.0</td>\n",
       "      <td>6</td>\n",
       "      <td>160.0</td>\n",
       "      <td>110</td>\n",
       "      <td>3.90</td>\n",
       "      <td>2.620</td>\n",
       "      <td>16.46</td>\n",
       "      <td>0</td>\n",
       "      <td>1</td>\n",
       "      <td>4</td>\n",
       "      <td>4</td>\n",
       "    </tr>\n",
       "    <tr>\n",
       "      <th>1</th>\n",
       "      <td>Mazda RX4 Wag</td>\n",
       "      <td>21.0</td>\n",
       "      <td>6</td>\n",
       "      <td>160.0</td>\n",
       "      <td>110</td>\n",
       "      <td>3.90</td>\n",
       "      <td>2.875</td>\n",
       "      <td>17.02</td>\n",
       "      <td>0</td>\n",
       "      <td>1</td>\n",
       "      <td>4</td>\n",
       "      <td>4</td>\n",
       "    </tr>\n",
       "    <tr>\n",
       "      <th>2</th>\n",
       "      <td>Datsun 710</td>\n",
       "      <td>22.8</td>\n",
       "      <td>4</td>\n",
       "      <td>108.0</td>\n",
       "      <td>93</td>\n",
       "      <td>3.85</td>\n",
       "      <td>2.320</td>\n",
       "      <td>18.61</td>\n",
       "      <td>1</td>\n",
       "      <td>1</td>\n",
       "      <td>4</td>\n",
       "      <td>1</td>\n",
       "    </tr>\n",
       "    <tr>\n",
       "      <th>3</th>\n",
       "      <td>Hornet 4 Drive</td>\n",
       "      <td>21.4</td>\n",
       "      <td>6</td>\n",
       "      <td>258.0</td>\n",
       "      <td>110</td>\n",
       "      <td>3.08</td>\n",
       "      <td>3.215</td>\n",
       "      <td>19.44</td>\n",
       "      <td>1</td>\n",
       "      <td>0</td>\n",
       "      <td>3</td>\n",
       "      <td>1</td>\n",
       "    </tr>\n",
       "    <tr>\n",
       "      <th>4</th>\n",
       "      <td>Hornet Sportabout</td>\n",
       "      <td>18.7</td>\n",
       "      <td>8</td>\n",
       "      <td>360.0</td>\n",
       "      <td>175</td>\n",
       "      <td>3.15</td>\n",
       "      <td>3.440</td>\n",
       "      <td>17.02</td>\n",
       "      <td>0</td>\n",
       "      <td>0</td>\n",
       "      <td>3</td>\n",
       "      <td>2</td>\n",
       "    </tr>\n",
       "  </tbody>\n",
       "</table>\n",
       "</div>"
      ],
      "text/plain": [
       "                 car   mpg  cyl   disp   hp  drat     wt   qsec  vs  am  gear  \\\n",
       "0          Mazda RX4  21.0    6  160.0  110  3.90  2.620  16.46   0   1     4   \n",
       "1      Mazda RX4 Wag  21.0    6  160.0  110  3.90  2.875  17.02   0   1     4   \n",
       "2         Datsun 710  22.8    4  108.0   93  3.85  2.320  18.61   1   1     4   \n",
       "3     Hornet 4 Drive  21.4    6  258.0  110  3.08  3.215  19.44   1   0     3   \n",
       "4  Hornet Sportabout  18.7    8  360.0  175  3.15  3.440  17.02   0   0     3   \n",
       "\n",
       "   carb  \n",
       "0     4  \n",
       "1     4  \n",
       "2     1  \n",
       "3     1  \n",
       "4     2  "
      ]
     },
     "execution_count": 22,
     "metadata": {},
     "output_type": "execute_result"
    }
   ],
   "source": [
    "df = pd.read_csv(\"../../mtcars.csv\")\n",
    "df.head()"
   ]
  },
  {
   "cell_type": "code",
   "execution_count": 23,
   "id": "1442d92a-42e8-4007-9039-a2343dcc6af0",
   "metadata": {},
   "outputs": [],
   "source": [
    "# 문제 1\n",
    "# mpg 변수의 제 1사분위수를 구하고 정수값으로 출력하시오.\n",
    "df = pd.read_csv(\"../../mtcars.csv\")"
   ]
  },
  {
   "cell_type": "code",
   "execution_count": 24,
   "id": "dd151733-d725-4217-bd69-1bcc01902863",
   "metadata": {},
   "outputs": [
    {
     "name": "stdout",
     "output_type": "stream",
     "text": [
      "15\n"
     ]
    }
   ],
   "source": [
    "Q1 = df['mpg'].quantile(0.25)\n",
    "print(round(Q1))"
   ]
  },
  {
   "cell_type": "code",
   "execution_count": null,
   "id": "182d0451-9f35-41f6-bc63-11b70d3e30eb",
   "metadata": {},
   "outputs": [],
   "source": []
  },
  {
   "cell_type": "code",
   "execution_count": 25,
   "id": "e4e600f2-820f-4789-9921-5d6d1de821a8",
   "metadata": {},
   "outputs": [],
   "source": [
    "# 문제 2\n",
    "# mpg 값이 19이상 21이하인 데이터의 수를 구하시오\n",
    "df = pd.read_csv(\"../../mtcars.csv\")"
   ]
  },
  {
   "cell_type": "code",
   "execution_count": 26,
   "id": "4d8a0be3-cd6e-45fa-b1f5-020b63fccb68",
   "metadata": {},
   "outputs": [
    {
     "name": "stdout",
     "output_type": "stream",
     "text": [
      "5\n"
     ]
    }
   ],
   "source": [
    "cond = df[(df['mpg'] >= 19) & (df['mpg'] <= 21)]\n",
    "print(len(cond))"
   ]
  },
  {
   "cell_type": "code",
   "execution_count": null,
   "id": "12281dc2-038a-40b6-944a-fd309e6a0ec4",
   "metadata": {},
   "outputs": [],
   "source": []
  },
  {
   "cell_type": "code",
   "execution_count": 27,
   "id": "b9473b84-09ae-42e1-896a-9fe238a9ab7e",
   "metadata": {},
   "outputs": [
    {
     "name": "stdout",
     "output_type": "stream",
     "text": [
      "83.5\n"
     ]
    }
   ],
   "source": [
    "# 문제 3 ***\n",
    "# hp 변수의 IQR 값을 구하시오\n",
    "df = pd.read_csv(\"../../mtcars.csv\")\n",
    "Q1 = df['hp'].quantile(0.25)\n",
    "Q3 = df['hp'].quantile(0.75)\n",
    "\n",
    "print(Q3 - Q1)"
   ]
  },
  {
   "cell_type": "code",
   "execution_count": null,
   "id": "99d50053-96f5-4fef-b049-7c17488d6e9b",
   "metadata": {},
   "outputs": [],
   "source": []
  },
  {
   "cell_type": "code",
   "execution_count": 28,
   "id": "1b221627-3154-4f31-9e71-dfe81bdfa736",
   "metadata": {},
   "outputs": [
    {
     "name": "stdout",
     "output_type": "stream",
     "text": [
      "42\n"
     ]
    }
   ],
   "source": [
    "# 문제 4\n",
    "# wt 변수의 상위 10개 값의 총합을 구하여 소수점을 버리고 정수로 출력하시오.\n",
    "df = pd.read_csv(\"../../mtcars.csv\")\n",
    "cond = df['wt'].sort_values(ascending=False).head(10)\n",
    "sum_top10 = sum(cond)\n",
    "print(int(sum_top10)) # 주의 : 소수점 반올림이 아니라 버리는 문제"
   ]
  },
  {
   "cell_type": "code",
   "execution_count": null,
   "id": "eacfdd8a-b44b-4603-9d1e-d06dada58a78",
   "metadata": {},
   "outputs": [],
   "source": []
  },
  {
   "cell_type": "code",
   "execution_count": 29,
   "id": "76b3345c-fd1d-4626-a08c-76a6154d775d",
   "metadata": {},
   "outputs": [
    {
     "name": "stdout",
     "output_type": "stream",
     "text": [
      "0.2\n"
     ]
    }
   ],
   "source": [
    "# 문제 5\n",
    "# 전체 자동차에서 cyl가 6인 비율이 얼마인지 소수점 첫째자리까지 출력하시오.\n",
    "df = pd.read_csv(\"../../mtcars.csv\")\n",
    "all_cars = len(df)\n",
    "cyl_cars = len(df[df['cyl'] == 6])\n",
    "\n",
    "print(round(cyl_cars/all_cars, 1))"
   ]
  },
  {
   "cell_type": "code",
   "execution_count": null,
   "id": "a7a95f73-d610-453d-ba03-3876c2d65cea",
   "metadata": {},
   "outputs": [],
   "source": []
  },
  {
   "cell_type": "code",
   "execution_count": 30,
   "id": "6763f5c8-9637-4481-b06a-7729b823a219",
   "metadata": {},
   "outputs": [
    {
     "name": "stdout",
     "output_type": "stream",
     "text": [
      "20\n"
     ]
    }
   ],
   "source": [
    "# 문제 6\n",
    "# 첫번째 행부터 순서대로 10개 뽑은 후 mpg 열의 평균값을 반올림하여 정수로 출력하시오\n",
    "df = pd.read_csv(\"../../mtcars.csv\")\n",
    "\n",
    "df10 = df.head(10)\n",
    "mpg_means = df10['mpg'].mean()\n",
    "print(round(mpg_means))"
   ]
  },
  {
   "cell_type": "code",
   "execution_count": null,
   "id": "e34404e6-bed5-4fbd-94c0-277389afecbc",
   "metadata": {},
   "outputs": [],
   "source": []
  },
  {
   "cell_type": "code",
   "execution_count": 31,
   "id": "a86e3402-aac3-45fb-b33d-f238fa0d48fb",
   "metadata": {},
   "outputs": [
    {
     "name": "stdout",
     "output_type": "stream",
     "text": [
      "3.44\n"
     ]
    }
   ],
   "source": [
    "# 문제 7\n",
    "# 첫번째 행부터 순서대로 50%까지 데이터를 뽑아 wt 변수의 중앙값을 구하시오.\n",
    "df = pd.read_csv(\"../../mtcars.csv\")\n",
    "\n",
    "n = int(len(df)/2)\n",
    "half = df.head(n)\n",
    "median = half['wt'].median()\n",
    "print(median)"
   ]
  },
  {
   "cell_type": "code",
   "execution_count": null,
   "id": "8f818ba8-4529-42af-9967-cfbe122792b5",
   "metadata": {},
   "outputs": [],
   "source": []
  },
  {
   "cell_type": "code",
   "execution_count": 32,
   "id": "50c8fe9f-2cc5-4bcf-8dec-af500199bb44",
   "metadata": {},
   "outputs": [
    {
     "name": "stdout",
     "output_type": "stream",
     "text": [
      "5\n"
     ]
    }
   ],
   "source": [
    "# 문제 8 ***\n",
    "# 결측값이 있는 데이터의 수를 출력하시오.\n",
    "\n",
    "# 데이터 생성(수정금지)\n",
    "df = pd.DataFrame( {\n",
    "    '날짜': ['20220103','20220105', None,'20230127','20220203', '20220205','20230210','20230223','20230312','20230422','20220505','20230511'],\n",
    "    '제품' : ['A','B', None, 'B', 'A', None,'A', 'B', 'A', 'B', 'A', 'A'],\n",
    "    '판매수': [3, None, 5, 10, 10, 10, 15, 15, 20, None, 30, 40], \n",
    "    '개당수익': [300, 400, 500, 600, 400, 500, 500, 600, 600, 700, 600, 600] })\n",
    "\n",
    "# ----------------------------------------------------\n",
    "\n",
    "missing = df.isnull().sum()\n",
    "print(missing.sum())"
   ]
  },
  {
   "cell_type": "code",
   "execution_count": null,
   "id": "561b8218-3d53-4a30-977d-2e52727f8cdb",
   "metadata": {},
   "outputs": [],
   "source": []
  },
  {
   "cell_type": "code",
   "execution_count": 33,
   "id": "23ccb95e-291e-4c07-8c05-538f0cf1bd93",
   "metadata": {},
   "outputs": [
    {
     "name": "stdout",
     "output_type": "stream",
     "text": [
      "15\n"
     ]
    }
   ],
   "source": [
    "# 문제 9 ***\n",
    "# '판매 수' 컬럼의 결측값을 판매수의 중앙값으로 대체하고 판매수의 평균값을 정수로 출력\n",
    "\n",
    "# 데이터 생성(수정금지)\n",
    "df = pd.DataFrame( {\n",
    "    '날짜': ['20220103','20220105', None,'20230127','20220203', '20220205','20230210','20230223','20230312','20230422','20220505','20230511'],\n",
    "    '제품' : ['A','B', None, 'B', 'A', None,'A', 'B', 'A', 'B', 'A', 'A'],\n",
    "    '판매수': [3, None, 5, 10, 10, 10, 15, 15, 20, None, 30, 40], \n",
    "    '개당수익': [300, 400, 500, 600, 400, 500, 500, 600, 600, 700, 600, 600] })\n",
    "\n",
    "# ---------------------------------------------------\n",
    "\n",
    "Q2 = df['판매수'].median() # 중앙값 구해서\n",
    "df['판매수'] = df['판매수'].fillna(Q2) # na에 Q2로 채움\n",
    "mean = df['판매수'].mean()\n",
    "print( round( mean ) )"
   ]
  },
  {
   "cell_type": "code",
   "execution_count": null,
   "id": "b05a07b0-96d9-4186-8f61-17c651e9d114",
   "metadata": {},
   "outputs": [],
   "source": []
  },
  {
   "cell_type": "code",
   "execution_count": 34,
   "id": "c4b05a4d-26c9-49ac-850c-08abe90203cd",
   "metadata": {},
   "outputs": [
    {
     "name": "stdout",
     "output_type": "stream",
     "text": [
      "5\n"
     ]
    }
   ],
   "source": [
    "# 문제 10 ***\n",
    "# 판매수 컬럼에 결측치가 있는 행을 제거하고,\n",
    "# 첫번째 행부터 순서대로 50%까지의 데이터를 추출하여\n",
    "# 판매수 변수의 Q1(제1사분위수) 값을 정수로 출력하시오.\n",
    "df = pd.DataFrame( {\n",
    "    '날짜': ['20220103','20220105', None,'20230127','20220203', '20220205','20230210','20230223','20230312','20230422','20220505','20230511'],\n",
    "    '제품' : ['A','B', None, 'B', 'A', None,'A', 'B', 'A', 'B', 'A', 'A'],\n",
    "    '판매수': [3, None, 5, 10, 10, 10, 15, 15, 20, None, 30, 40], \n",
    "    '개당수익': [300, 400, 500, 600, 400, 500, 500, 600, 600, 700, 600, 600] })\n",
    "\n",
    "# -------------------------------------------------\n",
    "\n",
    "df = df['판매수'].dropna()\n",
    "\n",
    "half = df[:(int(len(df)/2))]\n",
    "\n",
    "half_Q1 = round(half.quantile(0.25))\n",
    "\n",
    "print(half_Q1)"
   ]
  },
  {
   "cell_type": "code",
   "execution_count": null,
   "id": "8a08550b-9f5e-4181-acd5-e8efa0c7847d",
   "metadata": {},
   "outputs": [],
   "source": []
  },
  {
   "cell_type": "code",
   "execution_count": 35,
   "id": "e6f9fac8-f355-439a-991a-d09aa3430f88",
   "metadata": {},
   "outputs": [],
   "source": [
    "# 문제 11\n",
    "# cyl가 4인 자동차와 6인 자동차 그룹의 mpg 평균값 차이를 절대값으로 정수로 출력하시오\n",
    "df = pd.read_csv(\"../../mtcars.csv\")"
   ]
  },
  {
   "cell_type": "code",
   "execution_count": 36,
   "id": "17e5fd41-10fa-40be-bc2b-9afdc93334c1",
   "metadata": {},
   "outputs": [
    {
     "name": "stdout",
     "output_type": "stream",
     "text": [
      "6\n"
     ]
    }
   ],
   "source": [
    "# cyl이 4인 자동차\n",
    "four = df[df['cyl'] == 4]\n",
    "\n",
    "# cyl이 6인 자동차\n",
    "six = df[df['cyl'] == 6]\n",
    "\n",
    "# mpg 평균값의 차이와 절댓값\n",
    "abs_minus = abs(four['mpg'].mean() - six['mpg'].mean())\n",
    "\n",
    "# 정수\n",
    "int_value = int(abs_minus)\n",
    "\n",
    "print(int_value)"
   ]
  },
  {
   "cell_type": "code",
   "execution_count": null,
   "id": "5e3254c8-da02-4241-b544-e5d236d0f680",
   "metadata": {},
   "outputs": [],
   "source": []
  },
  {
   "cell_type": "code",
   "execution_count": 37,
   "id": "732c0770-25d3-4c02-9d76-1465ffbf1bdc",
   "metadata": {},
   "outputs": [],
   "source": [
    "# 문제 12 ***\n",
    "# hp 변수에 대해 데이터 표준화 (Z-score)를 진행하고 이상치의 수를 구하시오.\n",
    "# ( 단, 이상치의 z값이 1.5를 초과하거나 -1.5 미만인 값이다 )\n",
    "df = pd.read_csv(\"../../mtcars.csv\")"
   ]
  },
  {
   "cell_type": "code",
   "execution_count": 38,
   "id": "3a218498-8339-435b-bf59-2beaa6779523",
   "metadata": {},
   "outputs": [
    {
     "name": "stdout",
     "output_type": "stream",
     "text": [
      "2\n"
     ]
    }
   ],
   "source": [
    "# hp 변수에 대한 데이터 표준화 (x-표준 평균)/표준 편차\n",
    "mean_hp = df['hp'].mean()\n",
    "std_hp  = df['hp'].std()\n",
    "\n",
    "df['hp_z'] = (df['hp'] - mean_hp) / std_hp\n",
    "\n",
    "# 이상치의 수를 구하라\n",
    "is_outlier = (df['hp_z']  > 1.5 ) | (df['hp_z'] < -1.5)\n",
    "\n",
    "# 이상치가 True인 행만 필터링\n",
    "outlier_df = df[is_outlier]\n",
    "\n",
    "# 이상치 갯수 출력\n",
    "num_outliers = len(outlier_df)\n",
    "print(num_outliers)"
   ]
  },
  {
   "cell_type": "code",
   "execution_count": null,
   "id": "8be3b50c-b3a0-4c5f-be93-ef0c18bdfc23",
   "metadata": {},
   "outputs": [],
   "source": []
  },
  {
   "cell_type": "code",
   "execution_count": 39,
   "id": "47119852-04c5-43a4-9948-388fa48d1dcb",
   "metadata": {},
   "outputs": [],
   "source": [
    "# 문제 13\n",
    "# mpg 컬럼을 최소최대 Scaling을 진행한 후 0.7보다 큰 값을 가지는 레코드 수를 구하라.\n",
    "df = pd.read_csv(\"../../mtcars.csv\")"
   ]
  },
  {
   "cell_type": "code",
   "execution_count": null,
   "id": "d144c1c4-c51e-4925-bcd6-fb8d3ee47c40",
   "metadata": {},
   "outputs": [],
   "source": []
  },
  {
   "cell_type": "code",
   "execution_count": 47,
   "id": "b330fc1f-7b8d-4b5a-944c-7a62aeafa303",
   "metadata": {},
   "outputs": [],
   "source": [
    "# 문제 14\n",
    "# wt컬럼에 대해 상자그림 기준으로 이상치의 개수를 구하시오. \n",
    "df = pd.read_csv(\"../../mtcars.csv\")"
   ]
  },
  {
   "cell_type": "code",
   "execution_count": 48,
   "id": "cf62defb-b7cd-4261-8b3f-0a57dc4aed87",
   "metadata": {},
   "outputs": [
    {
     "data": {
      "text/plain": [
       "<Axes: ylabel='wt'>"
      ]
     },
     "execution_count": 48,
     "metadata": {},
     "output_type": "execute_result"
    },
    {
     "data": {
      "image/png": "[encoded data removed]",
      "text/plain": [
       "<Figure size 640x480 with 1 Axes>"
      ]
     },
     "metadata": {},
     "output_type": "display_data"
    }
   ],
   "source": [
    "import seaborn as sns\n",
    "sns.boxplot(df['wt'])"
   ]
  },
  {
   "cell_type": "code",
   "execution_count": 52,
   "id": "c3b085d5-4708-4a94-85cd-fbf8ddfc756e",
   "metadata": {},
   "outputs": [
    {
     "name": "stdout",
     "output_type": "stream",
     "text": [
      "3\n"
     ]
    }
   ],
   "source": [
    "Q1 = df['wt'].quantile(0.25)\n",
    "Q3 = df['wt'].quantile(0.75)\n",
    "\n",
    "IQR = Q3 - Q1\n",
    "\n",
    "upper = Q3 + 1.5 * IQR\n",
    "lower = Q1 - 1.5 * IQR\n",
    "\n",
    "df_outliers = df[(df['wt'] < lower) | (df['wt'] > upper)]\n",
    "print(len(df_outliers))"
   ]
  },
  {
   "cell_type": "code",
   "execution_count": null,
   "id": "c74c4869-3355-4dd1-a142-f3f66b3948d3",
   "metadata": {},
   "outputs": [],
   "source": []
  },
  {
   "cell_type": "code",
   "execution_count": 68,
   "id": "8a1422a7-801c-4ecd-b1ef-6cefcf079661",
   "metadata": {},
   "outputs": [],
   "source": [
    "# 문제 15\n",
    "# 판매수 컬럼의 결측치를 최소값으로 대체하고\n",
    "# 결측치가 있을 때와 최소값으로 대체했을 때 평균값의 차이를 절대값으로 반올림하여 정수로 출력\n",
    "# 데이터 생성 (수정금지)\n",
    "df = pd.DataFrame( {\n",
    "    '날짜': ['20220103','20220105', None,'20230127','20220203', '20220205','20230210','20230223','20230312','20230422','20220505','20230511'],\n",
    "    '제품' : ['A','B', None, 'B', 'A', None,'A', 'B', 'A', 'B', 'A', 'A'],\n",
    "    '판매수': [3, None, 5, 10, 10, 10, 15, 15, 20, None, 30, 40], \n",
    "    '개당수익': [300, 400, 500, 600, 400, 500, 500, 600, 600, 700, 600, 600] })"
   ]
  },
  {
   "cell_type": "code",
   "execution_count": 69,
   "id": "1ee458bc-ea8c-4062-aae9-4021788d9cb7",
   "metadata": {},
   "outputs": [
    {
     "name": "stdout",
     "output_type": "stream",
     "text": [
      "2\n"
     ]
    }
   ],
   "source": [
    "na_mean = df['판매수'].mean()\n",
    "\n",
    "df['판매수'] = df['판매수'].fillna(df['판매수'].min())\n",
    "\n",
    "fill_mean = df['판매수'].mean()\n",
    "\n",
    "minus = abs(fill_mean - na_mean)\n",
    "\n",
    "result = round(minus)\n",
    "print(result)"
   ]
  },
  {
   "cell_type": "code",
   "execution_count": null,
   "id": "8464b880-1d96-4832-bc8c-6c70e06c9f1e",
   "metadata": {},
   "outputs": [],
   "source": []
  },
  {
   "cell_type": "code",
   "execution_count": 96,
   "id": "5e11e57f-1a9a-4c40-ada3-190c8783355c",
   "metadata": {},
   "outputs": [],
   "source": [
    "# 문제 16 ***\n",
    "# vs변수가 0이 아닌 차량 중에 mpg 값이 가장 큰 차량의 hp 값을 출력하시오.\n",
    "df = pd.read_csv(\"../../mtcars.csv\")"
   ]
  },
  {
   "cell_type": "code",
   "execution_count": 97,
   "id": "45188f29-b01a-4416-a3e0-a31983f758c6",
   "metadata": {},
   "outputs": [
    {
     "name": "stdout",
     "output_type": "stream",
     "text": [
      "65\n"
     ]
    }
   ],
   "source": [
    "max_mpg = df[df['vs'] != 0]['mpg'].max()\n",
    "print(df[df['mpg'] == max_mpg]['hp'].values[0])"
   ]
  },
  {
   "cell_type": "code",
   "execution_count": null,
   "id": "9d22e7a6-55f4-4d0a-a3ce-3163542a7fe2",
   "metadata": {},
   "outputs": [],
   "source": []
  },
  {
   "cell_type": "code",
   "execution_count": 113,
   "id": "f629e21c-7686-4340-9328-dc7a8579167b",
   "metadata": {},
   "outputs": [],
   "source": [
    "# 문제 17\n",
    "# gear 변수값이 3, 4인 두 그룹의 hp 표준편차값의 차이를 절대값으로\n",
    "# 반올림하여 소수점 첫째자리까지 출력하시오. \n",
    "df = pd.read_csv(\"../../mtcars.csv\")"
   ]
  },
  {
   "cell_type": "code",
   "execution_count": 117,
   "id": "595614ed-0c21-49f2-9154-4bd2380f4773",
   "metadata": {},
   "outputs": [],
   "source": [
    "three = df[df['gear'] == 3]['hp'].std()"
   ]
  },
  {
   "cell_type": "code",
   "execution_count": 119,
   "id": "96c79d2d-a282-4c5f-948f-febdf36ec0f1",
   "metadata": {},
   "outputs": [],
   "source": [
    "four = df[df['gear'] == 4]['hp'].std()"
   ]
  },
  {
   "cell_type": "code",
   "execution_count": 120,
   "id": "c68bef73-5dae-4443-8e1d-ad2bb42757b6",
   "metadata": {},
   "outputs": [
    {
     "name": "stdout",
     "output_type": "stream",
     "text": [
      "21.8\n"
     ]
    }
   ],
   "source": [
    "result = abs(three - four)\n",
    "print(round(result, 1))"
   ]
  },
  {
   "cell_type": "code",
   "execution_count": null,
   "id": "bd6fe6f6-4121-4d65-9abc-6e94a0103e87",
   "metadata": {},
   "outputs": [],
   "source": []
  },
  {
   "cell_type": "code",
   "execution_count": 100,
   "id": "ad7977aa-f40d-42af-abd7-795385fe3d0a",
   "metadata": {},
   "outputs": [],
   "source": [
    "# 문제 18\n",
    "# gear 변수의 값별로 그룹화하여 mpg평균값을 산출하고\n",
    "# 평균값이 높은 그룹의 mpg 제3사분위수 값을 구하시오.\n",
    "df = pd.read_csv(\"../../mtcars.csv\")"
   ]
  },
  {
   "cell_type": "code",
   "execution_count": 146,
   "id": "86cbfca2-92c6-498f-b175-57c55157ca5b",
   "metadata": {},
   "outputs": [],
   "source": [
    "df.groupby('gear')['mpg'].mean()\n",
    "\n",
    "# idxmax 활용하기 ***\n",
    "idx_max = df.groupby('gear')['mpg'].mean().idxmax()"
   ]
  },
  {
   "cell_type": "code",
   "execution_count": 147,
   "id": "be6deba4-e1db-4ea5-9603-3481a185cdff",
   "metadata": {},
   "outputs": [
    {
     "name": "stdout",
     "output_type": "stream",
     "text": [
      "28.075\n"
     ]
    }
   ],
   "source": [
    "print(df[df['gear'] == idx_max]['mpg'].quantile(0.75))"
   ]
  },
  {
   "cell_type": "code",
   "execution_count": null,
   "id": "5987af3e-dd4d-444c-86a7-79e65b9776f0",
   "metadata": {},
   "outputs": [],
   "source": []
  },
  {
   "cell_type": "code",
   "execution_count": 101,
   "id": "1aad8a5a-9732-450c-99f5-2bfbe127090d",
   "metadata": {},
   "outputs": [],
   "source": [
    "# 문제 19\n",
    "# hp 항목의 상위 7번째 값으로 상위 7개 값을 변환한 후,\n",
    "# hp가 150 이상인 데이터를 추출하여 hp의 평균값을 반올림하여 정수로 출력하시오.\n",
    "df = pd.read_csv(\"../../mtcars.csv\")"
   ]
  },
  {
   "cell_type": "code",
   "execution_count": 158,
   "id": "eafd41cf-aa5e-417f-b651-5b708343f952",
   "metadata": {},
   "outputs": [],
   "source": [
    "mean_value = df[df['hp']>= 150]['hp'].head(7).mean()"
   ]
  },
  {
   "cell_type": "code",
   "execution_count": 159,
   "id": "f8eab0bf-9e7e-482f-8f70-b3a0d9395bd2",
   "metadata": {},
   "outputs": [
    {
     "name": "stdout",
     "output_type": "stream",
     "text": [
      "197\n"
     ]
    }
   ],
   "source": [
    "print(round(mean_value))"
   ]
  },
  {
   "cell_type": "code",
   "execution_count": null,
   "id": "f6592ea3-fd2a-4ebd-b4df-b75a215394a9",
   "metadata": {},
   "outputs": [],
   "source": []
  },
  {
   "cell_type": "code",
   "execution_count": 162,
   "id": "695a9b00-9d30-4924-9d17-81b26c0f94d8",
   "metadata": {},
   "outputs": [],
   "source": [
    "# 문제 20\n",
    "# car변수에 Merc 문구가 포함된 자동차의 mpg 평균값을 반올림하여 정수로 출력하시오.\n",
    "df = pd.read_csv(\"../../mtcars.csv\")"
   ]
  },
  {
   "cell_type": "code",
   "execution_count": 169,
   "id": "bd75131e-1a48-45dd-93b8-599a2e68b730",
   "metadata": {},
   "outputs": [
    {
     "name": "stdout",
     "output_type": "stream",
     "text": [
      "19\n"
     ]
    }
   ],
   "source": [
    "print(round(df[df['car'].str.contains('Merc')]['mpg'].mean()))"
   ]
  },
  {
   "cell_type": "code",
   "execution_count": null,
   "id": "ea4897d0-87a7-4b9d-b844-5b428744e6c1",
   "metadata": {},
   "outputs": [],
   "source": []
  },
  {
   "cell_type": "code",
   "execution_count": 171,
   "id": "1901ae9b-136b-44a7-8e02-2a6270554a1c",
   "metadata": {},
   "outputs": [],
   "source": [
    "# 문제 22\n",
    "# '22년과 '23년의 총 매출액 차이를 절대값으로 구하시오. \n",
    "# (매출액 = 판매수*개당수익)\n",
    "df = pd.DataFrame( {\n",
    "    '날짜': ['20220103','20220105', '20230105','20230127','20220203', '20220205','20230210','20230223','20230312','20230422','20220505','20230511'],\n",
    "    '제품' : ['A','B', 'A', 'B', 'A', 'B','A', 'B', 'A', 'B', 'A', 'A'],\n",
    "    '판매수': [3, 5, 5, 10, 10, 10, 15, 15, 20, 25, 30, 40], \n",
    "    '개당수익': [300, 400, 500, 600, 400, 500, 500, 600, 600, 700, 600, 600] })"
   ]
  },
  {
   "cell_type": "code",
   "execution_count": 175,
   "id": "93bc5acf-5deb-42f3-96bc-ce90722af69e",
   "metadata": {},
   "outputs": [],
   "source": [
    "df['날짜'] = pd.to_datetime(df['날짜'])"
   ]
  },
  {
   "cell_type": "code",
   "execution_count": 181,
   "id": "306925c9-d8ce-4852-bd20-e7f1f7d88b23",
   "metadata": {},
   "outputs": [
    {
     "data": {
      "text/html": [
       "<div>\n",
       "<style scoped>\n",
       "    .dataframe tbody tr th:only-of-type {\n",
       "        vertical-align: middle;\n",
       "    }\n",
       "\n",
       "    .dataframe tbody tr th {\n",
       "        vertical-align: top;\n",
       "    }\n",
       "\n",
       "    .dataframe thead th {\n",
       "        text-align: right;\n",
       "    }\n",
       "</style>\n",
       "<table border=\"1\" class=\"dataframe\">\n",
       "  <thead>\n",
       "    <tr style=\"text-align: right;\">\n",
       "      <th></th>\n",
       "      <th>날짜</th>\n",
       "      <th>제품</th>\n",
       "      <th>판매수</th>\n",
       "      <th>개당수익</th>\n",
       "      <th>연도</th>\n",
       "    </tr>\n",
       "  </thead>\n",
       "  <tbody>\n",
       "    <tr>\n",
       "      <th>0</th>\n",
       "      <td>2022-01-03</td>\n",
       "      <td>A</td>\n",
       "      <td>3</td>\n",
       "      <td>300</td>\n",
       "      <td>2022</td>\n",
       "    </tr>\n",
       "    <tr>\n",
       "      <th>1</th>\n",
       "      <td>2022-01-05</td>\n",
       "      <td>B</td>\n",
       "      <td>5</td>\n",
       "      <td>400</td>\n",
       "      <td>2022</td>\n",
       "    </tr>\n",
       "    <tr>\n",
       "      <th>2</th>\n",
       "      <td>2023-01-05</td>\n",
       "      <td>A</td>\n",
       "      <td>5</td>\n",
       "      <td>500</td>\n",
       "      <td>2023</td>\n",
       "    </tr>\n",
       "  </tbody>\n",
       "</table>\n",
       "</div>"
      ],
      "text/plain": [
       "          날짜 제품  판매수  개당수익    연도\n",
       "0 2022-01-03  A    3   300  2022\n",
       "1 2022-01-05  B    5   400  2022\n",
       "2 2023-01-05  A    5   500  2023"
      ]
     },
     "execution_count": 181,
     "metadata": {},
     "output_type": "execute_result"
    }
   ],
   "source": [
    "df['연도'] = df['날짜'].dt.year\n",
    "df.head(3)"
   ]
  },
  {
   "cell_type": "code",
   "execution_count": 187,
   "id": "e97042ad-fa12-43b7-a77e-20d8eecab0d2",
   "metadata": {},
   "outputs": [],
   "source": [
    "df['매출'] = df['판매수'] * df['개당수익']"
   ]
  },
  {
   "cell_type": "code",
   "execution_count": 193,
   "id": "073106a3-03c7-4abf-a9b0-ee2a0aa6432b",
   "metadata": {},
   "outputs": [
    {
     "name": "stdout",
     "output_type": "stream",
     "text": [
      "48600\n"
     ]
    }
   ],
   "source": [
    "print(abs(df[df['연도'] == 2022]['매출'].sum() - df[df['연도'] == 2023]['매출'].sum()))"
   ]
  },
  {
   "cell_type": "code",
   "execution_count": null,
   "id": "1edb7db0-eb40-43a4-9419-34f68c2ff8ed",
   "metadata": {},
   "outputs": [],
   "source": []
  },
  {
   "cell_type": "code",
   "execution_count": 199,
   "id": "a9437e9c-3592-4316-993c-deee46465dd2",
   "metadata": {},
   "outputs": [],
   "source": [
    "# 문제 23\n",
    "# '23년 총 매출액이 큰 제품의 23년 판매수를 구하시오.\n",
    "# (매출액 = 판매수*개당수익)\n",
    "\n",
    "df = pd.DataFrame( {\n",
    "    '날짜': ['20220103','20220105', '20230105','20230127','20220203', '20220205','20230210','20230223','20230312','20230422','20220505','20230511'],\n",
    "    '제품' : ['A','B', 'A', 'B', 'A', 'B','A', 'B', 'A', 'B', 'A', 'A'],\n",
    "    '판매수': [3, 5, 5, 10, 10, 10, 15, 15, 20, 25, 30, 40], \n",
    "    '개당수익': [300, 400, 500, 600, 400, 500, 500, 600, 600, 700, 600, 600] })"
   ]
  },
  {
   "cell_type": "code",
   "execution_count": 200,
   "id": "06c1d88b-6fe1-470b-a025-6746a9f88cd6",
   "metadata": {},
   "outputs": [],
   "source": [
    "df['연도'] = pd.to_datetime(df['날짜'])"
   ]
  },
  {
   "cell_type": "code",
   "execution_count": 201,
   "id": "735fc818-0527-47a5-8732-02de7008da47",
   "metadata": {},
   "outputs": [],
   "source": [
    "df['year'] = df['연도'].dt.year\n",
    "df['총계'] = df['판매수'] * df['개당수익']"
   ]
  },
  {
   "cell_type": "code",
   "execution_count": 219,
   "id": "c99fc425-91f4-4c56-b996-0fd760b79c2b",
   "metadata": {},
   "outputs": [],
   "source": [
    "max_idx = df[df['year'] == 2023].sort_values(by = '총계', ascending = False)['총계'].idxmax()"
   ]
  },
  {
   "cell_type": "code",
   "execution_count": 227,
   "id": "4b4c0804-136a-427b-b1f7-0d1e24d13d6f",
   "metadata": {},
   "outputs": [
    {
     "name": "stdout",
     "output_type": "stream",
     "text": [
      "40\n"
     ]
    }
   ],
   "source": [
    "print(df.loc[max_idx, '판매수'])"
   ]
  },
  {
   "cell_type": "code",
   "execution_count": null,
   "id": "30e77e58-11ea-4e50-b20d-c66944ced242",
   "metadata": {},
   "outputs": [],
   "source": []
  },
  {
   "cell_type": "code",
   "execution_count": 109,
   "id": "f4125985-5158-4f07-a19e-c4b5fab521f4",
   "metadata": {},
   "outputs": [],
   "source": [
    "# 문제 24\n",
    "# 매출액이 4천원 초과, 1만원 미만인 데이터 수를 출력하시오. \n",
    "# (매출액 = 판매수*개당수익)\n",
    "\n",
    "df = pd.DataFrame( {\n",
    "    '날짜': ['20220103','20220105', '20230105','20230127','20220203', '20220205','20230210','20230223','20230312','20230422','20220505','20230511'],\n",
    "    '제품' : ['A','B', 'A', 'B', 'A', 'B','A', 'B', 'A', 'B', 'A', 'A'],\n",
    "    '판매수': [3, 5, 5, 10, 10, 10, 15, 15, 20, 25, 30, 40], \n",
    "    '개당수익': [300, 400, 500, 600, 400, 500, 500, 600, 600, 700, 600, 600] })"
   ]
  },
  {
   "cell_type": "code",
   "execution_count": null,
   "id": "adc665f4-c7b7-486a-883b-0df77ecfb7da",
   "metadata": {},
   "outputs": [],
   "source": []
  },
  {
   "cell_type": "code",
   "execution_count": null,
   "id": "a5a66fed-dfc5-426a-8418-9b0837c63a7c",
   "metadata": {},
   "outputs": [],
   "source": []
  },
  {
   "cell_type": "code",
   "execution_count": null,
   "id": "bf4d7c64-56d5-46bd-ad45-7b9e3d8e456f",
   "metadata": {},
   "outputs": [],
   "source": []
  },
  {
   "cell_type": "code",
   "execution_count": 110,
   "id": "72629124-6682-40df-bf69-a9a756d43a6d",
   "metadata": {},
   "outputs": [],
   "source": [
    "# 문제 25\n",
    "# 23년 9월 24일 16:00~22:00 사이에 전체 제품의 판매수를 구하시오. \n",
    "\n",
    "df = pd.DataFrame( {\n",
    "    '물품' : ['A', 'B', 'A', 'B', 'A', 'B', 'A'],\n",
    "    '판매수': [5, 10, 15, 15, 20, 25, 40], \n",
    "    '개당수익': [500, 600, 500, 600, 600, 700, 600] })\n",
    "time = pd.date_range('2023-09-24 12:25:00','2023-09-25 14:45:30', periods= 7)\n",
    "df['time']=time\n",
    "df = df[ ['time','물품','판매수','개당수익']]"
   ]
  },
  {
   "cell_type": "code",
   "execution_count": null,
   "id": "22559e68-fc13-4699-8af8-68cd2c8f8051",
   "metadata": {},
   "outputs": [],
   "source": []
  },
  {
   "cell_type": "code",
   "execution_count": 108,
   "id": "bf3bf83b-4bac-4cf1-8934-c70b5d14e683",
   "metadata": {},
   "outputs": [],
   "source": [
    "# 문제 26\n",
    "# 9월 25일 00:00~12:00 까지의 B물품의 매출액 총합을 구하시오.\n",
    "# (매출액 = 판매수*개당수익)\n",
    "\n",
    "df = pd.DataFrame( {\n",
    "    '물품' : ['A', 'B', 'A', 'B', 'A', 'B', 'A'],\n",
    "    '판매수': [5, 10, 15, 15, 20, 25, 40], \n",
    "    '개당수익': [500, 600, 500, 600, 600, 700, 600] } )\n",
    "df['time'] = pd.date_range('2023-09-24 12:25:00','2023-09-25 14:45:30', periods= 7)\n",
    "df = df[ ['time','물품','판매수','개당수익'] ]\n",
    "df = df.set_index('time', drop=True)"
   ]
  },
  {
   "cell_type": "code",
   "execution_count": null,
   "id": "fe88e57a-bf2c-47df-a3a4-75c27b722f72",
   "metadata": {},
   "outputs": [],
   "source": []
  },
  {
   "cell_type": "code",
   "execution_count": null,
   "id": "307d0e98-307d-4e05-8a40-7f47eb00e6e4",
   "metadata": {},
   "outputs": [],
   "source": [
    "# 문제 27\n",
    "# 9월 24일 12:00~24:00 까지의 A물품의 매출액 총합을 구하시오.\n",
    "# (매출액 = 판매수*개당수익)\n",
    "\n",
    "df = pd.DataFrame( {\n",
    "    '물품' : ['A', 'B', 'A', 'B', 'A', 'B', 'A'],\n",
    "    '판매수': [5, 10, 15, 15, 20, 25, 40], \n",
    "    '개당수익': [500, 600, 500, 600, 600, 700, 600] } )\n",
    "df['time'] = pd.date_range('2023-09-24 12:25:00','2023-09-25 14:45:30', periods= 7)\n",
    "df = df[ ['time','물품','판매수','개당수익'] ]\n",
    "df = df.set_index('time', drop=True)"
   ]
  }
 ],
 "metadata": {
  "kernelspec": {
   "display_name": "Python 3 (ipykernel)",
   "language": "python",
   "name": "python3"
  },
  "language_info": {
   "codemirror_mode": {
    "name": "ipython",
    "version": 3
   },
   "file_extension": ".py",
   "mimetype": "text/x-python",
   "name": "python",
   "nbconvert_exporter": "python",
   "pygments_lexer": "ipython3",
   "version": "3.10.12"
  }
 },
 "nbformat": 4,
 "nbformat_minor": 5
}
