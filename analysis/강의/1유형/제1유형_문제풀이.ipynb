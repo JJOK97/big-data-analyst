{
 "cells": [
  {
   "cell_type": "markdown",
   "id": "21bdad4c-16f9-4a40-b086-78305c3c2295",
   "metadata": {},
   "source": [
    "#### 핵심문제 27개(1~10)"
   ]
  },
  {
   "cell_type": "code",
   "execution_count": 112,
   "id": "2642ba58-ee86-48e9-a030-786a5ede8314",
   "metadata": {},
   "outputs": [],
   "source": [
    "# 데이터 불러오기\n",
    "import pandas as pd\n",
    "import numpy as np"
   ]
  },
  {
   "cell_type": "code",
   "execution_count": 113,
   "id": "39332c55-5969-4d48-99ed-fba371fa7083",
   "metadata": {},
   "outputs": [
    {
     "data": {
      "text/html": [
       "<div>\n",
       "<style scoped>\n",
       "    .dataframe tbody tr th:only-of-type {\n",
       "        vertical-align: middle;\n",
       "    }\n",
       "\n",
       "    .dataframe tbody tr th {\n",
       "        vertical-align: top;\n",
       "    }\n",
       "\n",
       "    .dataframe thead th {\n",
       "        text-align: right;\n",
       "    }\n",
       "</style>\n",
       "<table border=\"1\" class=\"dataframe\">\n",
       "  <thead>\n",
       "    <tr style=\"text-align: right;\">\n",
       "      <th></th>\n",
       "      <th>car</th>\n",
       "      <th>mpg</th>\n",
       "      <th>cyl</th>\n",
       "      <th>disp</th>\n",
       "      <th>hp</th>\n",
       "      <th>drat</th>\n",
       "      <th>wt</th>\n",
       "      <th>qsec</th>\n",
       "      <th>vs</th>\n",
       "      <th>am</th>\n",
       "      <th>gear</th>\n",
       "      <th>carb</th>\n",
       "    </tr>\n",
       "  </thead>\n",
       "  <tbody>\n",
       "    <tr>\n",
       "      <th>0</th>\n",
       "      <td>Mazda RX4</td>\n",
       "      <td>21.0</td>\n",
       "      <td>6</td>\n",
       "      <td>160.0</td>\n",
       "      <td>110</td>\n",
       "      <td>3.90</td>\n",
       "      <td>2.620</td>\n",
       "      <td>16.46</td>\n",
       "      <td>0</td>\n",
       "      <td>1</td>\n",
       "      <td>4</td>\n",
       "      <td>4</td>\n",
       "    </tr>\n",
       "    <tr>\n",
       "      <th>1</th>\n",
       "      <td>Mazda RX4 Wag</td>\n",
       "      <td>21.0</td>\n",
       "      <td>6</td>\n",
       "      <td>160.0</td>\n",
       "      <td>110</td>\n",
       "      <td>3.90</td>\n",
       "      <td>2.875</td>\n",
       "      <td>17.02</td>\n",
       "      <td>0</td>\n",
       "      <td>1</td>\n",
       "      <td>4</td>\n",
       "      <td>4</td>\n",
       "    </tr>\n",
       "    <tr>\n",
       "      <th>2</th>\n",
       "      <td>Datsun 710</td>\n",
       "      <td>22.8</td>\n",
       "      <td>4</td>\n",
       "      <td>108.0</td>\n",
       "      <td>93</td>\n",
       "      <td>3.85</td>\n",
       "      <td>2.320</td>\n",
       "      <td>18.61</td>\n",
       "      <td>1</td>\n",
       "      <td>1</td>\n",
       "      <td>4</td>\n",
       "      <td>1</td>\n",
       "    </tr>\n",
       "    <tr>\n",
       "      <th>3</th>\n",
       "      <td>Hornet 4 Drive</td>\n",
       "      <td>21.4</td>\n",
       "      <td>6</td>\n",
       "      <td>258.0</td>\n",
       "      <td>110</td>\n",
       "      <td>3.08</td>\n",
       "      <td>3.215</td>\n",
       "      <td>19.44</td>\n",
       "      <td>1</td>\n",
       "      <td>0</td>\n",
       "      <td>3</td>\n",
       "      <td>1</td>\n",
       "    </tr>\n",
       "    <tr>\n",
       "      <th>4</th>\n",
       "      <td>Hornet Sportabout</td>\n",
       "      <td>18.7</td>\n",
       "      <td>8</td>\n",
       "      <td>360.0</td>\n",
       "      <td>175</td>\n",
       "      <td>3.15</td>\n",
       "      <td>3.440</td>\n",
       "      <td>17.02</td>\n",
       "      <td>0</td>\n",
       "      <td>0</td>\n",
       "      <td>3</td>\n",
       "      <td>2</td>\n",
       "    </tr>\n",
       "  </tbody>\n",
       "</table>\n",
       "</div>"
      ],
      "text/plain": [
       "                 car   mpg  cyl   disp   hp  drat     wt   qsec  vs  am  gear  \\\n",
       "0          Mazda RX4  21.0    6  160.0  110  3.90  2.620  16.46   0   1     4   \n",
       "1      Mazda RX4 Wag  21.0    6  160.0  110  3.90  2.875  17.02   0   1     4   \n",
       "2         Datsun 710  22.8    4  108.0   93  3.85  2.320  18.61   1   1     4   \n",
       "3     Hornet 4 Drive  21.4    6  258.0  110  3.08  3.215  19.44   1   0     3   \n",
       "4  Hornet Sportabout  18.7    8  360.0  175  3.15  3.440  17.02   0   0     3   \n",
       "\n",
       "   carb  \n",
       "0     4  \n",
       "1     4  \n",
       "2     1  \n",
       "3     1  \n",
       "4     2  "
      ]
     },
     "execution_count": 113,
     "metadata": {},
     "output_type": "execute_result"
    }
   ],
   "source": [
    "df = pd.read_csv(\"../../mtcars.csv\")\n",
    "df.head()"
   ]
  },
  {
   "cell_type": "code",
   "execution_count": 114,
   "id": "1442d92a-42e8-4007-9039-a2343dcc6af0",
   "metadata": {},
   "outputs": [],
   "source": [
    "# 문제 1\n",
    "# mpg 변수의 제 1사분위수를 구하고 정수값으로 출력하시오.\n",
    "df = pd.read_csv(\"../../mtcars.csv\")"
   ]
  },
  {
   "cell_type": "code",
   "execution_count": 115,
   "id": "dd151733-d725-4217-bd69-1bcc01902863",
   "metadata": {},
   "outputs": [
    {
     "name": "stdout",
     "output_type": "stream",
     "text": [
      "15\n"
     ]
    }
   ],
   "source": [
    "Q1 = df['mpg'].quantile(0.25)\n",
    "print(round(Q1))"
   ]
  },
  {
   "cell_type": "code",
   "execution_count": null,
   "id": "182d0451-9f35-41f6-bc63-11b70d3e30eb",
   "metadata": {},
   "outputs": [],
   "source": []
  },
  {
   "cell_type": "code",
   "execution_count": 116,
   "id": "e4e600f2-820f-4789-9921-5d6d1de821a8",
   "metadata": {},
   "outputs": [],
   "source": [
    "# 문제 2\n",
    "# mpg 값이 19이상 21이하인 데이터의 수를 구하시오\n",
    "df = pd.read_csv(\"../../mtcars.csv\")"
   ]
  },
  {
   "cell_type": "code",
   "execution_count": 117,
   "id": "4d8a0be3-cd6e-45fa-b1f5-020b63fccb68",
   "metadata": {},
   "outputs": [
    {
     "name": "stdout",
     "output_type": "stream",
     "text": [
      "5\n"
     ]
    }
   ],
   "source": [
    "cond = df[(df['mpg'] >= 19) & (df['mpg'] <= 21)]\n",
    "print(len(cond))"
   ]
  },
  {
   "cell_type": "code",
   "execution_count": null,
   "id": "12281dc2-038a-40b6-944a-fd309e6a0ec4",
   "metadata": {},
   "outputs": [],
   "source": []
  },
  {
   "cell_type": "code",
   "execution_count": 118,
   "id": "b9473b84-09ae-42e1-896a-9fe238a9ab7e",
   "metadata": {},
   "outputs": [
    {
     "name": "stdout",
     "output_type": "stream",
     "text": [
      "83.5\n"
     ]
    }
   ],
   "source": [
    "# 문제 3 ***\n",
    "# hp 변수의 IQR 값을 구하시오\n",
    "df = pd.read_csv(\"../../mtcars.csv\")\n",
    "Q1 = df['hp'].quantile(0.25)\n",
    "Q3 = df['hp'].quantile(0.75)\n",
    "\n",
    "print(Q3 - Q1)"
   ]
  },
  {
   "cell_type": "code",
   "execution_count": null,
   "id": "99d50053-96f5-4fef-b049-7c17488d6e9b",
   "metadata": {},
   "outputs": [],
   "source": []
  },
  {
   "cell_type": "code",
   "execution_count": 119,
   "id": "1b221627-3154-4f31-9e71-dfe81bdfa736",
   "metadata": {},
   "outputs": [
    {
     "name": "stdout",
     "output_type": "stream",
     "text": [
      "42\n"
     ]
    }
   ],
   "source": [
    "# 문제 4\n",
    "# wt 변수의 상위 10개 값의 총합을 구하여 소수점을 버리고 정수로 출력하시오.\n",
    "df = pd.read_csv(\"../../mtcars.csv\")\n",
    "cond = df['wt'].sort_values(ascending=False).head(10)\n",
    "sum_top10 = sum(cond)\n",
    "print(int(sum_top10)) # 주의 : 소수점 반올림이 아니라 버리는 문제"
   ]
  },
  {
   "cell_type": "code",
   "execution_count": null,
   "id": "eacfdd8a-b44b-4603-9d1e-d06dada58a78",
   "metadata": {},
   "outputs": [],
   "source": []
  },
  {
   "cell_type": "code",
   "execution_count": 120,
   "id": "76b3345c-fd1d-4626-a08c-76a6154d775d",
   "metadata": {},
   "outputs": [
    {
     "name": "stdout",
     "output_type": "stream",
     "text": [
      "0.2\n"
     ]
    }
   ],
   "source": [
    "# 문제 5\n",
    "# 전체 자동차에서 cyl가 6인 비율이 얼마인지 소수점 첫째자리까지 출력하시오.\n",
    "df = pd.read_csv(\"../../mtcars.csv\")\n",
    "all_cars = len(df)\n",
    "cyl_cars = len(df[df['cyl'] == 6])\n",
    "\n",
    "print(round(cyl_cars/all_cars, 1))"
   ]
  },
  {
   "cell_type": "code",
   "execution_count": null,
   "id": "a7a95f73-d610-453d-ba03-3876c2d65cea",
   "metadata": {},
   "outputs": [],
   "source": []
  },
  {
   "cell_type": "code",
   "execution_count": 121,
   "id": "6763f5c8-9637-4481-b06a-7729b823a219",
   "metadata": {},
   "outputs": [
    {
     "name": "stdout",
     "output_type": "stream",
     "text": [
      "20\n"
     ]
    }
   ],
   "source": [
    "# 문제 6\n",
    "# 첫번째 행부터 순서대로 10개 뽑은 후 mpg 열의 평균값을 반올림하여 정수로 출력하시오\n",
    "df = pd.read_csv(\"../../mtcars.csv\")\n",
    "\n",
    "df10 = df.head(10)\n",
    "mpg_means = df10['mpg'].mean()\n",
    "print(round(mpg_means))"
   ]
  },
  {
   "cell_type": "code",
   "execution_count": null,
   "id": "e34404e6-bed5-4fbd-94c0-277389afecbc",
   "metadata": {},
   "outputs": [],
   "source": []
  },
  {
   "cell_type": "code",
   "execution_count": 122,
   "id": "a86e3402-aac3-45fb-b33d-f238fa0d48fb",
   "metadata": {},
   "outputs": [
    {
     "name": "stdout",
     "output_type": "stream",
     "text": [
      "3.44\n"
     ]
    }
   ],
   "source": [
    "# 문제 7\n",
    "# 첫번째 행부터 순서대로 50%까지 데이터를 뽑아 wt 변수의 중앙값을 구하시오.\n",
    "df = pd.read_csv(\"../../mtcars.csv\")\n",
    "\n",
    "n = int(len(df)/2)\n",
    "half = df.head(n)\n",
    "median = half['wt'].median()\n",
    "print(median)"
   ]
  },
  {
   "cell_type": "code",
   "execution_count": null,
   "id": "8f818ba8-4529-42af-9967-cfbe122792b5",
   "metadata": {},
   "outputs": [],
   "source": []
  },
  {
   "cell_type": "code",
   "execution_count": 123,
   "id": "50c8fe9f-2cc5-4bcf-8dec-af500199bb44",
   "metadata": {},
   "outputs": [
    {
     "name": "stdout",
     "output_type": "stream",
     "text": [
      "5\n"
     ]
    }
   ],
   "source": [
    "# 문제 8 ***\n",
    "# 결측값이 있는 데이터의 수를 출력하시오.\n",
    "\n",
    "# 데이터 생성(수정금지)\n",
    "df = pd.DataFrame( {\n",
    "    '날짜': ['20220103','20220105', None,'20230127','20220203', '20220205','20230210','20230223','20230312','20230422','20220505','20230511'],\n",
    "    '제품' : ['A','B', None, 'B', 'A', None,'A', 'B', 'A', 'B', 'A', 'A'],\n",
    "    '판매수': [3, None, 5, 10, 10, 10, 15, 15, 20, None, 30, 40], \n",
    "    '개당수익': [300, 400, 500, 600, 400, 500, 500, 600, 600, 700, 600, 600] })\n",
    "\n",
    "# ----------------------------------------------------\n",
    "\n",
    "missing = df.isnull().sum()\n",
    "print(missing.sum())"
   ]
  },
  {
   "cell_type": "code",
   "execution_count": null,
   "id": "561b8218-3d53-4a30-977d-2e52727f8cdb",
   "metadata": {},
   "outputs": [],
   "source": []
  },
  {
   "cell_type": "code",
   "execution_count": 124,
   "id": "23ccb95e-291e-4c07-8c05-538f0cf1bd93",
   "metadata": {},
   "outputs": [
    {
     "name": "stdout",
     "output_type": "stream",
     "text": [
      "15\n"
     ]
    }
   ],
   "source": [
    "# 문제 9 ***\n",
    "# '판매 수' 컬럼의 결측값을 판매수의 중앙값으로 대체하고 판매수의 평균값을 정수로 출력\n",
    "\n",
    "# 데이터 생성(수정금지)\n",
    "df = pd.DataFrame( {\n",
    "    '날짜': ['20220103','20220105', None,'20230127','20220203', '20220205','20230210','20230223','20230312','20230422','20220505','20230511'],\n",
    "    '제품' : ['A','B', None, 'B', 'A', None,'A', 'B', 'A', 'B', 'A', 'A'],\n",
    "    '판매수': [3, None, 5, 10, 10, 10, 15, 15, 20, None, 30, 40], \n",
    "    '개당수익': [300, 400, 500, 600, 400, 500, 500, 600, 600, 700, 600, 600] })\n",
    "\n",
    "# ---------------------------------------------------\n",
    "\n",
    "Q2 = df['판매수'].median() # 중앙값 구해서\n",
    "df['판매수'] = df['판매수'].fillna(Q2) # na에 Q2로 채움\n",
    "mean = df['판매수'].mean()\n",
    "print( round( mean ) )"
   ]
  },
  {
   "cell_type": "code",
   "execution_count": null,
   "id": "b05a07b0-96d9-4186-8f61-17c651e9d114",
   "metadata": {},
   "outputs": [],
   "source": []
  },
  {
   "cell_type": "code",
   "execution_count": 125,
   "id": "c4b05a4d-26c9-49ac-850c-08abe90203cd",
   "metadata": {},
   "outputs": [
    {
     "name": "stdout",
     "output_type": "stream",
     "text": [
      "5\n"
     ]
    }
   ],
   "source": [
    "# 문제 10 ***\n",
    "# 판매수 컬럼에 결측치가 있는 행을 제거하고,\n",
    "# 첫번째 행부터 순서대로 50%까지의 데이터를 추출하여\n",
    "# 판매수 변수의 Q1(제1사분위수) 값을 정수로 출력하시오.\n",
    "df = pd.DataFrame( {\n",
    "    '날짜': ['20220103','20220105', None,'20230127','20220203', '20220205','20230210','20230223','20230312','20230422','20220505','20230511'],\n",
    "    '제품' : ['A','B', None, 'B', 'A', None,'A', 'B', 'A', 'B', 'A', 'A'],\n",
    "    '판매수': [3, None, 5, 10, 10, 10, 15, 15, 20, None, 30, 40], \n",
    "    '개당수익': [300, 400, 500, 600, 400, 500, 500, 600, 600, 700, 600, 600] })\n",
    "\n",
    "# -------------------------------------------------\n",
    "\n",
    "df = df['판매수'].dropna()\n",
    "\n",
    "half = df[:(int(len(df)/2))]\n",
    "\n",
    "half_Q1 = round(half.quantile(0.25))\n",
    "\n",
    "print(half_Q1)"
   ]
  },
  {
   "cell_type": "code",
   "execution_count": null,
   "id": "8a08550b-9f5e-4181-acd5-e8efa0c7847d",
   "metadata": {},
   "outputs": [],
   "source": []
  },
  {
   "cell_type": "code",
   "execution_count": 126,
   "id": "e6f9fac8-f355-439a-991a-d09aa3430f88",
   "metadata": {},
   "outputs": [],
   "source": [
    "# 문제 11\n",
    "# cyl가 4인 자동차와 6인 자동차 그룹의 mpg 평균값 차이를 절대값으로 정수로 출력하시오\n",
    "df = pd.read_csv(\"../../mtcars.csv\")"
   ]
  },
  {
   "cell_type": "code",
   "execution_count": 127,
   "id": "17e5fd41-10fa-40be-bc2b-9afdc93334c1",
   "metadata": {},
   "outputs": [
    {
     "name": "stdout",
     "output_type": "stream",
     "text": [
      "6\n"
     ]
    }
   ],
   "source": [
    "# cyl이 4인 자동차\n",
    "four = df[df['cyl'] == 4]\n",
    "\n",
    "# cyl이 6인 자동차\n",
    "six = df[df['cyl'] == 6]\n",
    "\n",
    "# mpg 평균값의 차이와 절댓값\n",
    "abs_minus = abs(four['mpg'].mean() - six['mpg'].mean())\n",
    "\n",
    "# 정수\n",
    "int_value = int(abs_minus)\n",
    "\n",
    "print(int_value)"
   ]
  },
  {
   "cell_type": "code",
   "execution_count": null,
   "id": "5e3254c8-da02-4241-b544-e5d236d0f680",
   "metadata": {},
   "outputs": [],
   "source": []
  },
  {
   "cell_type": "code",
   "execution_count": 128,
   "id": "732c0770-25d3-4c02-9d76-1465ffbf1bdc",
   "metadata": {},
   "outputs": [],
   "source": [
    "# 문제 12 ***\n",
    "# hp 변수에 대해 데이터 표준화 (Z-score)를 진행하고 이상치의 수를 구하시오.\n",
    "# ( 단, 이상치의 z값이 1.5를 초과하거나 -1.5 미만인 값이다 )\n",
    "df = pd.read_csv(\"../../mtcars.csv\")"
   ]
  },
  {
   "cell_type": "code",
   "execution_count": 129,
   "id": "3a218498-8339-435b-bf59-2beaa6779523",
   "metadata": {},
   "outputs": [
    {
     "name": "stdout",
     "output_type": "stream",
     "text": [
      "2\n"
     ]
    }
   ],
   "source": [
    "# hp 변수에 대한 데이터 표준화 (x-표준 평균)/표준 편차\n",
    "mean_hp = df['hp'].mean()\n",
    "std_hp  = df['hp'].std()\n",
    "\n",
    "df['hp_z'] = (df['hp'] - mean_hp) / std_hp\n",
    "\n",
    "# 이상치의 수를 구하라\n",
    "is_outlier = (df['hp_z']  > 1.5 ) | (df['hp_z'] < -1.5)\n",
    "\n",
    "# 이상치가 True인 행만 필터링\n",
    "outlier_df = df[is_outlier]\n",
    "\n",
    "# 이상치 갯수 출력\n",
    "num_outliers = len(outlier_df)\n",
    "print(num_outliers)"
   ]
  },
  {
   "cell_type": "code",
   "execution_count": null,
   "id": "8be3b50c-b3a0-4c5f-be93-ef0c18bdfc23",
   "metadata": {},
   "outputs": [],
   "source": []
  },
  {
   "cell_type": "code",
   "execution_count": null,
   "id": "47119852-04c5-43a4-9948-388fa48d1dcb",
   "metadata": {},
   "outputs": [],
   "source": [
    "# 문제 13\n",
    "# mpg 컬럼을 최소최대 Scaling을 진행한 후 0.7보다 큰 값을 가지는 레코드 수를 구하라.\n",
    "df = pd.read_csv(\"../../mtcars.csv\")"
   ]
  },
  {
   "cell_type": "code",
   "execution_count": null,
   "id": "d144c1c4-c51e-4925-bcd6-fb8d3ee47c40",
   "metadata": {},
   "outputs": [],
   "source": []
  },
  {
   "cell_type": "code",
   "execution_count": null,
   "id": "b330fc1f-7b8d-4b5a-944c-7a62aeafa303",
   "metadata": {},
   "outputs": [],
   "source": [
    "# 문제 14\n",
    "# wt컬럼에 대해 상자그림 기준으로 이상치의 개수를 구하시오. \n",
    "df = pd.read_csv(\"../../mtcars.csv\")"
   ]
  }
 ],
 "metadata": {
  "kernelspec": {
   "display_name": "Python 3 (ipykernel)",
   "language": "python",
   "name": "python3"
  },
  "language_info": {
   "codemirror_mode": {
    "name": "ipython",
    "version": 3
   },
   "file_extension": ".py",
   "mimetype": "text/x-python",
   "name": "python",
   "nbconvert_exporter": "python",
   "pygments_lexer": "ipython3",
   "version": "3.12.3"
  }
 },
 "nbformat": 4,
 "nbformat_minor": 5
}
