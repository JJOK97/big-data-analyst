{
 "cells": [
  {
   "cell_type": "code",
   "execution_count": 271,
   "id": "9fada2d8-a05f-4e95-a2b7-0ca91d683b88",
   "metadata": {},
   "outputs": [
    {
     "data": {
      "text/html": [
       "<div>\n",
       "<style scoped>\n",
       "    .dataframe tbody tr th:only-of-type {\n",
       "        vertical-align: middle;\n",
       "    }\n",
       "\n",
       "    .dataframe tbody tr th {\n",
       "        vertical-align: top;\n",
       "    }\n",
       "\n",
       "    .dataframe thead th {\n",
       "        text-align: right;\n",
       "    }\n",
       "</style>\n",
       "<table border=\"1\" class=\"dataframe\">\n",
       "  <thead>\n",
       "    <tr style=\"text-align: right;\">\n",
       "      <th></th>\n",
       "      <th>car</th>\n",
       "      <th>mpg</th>\n",
       "      <th>cyl</th>\n",
       "      <th>disp</th>\n",
       "      <th>hp</th>\n",
       "      <th>drat</th>\n",
       "      <th>wt</th>\n",
       "      <th>qsec</th>\n",
       "      <th>vs</th>\n",
       "      <th>am</th>\n",
       "      <th>gear</th>\n",
       "      <th>carb</th>\n",
       "    </tr>\n",
       "  </thead>\n",
       "  <tbody>\n",
       "    <tr>\n",
       "      <th>0</th>\n",
       "      <td>Mazda RX4</td>\n",
       "      <td>21.0</td>\n",
       "      <td>6</td>\n",
       "      <td>160.0</td>\n",
       "      <td>110</td>\n",
       "      <td>3.90</td>\n",
       "      <td>2.620</td>\n",
       "      <td>16.46</td>\n",
       "      <td>0</td>\n",
       "      <td>1</td>\n",
       "      <td>4</td>\n",
       "      <td>4</td>\n",
       "    </tr>\n",
       "    <tr>\n",
       "      <th>1</th>\n",
       "      <td>Mazda RX4 Wag</td>\n",
       "      <td>21.0</td>\n",
       "      <td>6</td>\n",
       "      <td>160.0</td>\n",
       "      <td>110</td>\n",
       "      <td>3.90</td>\n",
       "      <td>2.875</td>\n",
       "      <td>17.02</td>\n",
       "      <td>0</td>\n",
       "      <td>1</td>\n",
       "      <td>4</td>\n",
       "      <td>4</td>\n",
       "    </tr>\n",
       "    <tr>\n",
       "      <th>2</th>\n",
       "      <td>Datsun 710</td>\n",
       "      <td>22.8</td>\n",
       "      <td>4</td>\n",
       "      <td>108.0</td>\n",
       "      <td>93</td>\n",
       "      <td>3.85</td>\n",
       "      <td>2.320</td>\n",
       "      <td>18.61</td>\n",
       "      <td>1</td>\n",
       "      <td>1</td>\n",
       "      <td>4</td>\n",
       "      <td>1</td>\n",
       "    </tr>\n",
       "    <tr>\n",
       "      <th>3</th>\n",
       "      <td>Hornet 4 Drive</td>\n",
       "      <td>21.4</td>\n",
       "      <td>6</td>\n",
       "      <td>258.0</td>\n",
       "      <td>110</td>\n",
       "      <td>3.08</td>\n",
       "      <td>3.215</td>\n",
       "      <td>19.44</td>\n",
       "      <td>1</td>\n",
       "      <td>0</td>\n",
       "      <td>3</td>\n",
       "      <td>1</td>\n",
       "    </tr>\n",
       "    <tr>\n",
       "      <th>4</th>\n",
       "      <td>Hornet Sportabout</td>\n",
       "      <td>18.7</td>\n",
       "      <td>8</td>\n",
       "      <td>360.0</td>\n",
       "      <td>175</td>\n",
       "      <td>3.15</td>\n",
       "      <td>3.440</td>\n",
       "      <td>17.02</td>\n",
       "      <td>0</td>\n",
       "      <td>0</td>\n",
       "      <td>3</td>\n",
       "      <td>2</td>\n",
       "    </tr>\n",
       "  </tbody>\n",
       "</table>\n",
       "</div>"
      ],
      "text/plain": [
       "                 car   mpg  cyl   disp   hp  drat     wt   qsec  vs  am  gear  \\\n",
       "0          Mazda RX4  21.0    6  160.0  110  3.90  2.620  16.46   0   1     4   \n",
       "1      Mazda RX4 Wag  21.0    6  160.0  110  3.90  2.875  17.02   0   1     4   \n",
       "2         Datsun 710  22.8    4  108.0   93  3.85  2.320  18.61   1   1     4   \n",
       "3     Hornet 4 Drive  21.4    6  258.0  110  3.08  3.215  19.44   1   0     3   \n",
       "4  Hornet Sportabout  18.7    8  360.0  175  3.15  3.440  17.02   0   0     3   \n",
       "\n",
       "   carb  \n",
       "0     4  \n",
       "1     4  \n",
       "2     1  \n",
       "3     1  \n",
       "4     2  "
      ]
     },
     "execution_count": 271,
     "metadata": {},
     "output_type": "execute_result"
    }
   ],
   "source": [
    "import pandas as pd\n",
    "import numpy as np\n",
    "df = pd.read_csv(\"mtcars.csv\")\n",
    "df.head()"
   ]
  },
  {
   "cell_type": "code",
   "execution_count": 272,
   "id": "72a6dcc5-cbad-4ff4-8332-cfb03adc0767",
   "metadata": {},
   "outputs": [
    {
     "data": {
      "text/plain": [
       "15"
      ]
     },
     "execution_count": 272,
     "metadata": {},
     "output_type": "execute_result"
    }
   ],
   "source": [
    "# 문제 1\n",
    "# mpg 변수의 제 1사분위수를 구하고 반올림하여 정수값으로 출력하시오.\n",
    "df = pd.read_csv(\"mtcars.csv\")\n",
    "\n",
    "round(df['mpg'].quantile(0.25))"
   ]
  },
  {
   "cell_type": "code",
   "execution_count": 273,
   "id": "f85b6670-079b-4224-8194-fabbc05c4b4a",
   "metadata": {},
   "outputs": [
    {
     "data": {
      "text/plain": [
       "5"
      ]
     },
     "execution_count": 273,
     "metadata": {},
     "output_type": "execute_result"
    }
   ],
   "source": [
    "# 문제 2\n",
    "# mpg 값이 19이상 21이하인 데이터의 수를 구하시오.\n",
    "df = pd.read_csv(\"mtcars.csv\")\n",
    "df[((df['mpg'] >= 19) & (df['mpg'] <= 21))].value_counts().sum()"
   ]
  },
  {
   "cell_type": "code",
   "execution_count": 274,
   "id": "2221d47d-6566-4543-be1c-f0bf1c9250d7",
   "metadata": {},
   "outputs": [
    {
     "name": "stdout",
     "output_type": "stream",
     "text": [
      "83.5\n"
     ]
    }
   ],
   "source": [
    "# 문제 3\n",
    "# hp 변수의 IQR 값을 구하시오.\n",
    "df = pd.read_csv(\"mtcars.csv\")\n",
    "Q3 = df['hp'].quantile(0.75)\n",
    "Q1 = df['hp'].quantile(0.25)\n",
    "IQR = Q3 - Q1\n",
    "print(IQR)"
   ]
  },
  {
   "cell_type": "code",
   "execution_count": 275,
   "id": "b15ca9f7-61e9-499f-bc7c-e33602afde39",
   "metadata": {},
   "outputs": [
    {
     "name": "stdout",
     "output_type": "stream",
     "text": [
      "31\n"
     ]
    }
   ],
   "source": [
    "# 문제 4\n",
    "# wt 변수의 상위 10개 값의 총합을 구하여 소수점을 버리고 정수로 출력하시오. \n",
    "df = pd.read_csv(\"mtcars.csv\")\n",
    "df['wt'] = df['wt'].sort_values()\n",
    "print(round(df['wt'].head(10).sum()))"
   ]
  },
  {
   "cell_type": "code",
   "execution_count": 276,
   "id": "65e4d284-8659-436f-8e88-e013b2b635af",
   "metadata": {},
   "outputs": [
    {
     "name": "stdout",
     "output_type": "stream",
     "text": [
      "cyl\n",
      "6    0.2\n",
      "Name: count, dtype: float64\n"
     ]
    }
   ],
   "source": [
    "# 문제 5\n",
    "# 전체 자동차에서 cyl가 6인 비율이 얼마인지 반올림하여 소수점 첫째자리까지 출력하시오.\n",
    "df = pd.read_csv(\"mtcars.csv\")\n",
    "six = df[df['cyl'] == 6]['cyl'].value_counts()\n",
    "six_a = df['cyl'].value_counts().sum()\n",
    "print( round(six/six_a, 1) )"
   ]
  },
  {
   "cell_type": "code",
   "execution_count": 277,
   "id": "aa5739a4-2280-459a-8d76-08277b50a064",
   "metadata": {},
   "outputs": [
    {
     "name": "stdout",
     "output_type": "stream",
     "text": [
      "20\n"
     ]
    }
   ],
   "source": [
    "# 문제 6\n",
    "# 첫번째 행부터 순서대로 10개 뽑은 후 mpg 열의 평균값을 반올림하여 정수로 출력하시오. \n",
    "df = pd.read_csv(\"mtcars.csv\")\n",
    "print(round(df.loc[:9, 'mpg'].mean()))"
   ]
  },
  {
   "cell_type": "code",
   "execution_count": 278,
   "id": "9414b205-e01f-44df-85ce-35ed2556f765",
   "metadata": {},
   "outputs": [
    {
     "name": "stdout",
     "output_type": "stream",
     "text": [
      "3.44\n"
     ]
    }
   ],
   "source": [
    "# 문제 7\n",
    "# 첫번째 행부터 순서대로 50%까지 데이터를 뽑아 wt 변수의 중앙값을 구하시오.\n",
    "df = pd.read_csv(\"mtcars.csv\")\n",
    "# df\n",
    "n2 = round(len(df)/2)\n",
    "print(df['wt'].head(n2).median())"
   ]
  },
  {
   "cell_type": "code",
   "execution_count": 279,
   "id": "5e0d2169-b8aa-48d9-b867-e9f6548e8a34",
   "metadata": {},
   "outputs": [
    {
     "name": "stdout",
     "output_type": "stream",
     "text": [
      "5\n"
     ]
    }
   ],
   "source": [
    "# 문제 8 \n",
    "# 결측값이 있는 데이터의 수를 출력하시오.\n",
    "df = pd.DataFrame( {\n",
    "    '날짜': ['20220103','20220105', None,'20230127','20220203', '20220205','20230210','20230223','20230312','20230422','20220505','20230511'],\n",
    "    '제품' : ['A','B', None, 'B', 'A', None,'A', 'B', 'A', 'B', 'A', 'A'],\n",
    "    '판매수': [3, None, 5, 10, 10, 10, 15, 15, 20, None, 30, 40], \n",
    "    '개당수익': [300, 400, 500, 600, 400, 500, 500, 600, 600, 700, 600, 600] })\n",
    "\n",
    "print(df.isna().sum().sum())"
   ]
  },
  {
   "cell_type": "code",
   "execution_count": 280,
   "id": "445a15c3-28ba-4665-b05e-8873cd5974e1",
   "metadata": {},
   "outputs": [
    {
     "name": "stdout",
     "output_type": "stream",
     "text": [
      "15\n"
     ]
    }
   ],
   "source": [
    "# 문제 9\n",
    "# '판매수' 컬럼의 결측값을 판매수의 중앙값으로 대체하고\n",
    "# 판매수의 평균값을 반올림하여 정수로 출력하시오. \n",
    "# 데이터 생성(수정금지)\n",
    "df = pd.DataFrame( {\n",
    "    '날짜': ['20220103','20220105', None,'20230127','20220203', '20220205','20230210','20230223','20230312','20230422','20220505','20230511'],\n",
    "    '제품' : ['A','B', None, 'B', 'A', None,'A', 'B', 'A', 'B', 'A', 'A'],\n",
    "    '판매수': [3, None, 5, 10, 10, 10, 15, 15, 20, None, 30, 40], \n",
    "    '개당수익': [300, 400, 500, 600, 400, 500, 500, 600, 600, 700, 600, 600] })\n",
    "\n",
    "판매수_median = df['판매수'].median()\n",
    "df['판매수'] = df['판매수'].fillna(판매수_median)\n",
    "\n",
    "판매수_mean = round(df['판매수'].mean())\n",
    "print(판매수_mean)"
   ]
  },
  {
   "cell_type": "code",
   "execution_count": 281,
   "id": "7939d4f0-f13d-4cdd-8a48-0a9ab63b8caf",
   "metadata": {},
   "outputs": [
    {
     "name": "stdout",
     "output_type": "stream",
     "text": [
      "5\n"
     ]
    }
   ],
   "source": [
    "# 문제 10\n",
    "# 판매수 컬럼에 결측치가 있는 행을 제거하고,\n",
    "# 첫번째 행부터 순서대로 50%까지의 데이터를 추출하여\n",
    "# 판매수 변수의 Q1(제1사분위수)값을 반올림하여 정수로 출력하시오. \n",
    "# 데이터 (수정금지)\n",
    "df = pd.DataFrame( {\n",
    "    '날짜': ['20220103','20220105', None,'20230127','20220203', '20220205','20230210','20230223','20230312','20230422','20220505','20230511'],\n",
    "    '제품' : ['A','B', None, 'B', 'A', None,'A', 'B', 'A', 'B', 'A', 'A'],\n",
    "    '판매수': [3, None, 5, 10, 10, 10, 15, 15, 20, None, 30, 40], \n",
    "    '개당수익': [300, 400, 500, 600, 400, 500, 500, 600, 600, 700, 600, 600] })\n",
    "\n",
    "df = df.dropna(subset=['판매수'])\n",
    "length = round(len(df['판매수'])/2)\n",
    "df = df['판매수'].head(length)\n",
    "Q1 = df.quantile(0.25)\n",
    "print(round(Q1))"
   ]
  },
  {
   "cell_type": "code",
   "execution_count": 282,
   "id": "3f0f9c28-88cf-4f13-8aa4-d72b7225818a",
   "metadata": {},
   "outputs": [
    {
     "name": "stdout",
     "output_type": "stream",
     "text": [
      "7\n"
     ]
    }
   ],
   "source": [
    "# 문제 11\n",
    "# cyl가 4인 자동차와 6인 자동차 그룹의 mpg 평균값 차이를 절대값으로 반올림하여 정수로 출력\n",
    "df = pd.read_csv(\"mtcars.csv\")\n",
    "cyl_4 = df[df['cyl'] == 4]['mpg'].mean()\n",
    "cyl_6 = df[df['cyl'] == 6]['mpg'].mean()\n",
    "minus = round(abs(cyl_4 - cyl_6))\n",
    "print(minus)"
   ]
  },
  {
   "cell_type": "code",
   "execution_count": 283,
   "id": "90355073-86b0-451f-b226-23d7add5247d",
   "metadata": {},
   "outputs": [
    {
     "name": "stdout",
     "output_type": "stream",
     "text": [
      "2\n"
     ]
    }
   ],
   "source": [
    "# 문제 12 ***\n",
    "# hp 변수에 대해 데이터표준화(Z-score)를 진행하고 이상치의 수를 구하시오.\n",
    "# (단, 이상치는 Z값이 1.5를 초과하거나 -1.5 미만인 값이다)\n",
    "df = pd.read_csv(\"mtcars.csv\")\n",
    "df['z_score'] = (df['hp'] - df['hp'].mean()) / df['hp'].std()\n",
    "\n",
    "cond1 = (df['z_score'] < -1.5)\n",
    "cond2 = (df['z_score'] > 1.5)\n",
    "print(len(df[cond1]) + len(df[cond2]))"
   ]
  },
  {
   "cell_type": "code",
   "execution_count": 284,
   "id": "acb3e470-8d33-4a8d-99e0-47f3a617050d",
   "metadata": {},
   "outputs": [
    {
     "name": "stdout",
     "output_type": "stream",
     "text": [
      "5\n"
     ]
    }
   ],
   "source": [
    "# 문제 13 ***\n",
    "# mpg 컬럼을 최소최대 Scaling을 진행한 후 0.7보다 큰 값을 가지는 레코드 수를 구하라.\n",
    "df = pd.read_csv(\"mtcars.csv\")\n",
    "\n",
    "from sklearn.preprocessing import minmax_scale\n",
    "\n",
    "df['mpg'] = minmax_scale(df['mpg'])\n",
    "print(len(df[df['mpg'] >= 0.7]))"
   ]
  },
  {
   "cell_type": "code",
   "execution_count": 285,
   "id": "e9d0e84a-9dae-4d46-aa69-1a245d8a753a",
   "metadata": {},
   "outputs": [
    {
     "name": "stdout",
     "output_type": "stream",
     "text": [
      "3\n"
     ]
    }
   ],
   "source": [
    "# 문제 14\n",
    "# wt컬럼에 대해 상자그림 기준으로 이상치의 개수를 구하시오. \n",
    "df = pd.read_csv(\"mtcars.csv\")\n",
    "\n",
    "Q1 = df['wt'].quantile(0.25)\n",
    "Q3 = df['wt'].quantile(0.75)\n",
    "IQR = Q3 - Q1\n",
    "\n",
    "upper = Q3 + 1.5 * IQR\n",
    "lower = Q1 - 1.5 * IQR\n",
    "\n",
    "cond1 = df['wt'] < lower\n",
    "cond2 = df['wt'] > upper\n",
    "\n",
    "print(len(df[cond1]) + len(df[cond2]))"
   ]
  },
  {
   "cell_type": "code",
   "execution_count": 286,
   "id": "dfaea132-dd0b-41a7-857b-35fad3615066",
   "metadata": {},
   "outputs": [
    {
     "name": "stdout",
     "output_type": "stream",
     "text": [
      "2\n"
     ]
    }
   ],
   "source": [
    "# 문제 15\n",
    "# 판매수 컬럼의 결측치를 최소값으로 대체하고\n",
    "# 결측치가 있을 때와 최소값으로 대체했을 때 평균값의 차이를 절대값으로 반올림하여 정수로 출력\n",
    "# 데이터 생성 (수정금지)\n",
    "df = pd.DataFrame( {\n",
    "    '날짜': ['20220103','20220105', None,'20230127','20220203', '20220205','20230210','20230223','20230312','20230422','20220505','20230511'],\n",
    "    '제품' : ['A','B', None, 'B', 'A', None,'A', 'B', 'A', 'B', 'A', 'A'],\n",
    "    '판매수': [3, None, 5, 10, 10, 10, 15, 15, 20, None, 30, 40], \n",
    "    '개당수익': [300, 400, 500, 600, 400, 500, 500, 600, 600, 700, 600, 600] })\n",
    "\n",
    "past_median = df['판매수'].median()\n",
    "판매수_min = df['판매수'].min()\n",
    "df['판매수'] = df['판매수'].fillna(판매수_min)\n",
    "n_median = df['판매수'].median()\n",
    "\n",
    "print(round(abs(past_median - n_median)))"
   ]
  },
  {
   "cell_type": "code",
   "execution_count": 287,
   "id": "26d3d7eb-faa8-4eac-ba93-cc9268f673df",
   "metadata": {},
   "outputs": [
    {
     "name": "stdout",
     "output_type": "stream",
     "text": [
      "    hp\n",
      "19  65\n"
     ]
    }
   ],
   "source": [
    "# 문제 16\n",
    "# vs변수가 0이 아닌 차량 중에 mpg 값이 가장 큰 차량의 hp 값을 출력하시오. \n",
    "df = pd.read_csv(\"mtcars.csv\")\n",
    "df = df[df['vs'] != 0]\n",
    "df = df[df['mpg'] == df['mpg'].max()]\n",
    "print(df[['hp']])"
   ]
  },
  {
   "cell_type": "code",
   "execution_count": 288,
   "id": "f280654f-158a-45c1-ad9a-7c92c5e31e8a",
   "metadata": {},
   "outputs": [
    {
     "name": "stdout",
     "output_type": "stream",
     "text": [
      "21.8\n"
     ]
    }
   ],
   "source": [
    "# 문제 17\n",
    "# gear 변수값이 3, 4인 두 그룹의 hp 표준편차값의 차이를 절대값으로\n",
    "# 반올림하여 소수점 첫째자리까지 출력하시오. \n",
    "df = pd.read_csv(\"mtcars.csv\")\n",
    "t_std = df[df['gear'] == 3]['hp'].std()\n",
    "f_std = df[df['gear'] == 4]['hp'].std()\n",
    "\n",
    "print(round(abs(t_std - f_std),1))"
   ]
  },
  {
   "cell_type": "code",
   "execution_count": 289,
   "id": "f03061c2-5162-45a1-8dc0-16f4679ec6e6",
   "metadata": {},
   "outputs": [
    {
     "name": "stdout",
     "output_type": "stream",
     "text": [
      "28.075\n"
     ]
    }
   ],
   "source": [
    "# 문제 18 ***\n",
    "# gear 변수의 값별로 그룹화하여 mpg평균값을 산출하고\n",
    "# 평균값이 높은 그룹의 mpg 제3사분위수 값을 구하시오.\n",
    "df = pd.read_csv(\"mtcars.csv\")\n",
    "df = df.loc[:, ['gear', 'mpg'] ]\n",
    "\n",
    "df.groupby('gear').mean()\n",
    "\n",
    "df = df[df['gear']==4]\n",
    "print(df['mpg'].quantile(0.75))"
   ]
  },
  {
   "cell_type": "code",
   "execution_count": 290,
   "id": "bd07f808-7252-4d03-bfb1-7d0338fa4a83",
   "metadata": {},
   "outputs": [
    {
     "name": "stdout",
     "output_type": "stream",
     "text": [
      "187\n"
     ]
    }
   ],
   "source": [
    "# 문제 19 ***\n",
    "# hp 항목의 상위 7번째 값으로 상위 7개 값을 변환한 후,\n",
    "# hp가 150 이상인 데이터를 추출하여 hp의 평균값을 반올림하여 정수로 출력하시오.\n",
    "df = pd.read_csv(\"mtcars.csv\")\n",
    "df = df.sort_values(by =['hp'], ascending = False)\n",
    "\n",
    "min_value = df['hp'].head(7).min()\n",
    "# min_value\n",
    "df = df.reset_index(drop = True)\n",
    "\n",
    "df.loc[:6, 'hp'] = min_value\n",
    "result = df[df['hp'] >= 150]['hp'].mean()\n",
    "print(round(result))"
   ]
  },
  {
   "cell_type": "code",
   "execution_count": 298,
   "id": "c3d113b1-1d80-461c-aa84-161a6f7c187a",
   "metadata": {},
   "outputs": [
    {
     "name": "stdout",
     "output_type": "stream",
     "text": [
      "19\n"
     ]
    }
   ],
   "source": [
    "# 문제 20\n",
    "# car변수에 Merc 문구가 포함된 자동차의 mpg 평균값을 반올림하여 정수로 출력하시오.\n",
    "df = pd.read_csv(\"mtcars.csv\")\n",
    "print(round(df[df['car'].str.contains('Merc')]['mpg'].mean()))"
   ]
  },
  {
   "cell_type": "code",
   "execution_count": 1,
   "id": "ec426258-bbb7-49ee-b6c0-71abf3b1321d",
   "metadata": {},
   "outputs": [
    {
     "ename": "NameError",
     "evalue": "name 'pd' is not defined",
     "output_type": "error",
     "traceback": [
      "\u001b[0;31m---------------------------------------------------------------------------\u001b[0m",
      "\u001b[0;31mNameError\u001b[0m                                 Traceback (most recent call last)",
      "Cell \u001b[0;32mIn[1], line 5\u001b[0m\n\u001b[1;32m      1\u001b[0m \u001b[38;5;66;03m# 문제 21 ***\u001b[39;00m\n\u001b[1;32m      2\u001b[0m \u001b[38;5;66;03m# '22년 1분기 매출액을 구하시오\u001b[39;00m\n\u001b[1;32m      3\u001b[0m \u001b[38;5;66;03m# (매출액 = 판매수*개당수익)\u001b[39;00m\n\u001b[1;32m      4\u001b[0m \u001b[38;5;66;03m# 데이터 생성(수정금지)\u001b[39;00m\n\u001b[0;32m----> 5\u001b[0m df \u001b[38;5;241m=\u001b[39m \u001b[43mpd\u001b[49m\u001b[38;5;241m.\u001b[39mDataFrame( {\n\u001b[1;32m      6\u001b[0m     \u001b[38;5;124m'\u001b[39m\u001b[38;5;124m날짜\u001b[39m\u001b[38;5;124m'\u001b[39m: [\u001b[38;5;124m'\u001b[39m\u001b[38;5;124m20220103\u001b[39m\u001b[38;5;124m'\u001b[39m,\u001b[38;5;124m'\u001b[39m\u001b[38;5;124m20220105\u001b[39m\u001b[38;5;124m'\u001b[39m, \u001b[38;5;124m'\u001b[39m\u001b[38;5;124m20230105\u001b[39m\u001b[38;5;124m'\u001b[39m,\u001b[38;5;124m'\u001b[39m\u001b[38;5;124m20230127\u001b[39m\u001b[38;5;124m'\u001b[39m,\u001b[38;5;124m'\u001b[39m\u001b[38;5;124m20220203\u001b[39m\u001b[38;5;124m'\u001b[39m, \u001b[38;5;124m'\u001b[39m\u001b[38;5;124m20220205\u001b[39m\u001b[38;5;124m'\u001b[39m,\u001b[38;5;124m'\u001b[39m\u001b[38;5;124m20230210\u001b[39m\u001b[38;5;124m'\u001b[39m,\u001b[38;5;124m'\u001b[39m\u001b[38;5;124m20230223\u001b[39m\u001b[38;5;124m'\u001b[39m,\u001b[38;5;124m'\u001b[39m\u001b[38;5;124m20230312\u001b[39m\u001b[38;5;124m'\u001b[39m,\u001b[38;5;124m'\u001b[39m\u001b[38;5;124m20230422\u001b[39m\u001b[38;5;124m'\u001b[39m,\u001b[38;5;124m'\u001b[39m\u001b[38;5;124m20220505\u001b[39m\u001b[38;5;124m'\u001b[39m,\u001b[38;5;124m'\u001b[39m\u001b[38;5;124m20230511\u001b[39m\u001b[38;5;124m'\u001b[39m],\n\u001b[1;32m      7\u001b[0m     \u001b[38;5;124m'\u001b[39m\u001b[38;5;124m제품\u001b[39m\u001b[38;5;124m'\u001b[39m : [\u001b[38;5;124m'\u001b[39m\u001b[38;5;124mA\u001b[39m\u001b[38;5;124m'\u001b[39m,\u001b[38;5;124m'\u001b[39m\u001b[38;5;124mB\u001b[39m\u001b[38;5;124m'\u001b[39m, \u001b[38;5;124m'\u001b[39m\u001b[38;5;124mA\u001b[39m\u001b[38;5;124m'\u001b[39m, \u001b[38;5;124m'\u001b[39m\u001b[38;5;124mB\u001b[39m\u001b[38;5;124m'\u001b[39m, \u001b[38;5;124m'\u001b[39m\u001b[38;5;124mA\u001b[39m\u001b[38;5;124m'\u001b[39m, \u001b[38;5;124m'\u001b[39m\u001b[38;5;124mB\u001b[39m\u001b[38;5;124m'\u001b[39m,\u001b[38;5;124m'\u001b[39m\u001b[38;5;124mA\u001b[39m\u001b[38;5;124m'\u001b[39m, \u001b[38;5;124m'\u001b[39m\u001b[38;5;124mB\u001b[39m\u001b[38;5;124m'\u001b[39m, \u001b[38;5;124m'\u001b[39m\u001b[38;5;124mA\u001b[39m\u001b[38;5;124m'\u001b[39m, \u001b[38;5;124m'\u001b[39m\u001b[38;5;124mB\u001b[39m\u001b[38;5;124m'\u001b[39m, \u001b[38;5;124m'\u001b[39m\u001b[38;5;124mA\u001b[39m\u001b[38;5;124m'\u001b[39m, \u001b[38;5;124m'\u001b[39m\u001b[38;5;124mA\u001b[39m\u001b[38;5;124m'\u001b[39m],\n\u001b[1;32m      8\u001b[0m     \u001b[38;5;124m'\u001b[39m\u001b[38;5;124m판매수\u001b[39m\u001b[38;5;124m'\u001b[39m: [\u001b[38;5;241m3\u001b[39m, \u001b[38;5;241m5\u001b[39m, \u001b[38;5;241m5\u001b[39m, \u001b[38;5;241m10\u001b[39m, \u001b[38;5;241m10\u001b[39m, \u001b[38;5;241m10\u001b[39m, \u001b[38;5;241m15\u001b[39m, \u001b[38;5;241m15\u001b[39m, \u001b[38;5;241m20\u001b[39m, \u001b[38;5;241m25\u001b[39m, \u001b[38;5;241m30\u001b[39m, \u001b[38;5;241m40\u001b[39m], \n\u001b[1;32m      9\u001b[0m     \u001b[38;5;124m'\u001b[39m\u001b[38;5;124m개당수익\u001b[39m\u001b[38;5;124m'\u001b[39m: [\u001b[38;5;241m300\u001b[39m, \u001b[38;5;241m400\u001b[39m, \u001b[38;5;241m500\u001b[39m, \u001b[38;5;241m600\u001b[39m, \u001b[38;5;241m400\u001b[39m, \u001b[38;5;241m500\u001b[39m, \u001b[38;5;241m500\u001b[39m, \u001b[38;5;241m600\u001b[39m, \u001b[38;5;241m600\u001b[39m, \u001b[38;5;241m700\u001b[39m, \u001b[38;5;241m600\u001b[39m, \u001b[38;5;241m600\u001b[39m] })\n\u001b[1;32m     11\u001b[0m df[\u001b[38;5;124m'\u001b[39m\u001b[38;5;124m날짜\u001b[39m\u001b[38;5;124m'\u001b[39m] \u001b[38;5;241m=\u001b[39m pd\u001b[38;5;241m.\u001b[39mto_numeric(df[\u001b[38;5;124m'\u001b[39m\u001b[38;5;124m날짜\u001b[39m\u001b[38;5;124m'\u001b[39m], errors \u001b[38;5;241m=\u001b[39m \u001b[38;5;124m'\u001b[39m\u001b[38;5;124mcoerce\u001b[39m\u001b[38;5;124m'\u001b[39m)\n\u001b[1;32m     12\u001b[0m df \u001b[38;5;241m=\u001b[39m df[(df[\u001b[38;5;124m'\u001b[39m\u001b[38;5;124m날짜\u001b[39m\u001b[38;5;124m'\u001b[39m] \u001b[38;5;241m>\u001b[39m\u001b[38;5;241m=\u001b[39m \u001b[38;5;241m20220101\u001b[39m) \u001b[38;5;241m&\u001b[39m (df[\u001b[38;5;124m'\u001b[39m\u001b[38;5;124m날짜\u001b[39m\u001b[38;5;124m'\u001b[39m] \u001b[38;5;241m<\u001b[39m\u001b[38;5;241m=\u001b[39m \u001b[38;5;241m20220331\u001b[39m)]\n",
      "\u001b[0;31mNameError\u001b[0m: name 'pd' is not defined"
     ]
    }
   ],
   "source": [
    "# 문제 21 ***\n",
    "# '22년 1분기 매출액을 구하시오\n",
    "# (매출액 = 판매수*개당수익)\n",
    "# 데이터 생성(수정금지)\n",
    "df = pd.DataFrame( {\n",
    "    '날짜': ['20220103','20220105', '20230105','20230127','20220203', '20220205','20230210','20230223','20230312','20230422','20220505','20230511'],\n",
    "    '제품' : ['A','B', 'A', 'B', 'A', 'B','A', 'B', 'A', 'B', 'A', 'A'],\n",
    "    '판매수': [3, 5, 5, 10, 10, 10, 15, 15, 20, 25, 30, 40], \n",
    "    '개당수익': [300, 400, 500, 600, 400, 500, 500, 600, 600, 700, 600, 600] })\n",
    "\n",
    "df['날짜'] = pd.to_numeric(df['날짜'], errors = 'coerce')\n",
    "df = df[(df['날짜'] >= 20220101) & (df['날짜'] <= 20220331)]\n",
    "\n",
    "df['매출액'] = df['판매수'] * df['개당수익']\n",
    "result = df['매출액'].sum()\n",
    "print(result)"
   ]
  },
  {
   "cell_type": "code",
   "execution_count": 393,
   "id": "d5ccbcf6-d68c-4373-93f0-7abb8b1bcd5f",
   "metadata": {},
   "outputs": [
    {
     "name": "stdout",
     "output_type": "stream",
     "text": [
      "48600\n"
     ]
    }
   ],
   "source": [
    "# 문제 22 ***\n",
    "# '22년과 '23년의 총 매출액 차이를 절대값으로 구하시오. \n",
    "# (매출액 = 판매수*개당수익)\n",
    "# 데이터 생성(수정금지)\n",
    "df = pd.DataFrame( {\n",
    "    '날짜': ['20220103','20220105', '20230105','20230127','20220203', '20220205','20230210','20230223','20230312','20230422','20220505','20230511'],\n",
    "    '제품' : ['A','B', 'A', 'B', 'A', 'B','A', 'B', 'A', 'B', 'A', 'A'],\n",
    "    '판매수': [3, 5, 5, 10, 10, 10, 15, 15, 20, 25, 30, 40], \n",
    "    '개당수익': [300, 400, 500, 600, 400, 500, 500, 600, 600, 700, 600, 600] })\n",
    "\n",
    "df['날짜'] = pd.to_datetime(df['날짜'])\n",
    "df_2022 = df[df['날짜'].dt.year == 2022]\n",
    "df_2023 = df[df['날짜'].dt.year == 2023]\n",
    "\n",
    "df_2022_result = (df_2022['판매수'] * df_2022['개당수익']).sum()\n",
    "df_2023_result = (df_2023['판매수'] * df_2023['개당수익']).sum()\n",
    "\n",
    "print(abs(df_2022_result - df_2023_result))"
   ]
  },
  {
   "cell_type": "code",
   "execution_count": 394,
   "id": "9a9a0bd2-e64f-4840-a7de-f8d66397cb54",
   "metadata": {},
   "outputs": [
    {
     "data": {
      "text/html": [
       "<div>\n",
       "<style scoped>\n",
       "    .dataframe tbody tr th:only-of-type {\n",
       "        vertical-align: middle;\n",
       "    }\n",
       "\n",
       "    .dataframe tbody tr th {\n",
       "        vertical-align: top;\n",
       "    }\n",
       "\n",
       "    .dataframe thead th {\n",
       "        text-align: right;\n",
       "    }\n",
       "</style>\n",
       "<table border=\"1\" class=\"dataframe\">\n",
       "  <thead>\n",
       "    <tr style=\"text-align: right;\">\n",
       "      <th></th>\n",
       "      <th>매출액</th>\n",
       "      <th>판매수</th>\n",
       "    </tr>\n",
       "    <tr>\n",
       "      <th>제품</th>\n",
       "      <th></th>\n",
       "      <th></th>\n",
       "    </tr>\n",
       "  </thead>\n",
       "  <tbody>\n",
       "    <tr>\n",
       "      <th>A</th>\n",
       "      <td>46000</td>\n",
       "      <td>80</td>\n",
       "    </tr>\n",
       "    <tr>\n",
       "      <th>B</th>\n",
       "      <td>32500</td>\n",
       "      <td>50</td>\n",
       "    </tr>\n",
       "  </tbody>\n",
       "</table>\n",
       "</div>"
      ],
      "text/plain": [
       "      매출액  판매수\n",
       "제품            \n",
       "A   46000   80\n",
       "B   32500   50"
      ]
     },
     "execution_count": 394,
     "metadata": {},
     "output_type": "execute_result"
    }
   ],
   "source": [
    "# 문제 23 ***\n",
    "# '23년 총 매출액이 큰 제품의 23년 판매수를 구하시오.\n",
    "# (매출액 = 판매수*개당수익)\n",
    "# 데이터 생성(수정금지)\n",
    "df = pd.DataFrame( {\n",
    "    '날짜': ['20220103','20220105', '20230105','20230127','20220203', '20220205','20230210','20230223','20230312','20230422','20220505','20230511'],\n",
    "    '제품' : ['A','B', 'A', 'B', 'A', 'B','A', 'B', 'A', 'B', 'A', 'A'],\n",
    "    '판매수': [3, 5, 5, 10, 10, 10, 15, 15, 20, 25, 30, 40], \n",
    "    '개당수익': [300, 400, 500, 600, 400, 500, 500, 600, 600, 700, 600, 600] })\n",
    "\n",
    "df['날짜'] = pd.to_datetime(df['날짜'])\n",
    "df = df[df['날짜'].dt.year == 2023]\n",
    "df['매출액'] = df['판매수'] * df['개당수익']\n",
    "df = df.groupby(by=['제품']).agg({\n",
    "    '매출액': 'sum',\n",
    "    '판매수': 'sum'\n",
    "})\n",
    "\n",
    "df"
   ]
  },
  {
   "cell_type": "code",
   "execution_count": 382,
   "id": "f9aadc16-028a-4273-a947-8ebca7d0f563",
   "metadata": {},
   "outputs": [
    {
     "data": {
      "text/plain": [
       "4"
      ]
     },
     "execution_count": 382,
     "metadata": {},
     "output_type": "execute_result"
    }
   ],
   "source": [
    "# 문제 24\n",
    "# 매출액이 4천원 초과, 1만원 미만인 데이터 수를 출력하시오. \n",
    "# (매출액 = 판매수*개당수익)\n",
    "# 데이터 생성(수정금지)\n",
    "df = pd.DataFrame( {\n",
    "    '날짜': ['20220103','20220105', '20230105','20230127','20220203', '20220205','20230210','20230223','20230312','20230422','20220505','20230511'],\n",
    "    '제품' : ['A','B', 'A', 'B', 'A', 'B','A', 'B', 'A', 'B', 'A', 'A'],\n",
    "    '판매수': [3, 5, 5, 10, 10, 10, 15, 15, 20, 25, 30, 40], \n",
    "    '개당수익': [300, 400, 500, 600, 400, 500, 500, 600, 600, 700, 600, 600] })\n",
    "\n",
    "df['매출액'] = df['판매수'] * df['개당수익']\n",
    "cond1 = df[(df['매출액'] > 4000) & (df['매출액'] < 10000)]\n",
    "len(cond1)"
   ]
  },
  {
   "cell_type": "code",
   "execution_count": 391,
   "id": "cb0a8281-55be-4abc-a1f5-037aba0c695d",
   "metadata": {},
   "outputs": [
    {
     "name": "stdout",
     "output_type": "stream",
     "text": [
      "25\n"
     ]
    }
   ],
   "source": [
    "# 문제 25\n",
    "# 23년 9월 24일 16:00~22:00 사이에 전체 제품의 판매수를 구하시오. \n",
    "# 시간 데이터 만들기(수정금지)\n",
    "df = pd.DataFrame( {\n",
    " '물품' : ['A', 'B', 'A', 'B', 'A', 'B', 'A'],\n",
    " '판매수': [5, 10, 15, 15, 20, 25, 40],\n",
    " '개당수익': [500, 600, 500, 600, 600, 700, 600] })\n",
    "time = pd.date_range('2023-09-24 12:25:00','2023-09-25 14:45:30', periods= 7)\n",
    "df['time']=time\n",
    "df = df[ ['time','물품','판매수','개당수익']]\n",
    "\n",
    "df = df[(df['time'].dt.year == 2023) & (df['time'].dt.month == 9) & (df['time'].dt.day == 24) & (df['time'].dt.hour >= 16) & (df['time'].dt.hour <= 22)]\n",
    "print(df['판매수'].sum())"
   ]
  },
  {
   "cell_type": "code",
   "execution_count": 413,
   "id": "0cd9cd15-f939-4c13-ac14-7d1c51743d25",
   "metadata": {},
   "outputs": [
    {
     "data": {
      "text/plain": [
       "26500"
      ]
     },
     "execution_count": 413,
     "metadata": {},
     "output_type": "execute_result"
    }
   ],
   "source": [
    "# 문제 26\n",
    "# 9월 25일 00:00~12:00 까지의 B물품의 매출액 총합을 구하시오.\n",
    "# (매출액 = 판매수*개당수익)\n",
    "# 시간 데이터 만들기(수정금지)\n",
    "df = pd.DataFrame( {\n",
    "    '물품' : ['A', 'B', 'A', 'B', 'A', 'B', 'A'],\n",
    "    '판매수': [5, 10, 15, 15, 20, 25, 40], \n",
    "    '개당수익': [500, 600, 500, 600, 600, 700, 600] } )\n",
    "df['time'] = pd.date_range('2023-09-24 12:25:00','2023-09-25 14:45:30', periods= 7)\n",
    "df = df[ ['time','물품','판매수','개당수익'] ]\n",
    "df = df.set_index('time', drop=True)\n",
    "\n",
    "df = df[(df.index.year == 2023) & (df.index.month == 9) & (df.index.day == 25) & (df.index.hour <= 12)]\n",
    "df['매출액'] = df['판매수'] * df['개당수익']\n",
    "df = df[df['물품'] == 'B']['매출액'].sum()\n",
    "df"
   ]
  },
  {
   "cell_type": "code",
   "execution_count": 415,
   "id": "1090b44c-8f34-44a1-9bb1-6c5618560293",
   "metadata": {},
   "outputs": [
    {
     "data": {
      "text/plain": [
       "10000"
      ]
     },
     "execution_count": 415,
     "metadata": {},
     "output_type": "execute_result"
    }
   ],
   "source": [
    "# 문제 27\n",
    "# 9월 24일 12:00~24:00 까지의 A물품의 매출액 총합을 구하시오.\n",
    "# (매출액 = 판매수*개당수익)\n",
    "# 시간 데이터 만들기(수정금지)\n",
    "df = pd.DataFrame( {\n",
    "    '물품' : ['A', 'B', 'A', 'B', 'A', 'B', 'A'],\n",
    "    '판매수': [5, 10, 15, 15, 20, 25, 40], \n",
    "    '개당수익': [500, 600, 500, 600, 600, 700, 600] } )\n",
    "df['time'] = pd.date_range('2023-09-24 12:25:00','2023-09-25 14:45:30', periods= 7)\n",
    "df = df[ ['time','물품','판매수','개당수익'] ]\n",
    "df = df.set_index('time', drop=True)\n",
    "\n",
    "df = df[(df.index.year == 2023) & (df.index.month == 9) & (df.index.day == 24) & (df.index.hour >= 12)]\n",
    "df['매출액'] = df['판매수'] * df['개당수익']\n",
    "df = df[df['물품'] == 'A']['매출액'].sum()\n",
    "df"
   ]
  },
  {
   "cell_type": "code",
   "execution_count": null,
   "id": "31dffb66-7e48-4c40-b8c1-27549f7ba84c",
   "metadata": {},
   "outputs": [],
   "source": []
  }
 ],
 "metadata": {
  "kernelspec": {
   "display_name": "Python 3 (ipykernel)",
   "language": "python",
   "name": "python3"
  },
  "language_info": {
   "codemirror_mode": {
    "name": "ipython",
    "version": 3
   },
   "file_extension": ".py",
   "mimetype": "text/x-python",
   "name": "python",
   "nbconvert_exporter": "python",
   "pygments_lexer": "ipython3",
   "version": "3.12.3"
  }
 },
 "nbformat": 4,
 "nbformat_minor": 5
}
