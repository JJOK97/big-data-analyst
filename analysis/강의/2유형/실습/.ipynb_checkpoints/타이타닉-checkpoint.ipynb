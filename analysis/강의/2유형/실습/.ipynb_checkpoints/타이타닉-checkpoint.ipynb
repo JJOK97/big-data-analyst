{
 "cells": [
  {
   "cell_type": "code",
   "execution_count": 2,
   "id": "a4f91c5c-19b3-4fc0-bb42-bfbea931dd03",
   "metadata": {},
   "outputs": [],
   "source": [
    "import\tpandas\tas\tpd\n",
    "import\tnumpy\tas\tnp"
   ]
  },
  {
   "cell_type": "code",
   "execution_count": 3,
   "id": "5c7e738e-c96f-4f53-b1e8-658314f16144",
   "metadata": {},
   "outputs": [],
   "source": [
    "###############\t\t복사 영역\t\t###############\n",
    "#\t실기 시험 데이터셋으로 셋팅하기\t(수정금지)\n",
    "#\tSeaborn의 내장 타이타닉 데이터셋을 불러옵니다.\n",
    "import\tseaborn\tas\tsns\n",
    "df\t=\tsns.load_dataset('titanic')\n",
    "x\t=\tdf.drop('survived',\taxis=1)\n",
    "y\t=\tdf['survived']\n",
    "#\t실기 시험 데이터셋으로 셋팅하기\t(수정금지)\n",
    "from\tsklearn.model_selection\timport\ttrain_test_split\n",
    "x_train,\tx_test,\ty_train,\ty_test\t=\ttrain_test_split(x,\ty,\ttest_size=0.2,\n",
    "\tstratify=y,\n",
    "\trandom_state=2023)\n",
    "x_test\t=\tpd.DataFrame(x_test)\n",
    "x_train\t=\tpd.DataFrame(x_train)\n",
    "y_train\t=\tpd.DataFrame(y_train)\n",
    "y_test\t=\tpd.DataFrame(y_test) #\t평가용\n",
    "x_test.reset_index()\n",
    "y_train.columns\t= ['target']\n",
    "y_test.columns\t= ['target']"
   ]
  },
  {
   "cell_type": "code",
   "execution_count": 4,
   "id": "0e25363a-5ad1-4ba8-a5ed-022b03a9b856",
   "metadata": {},
   "outputs": [
    {
     "name": "stdout",
     "output_type": "stream",
     "text": [
      "(712, 14)\n",
      "(179, 14)\n",
      "(712, 1)\n",
      "(179, 1)\n"
     ]
    }
   ],
   "source": [
    "print(x_train.shape)\n",
    "print(x_test.shape)\n",
    "print(y_train.shape)\n",
    "print(y_test.shape)"
   ]
  },
  {
   "cell_type": "code",
   "execution_count": 10,
   "id": "26f68ee4-89c8-4c87-a82e-58a9ac2232f8",
   "metadata": {},
   "outputs": [
    {
     "name": "stdout",
     "output_type": "stream",
     "text": [
      "<class 'pandas.core.frame.DataFrame'>\n",
      "Index: 712 entries, 3 to 608\n",
      "Data columns (total 14 columns):\n",
      " #   Column       Non-Null Count  Dtype   \n",
      "---  ------       --------------  -----   \n",
      " 0   pclass       712 non-null    int64   \n",
      " 1   sex          712 non-null    object  \n",
      " 2   age          579 non-null    float64 \n",
      " 3   sibsp        712 non-null    int64   \n",
      " 4   parch        712 non-null    int64   \n",
      " 5   fare         712 non-null    float64 \n",
      " 6   embarked     710 non-null    object  \n",
      " 7   class        712 non-null    category\n",
      " 8   who          712 non-null    object  \n",
      " 9   adult_male   712 non-null    bool    \n",
      " 10  deck         164 non-null    category\n",
      " 11  embark_town  710 non-null    object  \n",
      " 12  alive        712 non-null    object  \n",
      " 13  alone        712 non-null    bool    \n",
      "dtypes: bool(2), category(2), float64(2), int64(3), object(5)\n",
      "memory usage: 64.4+ KB\n",
      "None\n"
     ]
    }
   ],
   "source": [
    "print(x_train.info())\n",
    "# 총 갯수 712개, age(579), embarked(710), deck(164), embark_town(710)"
   ]
  },
  {
   "cell_type": "code",
   "execution_count": 11,
   "id": "1e4bbeea-77a7-46f1-8746-48443162bb9e",
   "metadata": {},
   "outputs": [
    {
     "name": "stdout",
     "output_type": "stream",
     "text": [
      "<class 'pandas.core.frame.DataFrame'>\n",
      "Index: 179 entries, 800 to 410\n",
      "Data columns (total 14 columns):\n",
      " #   Column       Non-Null Count  Dtype   \n",
      "---  ------       --------------  -----   \n",
      " 0   pclass       179 non-null    int64   \n",
      " 1   sex          179 non-null    object  \n",
      " 2   age          135 non-null    float64 \n",
      " 3   sibsp        179 non-null    int64   \n",
      " 4   parch        179 non-null    int64   \n",
      " 5   fare         179 non-null    float64 \n",
      " 6   embarked     179 non-null    object  \n",
      " 7   class        179 non-null    category\n",
      " 8   who          179 non-null    object  \n",
      " 9   adult_male   179 non-null    bool    \n",
      " 10  deck         39 non-null     category\n",
      " 11  embark_town  179 non-null    object  \n",
      " 12  alive        179 non-null    object  \n",
      " 13  alone        179 non-null    bool    \n",
      "dtypes: bool(2), category(2), float64(2), int64(3), object(5)\n",
      "memory usage: 16.6+ KB\n",
      "None\n"
     ]
    }
   ],
   "source": [
    "print(x_test.info())\n",
    "# 총 갯수 179개, age(135), deck(39)"
   ]
  },
  {
   "cell_type": "code",
   "execution_count": 12,
   "id": "13a2d94a-12c1-484e-9d5a-b7700f792a4c",
   "metadata": {},
   "outputs": [
    {
     "name": "stdout",
     "output_type": "stream",
     "text": [
      "<class 'pandas.core.frame.DataFrame'>\n",
      "Index: 712 entries, 3 to 608\n",
      "Data columns (total 1 columns):\n",
      " #   Column  Non-Null Count  Dtype\n",
      "---  ------  --------------  -----\n",
      " 0   target  712 non-null    int64\n",
      "dtypes: int64(1)\n",
      "memory usage: 11.1 KB\n",
      "None\n"
     ]
    }
   ],
   "source": [
    "print(y_train.info())"
   ]
  },
  {
   "cell_type": "code",
   "execution_count": 13,
   "id": "6be678ed-c790-410a-9c58-2eb2623bea8c",
   "metadata": {},
   "outputs": [
    {
     "name": "stdout",
     "output_type": "stream",
     "text": [
      "           pclass         age       sibsp       parch        fare\n",
      "count  712.000000  579.000000  712.000000  712.000000  712.000000\n",
      "mean     2.307584   29.479568    0.518258    0.372191   31.741836\n",
      "std      0.834926   14.355304    1.094522    0.792341   45.403910\n",
      "min      1.000000    0.420000    0.000000    0.000000    0.000000\n",
      "25%      2.000000   20.000000    0.000000    0.000000    7.895800\n",
      "50%      3.000000   28.000000    0.000000    0.000000   14.454200\n",
      "75%      3.000000   38.000000    1.000000    0.000000   31.275000\n",
      "max      3.000000   74.000000    8.000000    6.000000  512.329200\n"
     ]
    }
   ],
   "source": [
    "print(x_train.describe())"
   ]
  },
  {
   "cell_type": "code",
   "execution_count": 14,
   "id": "9657ca32-6504-4991-9a38-91ee61bdf772",
   "metadata": {},
   "outputs": [
    {
     "name": "stdout",
     "output_type": "stream",
     "text": [
      "           pclass         age       sibsp       parch        fare\n",
      "count  179.000000  135.000000  179.000000  179.000000  179.000000\n",
      "mean     2.312849   30.640741    0.541899    0.418994   34.043364\n",
      "std      0.842950   15.258427    1.137797    0.859760   64.097184\n",
      "min      1.000000    1.000000    0.000000    0.000000    0.000000\n",
      "25%      2.000000   22.000000    0.000000    0.000000    7.925000\n",
      "50%      3.000000   29.000000    0.000000    0.000000   14.500000\n",
      "75%      3.000000   39.000000    1.000000    0.000000   30.285400\n",
      "max      3.000000   80.000000    8.000000    5.000000  512.329200\n"
     ]
    }
   ],
   "source": [
    "print(x_test.describe())"
   ]
  },
  {
   "cell_type": "code",
   "execution_count": 15,
   "id": "a9dde1e8-d88c-4468-99df-b33a97b9f3e3",
   "metadata": {},
   "outputs": [
    {
     "name": "stdout",
     "output_type": "stream",
     "text": [
      "           target\n",
      "count  712.000000\n",
      "mean     0.383427\n",
      "std      0.486563\n",
      "min      0.000000\n",
      "25%      0.000000\n",
      "50%      0.000000\n",
      "75%      1.000000\n",
      "max      1.000000\n"
     ]
    }
   ],
   "source": [
    "print(y_train.describe())"
   ]
  },
  {
   "cell_type": "code",
   "execution_count": null,
   "id": "2e39b621-8374-4a12-bd65-e0e0b4f2fc1f",
   "metadata": {},
   "outputs": [],
   "source": []
  }
 ],
 "metadata": {
  "kernelspec": {
   "display_name": "Python 3 (ipykernel)",
   "language": "python",
   "name": "python3"
  },
  "language_info": {
   "codemirror_mode": {
    "name": "ipython",
    "version": 3
   },
   "file_extension": ".py",
   "mimetype": "text/x-python",
   "name": "python",
   "nbconvert_exporter": "python",
   "pygments_lexer": "ipython3",
   "version": "3.12.3"
  }
 },
 "nbformat": 4,
 "nbformat_minor": 5
}
