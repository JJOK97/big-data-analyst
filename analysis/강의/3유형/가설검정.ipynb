{
 "cells": [
  {
   "cell_type": "code",
   "execution_count": 1,
   "id": "319c3664-cba0-4e57-acc6-a7e3a0f42fe5",
   "metadata": {},
   "outputs": [],
   "source": [
    "import pandas as pd\n",
    "import numpy as np"
   ]
  },
  {
   "cell_type": "code",
   "execution_count": 2,
   "id": "f4883843-d8e7-4a5e-9973-e2222c38ac00",
   "metadata": {},
   "outputs": [
    {
     "data": {
      "text/html": [
       "<div>\n",
       "<style scoped>\n",
       "    .dataframe tbody tr th:only-of-type {\n",
       "        vertical-align: middle;\n",
       "    }\n",
       "\n",
       "    .dataframe tbody tr th {\n",
       "        vertical-align: top;\n",
       "    }\n",
       "\n",
       "    .dataframe thead th {\n",
       "        text-align: right;\n",
       "    }\n",
       "</style>\n",
       "<table border=\"1\" class=\"dataframe\">\n",
       "  <thead>\n",
       "    <tr style=\"text-align: right;\">\n",
       "      <th></th>\n",
       "      <th>car</th>\n",
       "      <th>mpg</th>\n",
       "      <th>cyl</th>\n",
       "      <th>disp</th>\n",
       "      <th>hp</th>\n",
       "      <th>drat</th>\n",
       "      <th>wt</th>\n",
       "      <th>qsec</th>\n",
       "      <th>vs</th>\n",
       "      <th>am</th>\n",
       "      <th>gear</th>\n",
       "      <th>carb</th>\n",
       "    </tr>\n",
       "  </thead>\n",
       "  <tbody>\n",
       "    <tr>\n",
       "      <th>0</th>\n",
       "      <td>Mazda RX4</td>\n",
       "      <td>21.0</td>\n",
       "      <td>6</td>\n",
       "      <td>160.0</td>\n",
       "      <td>110</td>\n",
       "      <td>3.90</td>\n",
       "      <td>2.620</td>\n",
       "      <td>16.46</td>\n",
       "      <td>0</td>\n",
       "      <td>1</td>\n",
       "      <td>4</td>\n",
       "      <td>4</td>\n",
       "    </tr>\n",
       "    <tr>\n",
       "      <th>1</th>\n",
       "      <td>Mazda RX4 Wag</td>\n",
       "      <td>21.0</td>\n",
       "      <td>6</td>\n",
       "      <td>160.0</td>\n",
       "      <td>110</td>\n",
       "      <td>3.90</td>\n",
       "      <td>2.875</td>\n",
       "      <td>17.02</td>\n",
       "      <td>0</td>\n",
       "      <td>1</td>\n",
       "      <td>4</td>\n",
       "      <td>4</td>\n",
       "    </tr>\n",
       "    <tr>\n",
       "      <th>2</th>\n",
       "      <td>Datsun 710</td>\n",
       "      <td>22.8</td>\n",
       "      <td>4</td>\n",
       "      <td>108.0</td>\n",
       "      <td>93</td>\n",
       "      <td>3.85</td>\n",
       "      <td>2.320</td>\n",
       "      <td>18.61</td>\n",
       "      <td>1</td>\n",
       "      <td>1</td>\n",
       "      <td>4</td>\n",
       "      <td>1</td>\n",
       "    </tr>\n",
       "  </tbody>\n",
       "</table>\n",
       "</div>"
      ],
      "text/plain": [
       "             car   mpg  cyl   disp   hp  drat     wt   qsec  vs  am  gear  \\\n",
       "0      Mazda RX4  21.0    6  160.0  110  3.90  2.620  16.46   0   1     4   \n",
       "1  Mazda RX4 Wag  21.0    6  160.0  110  3.90  2.875  17.02   0   1     4   \n",
       "2     Datsun 710  22.8    4  108.0   93  3.85  2.320  18.61   1   1     4   \n",
       "\n",
       "   carb  \n",
       "0     4  \n",
       "1     4  \n",
       "2     1  "
      ]
     },
     "execution_count": 2,
     "metadata": {},
     "output_type": "execute_result"
    }
   ],
   "source": [
    "# 데이터 불러오기 mtcars\n",
    "df = pd.read_csv(\"mtcars.csv\")\n",
    "df.head(3)"
   ]
  },
  {
   "cell_type": "markdown",
   "id": "4c727f1f-3994-49e8-baf5-d7837acb1945",
   "metadata": {},
   "source": [
    "1. mtcars 데이터셋의 mpg열 데이터의 평균이  \n",
    "20과 다르다고 할 수 있는지 검정하시오. (유의수준 5%)"
   ]
  },
  {
   "cell_type": "code",
   "execution_count": 8,
   "id": "6ca9be8a-9330-4dfc-8cd5-d9efc280f757",
   "metadata": {},
   "outputs": [],
   "source": [
    "import scipy.stats as stats\n",
    "from scipy.stats import shapiro"
   ]
  },
  {
   "cell_type": "code",
   "execution_count": 10,
   "id": "4b2ac7dd-06d6-4faf-b828-2a00d3a9df8c",
   "metadata": {},
   "outputs": [
    {
     "data": {
      "text/plain": [
       "ShapiroResult(statistic=np.float64(0.9475647265971182), pvalue=np.float64(0.12288135948636081))"
      ]
     },
     "execution_count": 10,
     "metadata": {},
     "output_type": "execute_result"
    }
   ],
   "source": [
    "stats.shapiro(df['mpg'])"
   ]
  },
  {
   "cell_type": "code",
   "execution_count": 15,
   "id": "4d71bb85-ed65-408e-a183-deee166dd916",
   "metadata": {},
   "outputs": [
    {
     "data": {
      "text/plain": [
       "TtestResult(statistic=np.float64(0.08506003568133688), pvalue=np.float64(0.9327606409093872), df=np.int64(31))"
      ]
     },
     "execution_count": 15,
     "metadata": {},
     "output_type": "execute_result"
    }
   ],
   "source": [
    "stats.ttest_1samp(df['mpg'], popmean = 20, alternative='two-sided')"
   ]
  },
  {
   "cell_type": "markdown",
   "id": "09f857f3-59b2-4ea5-92eb-7a1421fe2787",
   "metadata": {},
   "source": [
    "mtcars 데이터셋의 mpg열 데이터의 평균이  \n",
    "17보다 크다고 할 수 있는지 검정하시오.(유의수준 5%)"
   ]
  },
  {
   "cell_type": "code",
   "execution_count": 19,
   "id": "cfb11688-bd71-4669-bbc8-397c39e7b471",
   "metadata": {},
   "outputs": [
    {
     "data": {
      "text/plain": [
       "ShapiroResult(statistic=np.float64(0.9475647265971182), pvalue=np.float64(0.12288135948636081))"
      ]
     },
     "execution_count": 19,
     "metadata": {},
     "output_type": "execute_result"
    }
   ],
   "source": [
    "import scipy.stats as stats\n",
    "from scipy.stats import shapiro\n",
    "\n",
    "stats.shapiro(df['mpg'])"
   ]
  },
  {
   "cell_type": "code",
   "execution_count": 24,
   "id": "bac16cfe-cb38-41a2-b201-b0066fe22f88",
   "metadata": {},
   "outputs": [
    {
     "data": {
      "text/plain": [
       "TtestResult(statistic=np.float64(2.900840527201366), pvalue=np.float64(0.0033941550078339126), df=np.int64(31))"
      ]
     },
     "execution_count": 24,
     "metadata": {},
     "output_type": "execute_result"
    }
   ],
   "source": [
    "stats.ttest_1samp(df['mpg'], popmean = 17, alternative = 'greater')\n",
    "# print(help(stats.ttest_1samp))"
   ]
  },
  {
   "cell_type": "code",
   "execution_count": 25,
   "id": "48098c19-d535-4223-b86f-c752cce9e3d8",
   "metadata": {},
   "outputs": [
    {
     "data": {
      "text/plain": [
       "np.float64(20.090625000000003)"
      ]
     },
     "execution_count": 25,
     "metadata": {},
     "output_type": "execute_result"
    }
   ],
   "source": [
    "df['mpg'].mean()"
   ]
  },
  {
   "cell_type": "markdown",
   "id": "385ae9c0-eb72-4f95-83b3-2aef328fe1cd",
   "metadata": {},
   "source": [
    "Case\t1)\t대응표본(쌍체)\tt검정(paired\tt-test)  \n",
    "문제\t1-1\t  \n",
    "다음은 혈압약을 먹은 전,후의 혈압 데이터이다.  \n",
    "혈압약을 먹기 전,\t후의 차이가 있는지 쌍체\tt\t검정을 실시하시오  \n",
    "(유의수준\t5%)  \n",
    "before\t:\t혈압약을 먹기 전 혈압,\tafter\t:\t혈압약을 먹은 후의 혈압  \n",
    "H0(귀무가설)\t:\tafter\t-\tbefore\t=\t0  \n",
    "H1(대립가설)\t:\tafter\t-\tbefore\t≠\t0  "
   ]
  },
  {
   "cell_type": "code",
   "execution_count": 26,
   "id": "0529ca86-2254-43ed-8653-bf034ac17cb3",
   "metadata": {},
   "outputs": [],
   "source": [
    "import\tpandas\tas\tpd\n",
    "import\tnumpy\tas\tnp\n",
    "import\tscipy.stats\tas\tstats\n",
    "from\tscipy.stats\timport\tshapiro"
   ]
  },
  {
   "cell_type": "code",
   "execution_count": null,
   "id": "2a48c699-5cf4-42f1-9088-017b8c818fb6",
   "metadata": {},
   "outputs": [],
   "source": []
  },
  {
   "cell_type": "code",
   "execution_count": 27,
   "id": "e8050bd9-8e98-45b6-80bf-d6f9be5fc4f0",
   "metadata": {},
   "outputs": [
    {
     "name": "stdout",
     "output_type": "stream",
     "text": [
      "   before  after\n",
      "0     120    110\n",
      "1     135    132\n",
      "2     122    123\n"
     ]
    }
   ],
   "source": [
    "#\t데이터 만들기\n",
    "df\t=\tpd.DataFrame( {\n",
    "'before': [120, 135, 122, 124, 135, 122, 145, 160, 155, 142, 144, 135, 167],\n",
    "\t\t\t'after' : [110, 132, 123, 119, 123, 115, 140, 162, 142, 138, 135, 142, 160] })\n",
    "print(df.head(3))\n"
   ]
  },
  {
   "cell_type": "code",
   "execution_count": 28,
   "id": "2eff6707-5b9e-4c32-bcc7-682b34b2de93",
   "metadata": {},
   "outputs": [
    {
     "data": {
      "text/plain": [
       "ShapiroResult(statistic=np.float64(0.9588784956405686), pvalue=np.float64(0.7362699178574191))"
      ]
     },
     "execution_count": 28,
     "metadata": {},
     "output_type": "execute_result"
    }
   ],
   "source": [
    "stats.shapiro(df['after'] - df['before'])"
   ]
  },
  {
   "cell_type": "code",
   "execution_count": 30,
   "id": "88d0e833-11b5-47dd-8868-3839aa6a312f",
   "metadata": {},
   "outputs": [
    {
     "data": {
      "text/plain": [
       "TtestResult(statistic=np.float64(-0.8191722818556323), pvalue=np.float64(0.4207486213941666), df=np.float64(24.0))"
      ]
     },
     "execution_count": 30,
     "metadata": {},
     "output_type": "execute_result"
    }
   ],
   "source": [
    "stats.ttest_ind(df['after'], df['before'], alternative='two-sided')"
   ]
  },
  {
   "cell_type": "code",
   "execution_count": 31,
   "id": "231896a0-2dfa-462c-a194-60b6865ab2c7",
   "metadata": {},
   "outputs": [
    {
     "name": "stdout",
     "output_type": "stream",
     "text": [
      "     A    B\n",
      "0  120  110\n",
      "1  135  132\n",
      "2  122  123\n"
     ]
    }
   ],
   "source": [
    "#\t데이터 만들기\n",
    "df\t=\tpd.DataFrame( {\n",
    "\t\t\t\t'A': [120, 135, 122, 124, 135, 122, 145, 160, 155, 142, 144, 135, 167],\n",
    "\t\t\t\t'B' : [110, 132, 123, 119, 123, 115, 140, 162, 142, 138, 135, 142, 160] })\n",
    "print(df.head(3))\n"
   ]
  },
  {
   "cell_type": "code",
   "execution_count": 32,
   "id": "b2cae5f1-48c2-41c5-9115-282f88b535e2",
   "metadata": {},
   "outputs": [
    {
     "data": {
      "text/plain": [
       "ShapiroResult(statistic=np.float64(0.9314373738322363), pvalue=np.float64(0.35584957364120257))"
      ]
     },
     "execution_count": 32,
     "metadata": {},
     "output_type": "execute_result"
    }
   ],
   "source": [
    "stats.shapiro(df['A'])"
   ]
  },
  {
   "cell_type": "code",
   "execution_count": 33,
   "id": "79ff1432-0eb4-404b-9535-d23caa035b26",
   "metadata": {},
   "outputs": [
    {
     "data": {
      "text/plain": [
       "ShapiroResult(statistic=np.float64(0.9498199298581277), pvalue=np.float64(0.5955637454032426))"
      ]
     },
     "execution_count": 33,
     "metadata": {},
     "output_type": "execute_result"
    }
   ],
   "source": [
    "stats.shapiro(df['B'])"
   ]
  },
  {
   "cell_type": "code",
   "execution_count": 40,
   "id": "195901ac-112d-4147-82b4-607a41c67faf",
   "metadata": {},
   "outputs": [
    {
     "data": {
      "text/plain": [
       "TtestResult(statistic=np.float64(0.8191722818556323), pvalue=np.float64(0.2103743106970833), df=np.float64(24.0))"
      ]
     },
     "execution_count": 40,
     "metadata": {},
     "output_type": "execute_result"
    }
   ],
   "source": [
    "stats.ttest_ind(df['A'], df['B'], alternative='greater')"
   ]
  },
  {
   "cell_type": "code",
   "execution_count": null,
   "id": "265e05f3-9186-4342-a6a5-5cdfdefb44df",
   "metadata": {},
   "outputs": [],
   "source": []
  }
 ],
 "metadata": {
  "kernelspec": {
   "display_name": "Python 3 (ipykernel)",
   "language": "python",
   "name": "python3"
  },
  "language_info": {
   "codemirror_mode": {
    "name": "ipython",
    "version": 3
   },
   "file_extension": ".py",
   "mimetype": "text/x-python",
   "name": "python",
   "nbconvert_exporter": "python",
   "pygments_lexer": "ipython3",
   "version": "3.12.3"
  }
 },
 "nbformat": 4,
 "nbformat_minor": 5
}
