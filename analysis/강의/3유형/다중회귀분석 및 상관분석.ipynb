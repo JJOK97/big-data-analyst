{
 "cells": [
  {
   "cell_type": "code",
   "execution_count": 1,
   "id": "bfd8126c-4216-4530-b8d7-b727811dee06",
   "metadata": {},
   "outputs": [],
   "source": [
    "import\tpandas\tas\tpd\n",
    "import\tnumpy\tas\tnp"
   ]
  },
  {
   "cell_type": "code",
   "execution_count": 18,
   "id": "16ce1148-9051-491e-a751-134d987536fe",
   "metadata": {},
   "outputs": [],
   "source": [
    "###############\t\t실기환경 복사 영역\t\t###############\n",
    "#\t데이터 불러오기\n",
    "import\tpandas\tas\tpd\n",
    "import\tnumpy\tas\tnp\n",
    "#\t실기 시험 데이터셋으로 셋팅하기\t(수정금지)\n",
    "from\tsklearn.datasets\timport\tload_diabetes\n",
    "#\tdiabetes\t데이터셋 로드\n",
    "diabetes\t=\tload_diabetes()\n",
    "x\t=\tpd.DataFrame(diabetes.data,\tcolumns=diabetes.feature_names)\n",
    "y\t=\tpd.DataFrame(diabetes.target)\n",
    "y.columns\t= ['target']\n",
    "###############\t\t실기환경 복사 영역\t\t###############\n"
   ]
  },
  {
   "cell_type": "code",
   "execution_count": 22,
   "id": "092a1777-49e6-4ec1-a364-1845c52fb29a",
   "metadata": {},
   "outputs": [
    {
     "data": {
      "text/html": [
       "<table class=\"simpletable\">\n",
       "<caption>OLS Regression Results</caption>\n",
       "<tr>\n",
       "  <th>Dep. Variable:</th>         <td>target</td>      <th>  R-squared:         </th> <td>   0.351</td>\n",
       "</tr>\n",
       "<tr>\n",
       "  <th>Model:</th>                   <td>OLS</td>       <th>  Adj. R-squared:    </th> <td>   0.346</td>\n",
       "</tr>\n",
       "<tr>\n",
       "  <th>Method:</th>             <td>Least Squares</td>  <th>  F-statistic:       </th> <td>   78.94</td>\n",
       "</tr>\n",
       "<tr>\n",
       "  <th>Date:</th>             <td>Fri, 20 Jun 2025</td> <th>  Prob (F-statistic):</th> <td>7.77e-41</td>\n",
       "</tr>\n",
       "<tr>\n",
       "  <th>Time:</th>                 <td>23:36:02</td>     <th>  Log-Likelihood:    </th> <td> -2451.6</td>\n",
       "</tr>\n",
       "<tr>\n",
       "  <th>No. Observations:</th>      <td>   442</td>      <th>  AIC:               </th> <td>   4911.</td>\n",
       "</tr>\n",
       "<tr>\n",
       "  <th>Df Residuals:</th>          <td>   438</td>      <th>  BIC:               </th> <td>   4928.</td>\n",
       "</tr>\n",
       "<tr>\n",
       "  <th>Df Model:</th>              <td>     3</td>      <th>                     </th>     <td> </td>   \n",
       "</tr>\n",
       "<tr>\n",
       "  <th>Covariance Type:</th>      <td>nonrobust</td>    <th>                     </th>     <td> </td>   \n",
       "</tr>\n",
       "</table>\n",
       "<table class=\"simpletable\">\n",
       "<tr>\n",
       "      <td></td>         <th>coef</th>     <th>std err</th>      <th>t</th>      <th>P>|t|</th>  <th>[0.025</th>    <th>0.975]</th>  \n",
       "</tr>\n",
       "<tr>\n",
       "  <th>Intercept</th> <td>  152.1335</td> <td>    2.964</td> <td>   51.321</td> <td> 0.000</td> <td>  146.307</td> <td>  157.960</td>\n",
       "</tr>\n",
       "<tr>\n",
       "  <th>age</th>       <td>  138.9039</td> <td>   64.254</td> <td>    2.162</td> <td> 0.031</td> <td>   12.618</td> <td>  265.189</td>\n",
       "</tr>\n",
       "<tr>\n",
       "  <th>sex</th>       <td>  -36.1353</td> <td>   63.391</td> <td>   -0.570</td> <td> 0.569</td> <td> -160.724</td> <td>   88.453</td>\n",
       "</tr>\n",
       "<tr>\n",
       "  <th>bmi</th>       <td>  926.9120</td> <td>   63.525</td> <td>   14.591</td> <td> 0.000</td> <td>  802.061</td> <td> 1051.763</td>\n",
       "</tr>\n",
       "</table>\n",
       "<table class=\"simpletable\">\n",
       "<tr>\n",
       "  <th>Omnibus:</th>       <td>14.687</td> <th>  Durbin-Watson:     </th> <td>   1.851</td>\n",
       "</tr>\n",
       "<tr>\n",
       "  <th>Prob(Omnibus):</th> <td> 0.001</td> <th>  Jarque-Bera (JB):  </th> <td>   8.290</td>\n",
       "</tr>\n",
       "<tr>\n",
       "  <th>Skew:</th>          <td> 0.150</td> <th>  Prob(JB):          </th> <td>  0.0158</td>\n",
       "</tr>\n",
       "<tr>\n",
       "  <th>Kurtosis:</th>      <td> 2.400</td> <th>  Cond. No.          </th> <td>    23.7</td>\n",
       "</tr>\n",
       "</table><br/><br/>Notes:<br/>[1] Standard Errors assume that the covariance matrix of the errors is correctly specified."
      ],
      "text/latex": [
       "\\begin{center}\n",
       "\\begin{tabular}{lclc}\n",
       "\\toprule\n",
       "\\textbf{Dep. Variable:}    &      target      & \\textbf{  R-squared:         } &     0.351   \\\\\n",
       "\\textbf{Model:}            &       OLS        & \\textbf{  Adj. R-squared:    } &     0.346   \\\\\n",
       "\\textbf{Method:}           &  Least Squares   & \\textbf{  F-statistic:       } &     78.94   \\\\\n",
       "\\textbf{Date:}             & Fri, 20 Jun 2025 & \\textbf{  Prob (F-statistic):} &  7.77e-41   \\\\\n",
       "\\textbf{Time:}             &     23:36:02     & \\textbf{  Log-Likelihood:    } &   -2451.6   \\\\\n",
       "\\textbf{No. Observations:} &         442      & \\textbf{  AIC:               } &     4911.   \\\\\n",
       "\\textbf{Df Residuals:}     &         438      & \\textbf{  BIC:               } &     4928.   \\\\\n",
       "\\textbf{Df Model:}         &           3      & \\textbf{                     } &             \\\\\n",
       "\\textbf{Covariance Type:}  &    nonrobust     & \\textbf{                     } &             \\\\\n",
       "\\bottomrule\n",
       "\\end{tabular}\n",
       "\\begin{tabular}{lcccccc}\n",
       "                   & \\textbf{coef} & \\textbf{std err} & \\textbf{t} & \\textbf{P$> |$t$|$} & \\textbf{[0.025} & \\textbf{0.975]}  \\\\\n",
       "\\midrule\n",
       "\\textbf{Intercept} &     152.1335  &        2.964     &    51.321  &         0.000        &      146.307    &      157.960     \\\\\n",
       "\\textbf{age}       &     138.9039  &       64.254     &     2.162  &         0.031        &       12.618    &      265.189     \\\\\n",
       "\\textbf{sex}       &     -36.1353  &       63.391     &    -0.570  &         0.569        &     -160.724    &       88.453     \\\\\n",
       "\\textbf{bmi}       &     926.9120  &       63.525     &    14.591  &         0.000        &      802.061    &     1051.763     \\\\\n",
       "\\bottomrule\n",
       "\\end{tabular}\n",
       "\\begin{tabular}{lclc}\n",
       "\\textbf{Omnibus:}       & 14.687 & \\textbf{  Durbin-Watson:     } &    1.851  \\\\\n",
       "\\textbf{Prob(Omnibus):} &  0.001 & \\textbf{  Jarque-Bera (JB):  } &    8.290  \\\\\n",
       "\\textbf{Skew:}          &  0.150 & \\textbf{  Prob(JB):          } &   0.0158  \\\\\n",
       "\\textbf{Kurtosis:}      &  2.400 & \\textbf{  Cond. No.          } &     23.7  \\\\\n",
       "\\bottomrule\n",
       "\\end{tabular}\n",
       "%\\caption{OLS Regression Results}\n",
       "\\end{center}\n",
       "\n",
       "Notes: \\newline\n",
       " [1] Standard Errors assume that the covariance matrix of the errors is correctly specified."
      ],
      "text/plain": [
       "<class 'statsmodels.iolib.summary.Summary'>\n",
       "\"\"\"\n",
       "                            OLS Regression Results                            \n",
       "==============================================================================\n",
       "Dep. Variable:                 target   R-squared:                       0.351\n",
       "Model:                            OLS   Adj. R-squared:                  0.346\n",
       "Method:                 Least Squares   F-statistic:                     78.94\n",
       "Date:                Fri, 20 Jun 2025   Prob (F-statistic):           7.77e-41\n",
       "Time:                        23:36:02   Log-Likelihood:                -2451.6\n",
       "No. Observations:                 442   AIC:                             4911.\n",
       "Df Residuals:                     438   BIC:                             4928.\n",
       "Df Model:                           3                                         \n",
       "Covariance Type:            nonrobust                                         \n",
       "==============================================================================\n",
       "                 coef    std err          t      P>|t|      [0.025      0.975]\n",
       "------------------------------------------------------------------------------\n",
       "Intercept    152.1335      2.964     51.321      0.000     146.307     157.960\n",
       "age          138.9039     64.254      2.162      0.031      12.618     265.189\n",
       "sex          -36.1353     63.391     -0.570      0.569    -160.724      88.453\n",
       "bmi          926.9120     63.525     14.591      0.000     802.061    1051.763\n",
       "==============================================================================\n",
       "Omnibus:                       14.687   Durbin-Watson:                   1.851\n",
       "Prob(Omnibus):                  0.001   Jarque-Bera (JB):                8.290\n",
       "Skew:                           0.150   Prob(JB):                       0.0158\n",
       "Kurtosis:                       2.400   Cond. No.                         23.7\n",
       "==============================================================================\n",
       "\n",
       "Notes:\n",
       "[1] Standard Errors assume that the covariance matrix of the errors is correctly specified.\n",
       "\"\"\""
      ]
     },
     "execution_count": 22,
     "metadata": {},
     "output_type": "execute_result"
    }
   ],
   "source": [
    "from statsmodels.formula.api import ols\n",
    "x = x[['age', 'sex','bmi']]\n",
    "df = x.copy()\n",
    "df['target'] = y\n",
    "x = ols('target ~ age + sex + bmi', data = df).fit()\n",
    "model.summary()"
   ]
  },
  {
   "cell_type": "code",
   "execution_count": 23,
   "id": "ac6dd980-dd58-496f-8542-d35e8c4f9cca",
   "metadata": {},
   "outputs": [
    {
     "name": "stdout",
     "output_type": "stream",
     "text": [
      "0    0.061696\n",
      "1   -0.051474\n",
      "2    0.044451\n",
      "3   -0.011595\n",
      "4   -0.036385\n",
      "Name: bmi, dtype: float64\n",
      "0    151.0\n",
      "1     75.0\n",
      "2    141.0\n",
      "3    206.0\n",
      "4    135.0\n",
      "Name: target, dtype: float64\n"
     ]
    }
   ],
   "source": [
    "###############\t\t실기환경 복사 영역\t\t###############\n",
    "#\t데이터 불러오기\n",
    "import\tpandas\tas\tpd\n",
    "import\tnumpy\tas\tnp\n",
    "#\t실기 시험 데이터셋으로 셋팅하기\t(수정금지)\n",
    "from\tsklearn.datasets\timport\tload_diabetes\n",
    "#\tdiabetes\t데이터셋 로드\n",
    "diabetes\t=\tload_diabetes()\n",
    "x\t=\tpd.DataFrame(diabetes.data,\tcolumns=diabetes.feature_names)\n",
    "y\t=\tpd.DataFrame(diabetes.target)\n",
    "y.columns\t= ['target']\n",
    "###############\t\t실기환경 복사 영역\t\t###############\n",
    "# 상관분석을 할\t2가지 변수 설정\n",
    "x\t=\tx['bmi']\n",
    "y\t=\ty['target']\n",
    "print(x.head())\n",
    "print(y.head())\n"
   ]
  },
  {
   "cell_type": "code",
   "execution_count": 24,
   "id": "9ed4bb3f-d917-4d0f-acdc-ac3462f1098f",
   "metadata": {},
   "outputs": [
    {
     "data": {
      "text/plain": [
       "np.float64(0.5864501344746885)"
      ]
     },
     "execution_count": 24,
     "metadata": {},
     "output_type": "execute_result"
    }
   ],
   "source": [
    "x.corr(y)"
   ]
  },
  {
   "cell_type": "code",
   "execution_count": null,
   "id": "30337deb-ab55-4b42-9fb7-09b64a95831a",
   "metadata": {},
   "outputs": [],
   "source": []
  }
 ],
 "metadata": {
  "kernelspec": {
   "display_name": "Python 3 (ipykernel)",
   "language": "python",
   "name": "python3"
  },
  "language_info": {
   "codemirror_mode": {
    "name": "ipython",
    "version": 3
   },
   "file_extension": ".py",
   "mimetype": "text/x-python",
   "name": "python",
   "nbconvert_exporter": "python",
   "pygments_lexer": "ipython3",
   "version": "3.12.3"
  }
 },
 "nbformat": 4,
 "nbformat_minor": 5
}
