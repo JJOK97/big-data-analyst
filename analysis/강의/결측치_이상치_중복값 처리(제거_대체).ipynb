{
 "cells": [
  {
   "cell_type": "markdown",
   "id": "17abec36-9206-4d0e-afd3-315a9a9d8cd6",
   "metadata": {},
   "source": [
    "#### 데이터 불러오기\n",
    "\n",
    "종속 변수(y) : 생존 여부 (0 사망, 1 생존)  \n",
    "독립 변수(x) : pclass, sex, age 등의 탑승자 정보 (변수)"
   ]
  },
  {
   "cell_type": "code",
   "execution_count": 2,
   "id": "954f2e92-560a-48c1-ba1c-e796c5ca958f",
   "metadata": {},
   "outputs": [],
   "source": [
    "import seaborn as sns\n",
    "# 데이터셋 목록 : sns.get_dataset_names()\n",
    "# 타이타닉 데이터 불러오기\n",
    "df = sns.load_dataset('titanic')"
   ]
  },
  {
   "cell_type": "code",
   "execution_count": 3,
   "id": "e65fbb5e-b077-4ab7-b349-f01ea4b44289",
   "metadata": {},
   "outputs": [
    {
     "data": {
      "text/html": [
       "<div>\n",
       "<style scoped>\n",
       "    .dataframe tbody tr th:only-of-type {\n",
       "        vertical-align: middle;\n",
       "    }\n",
       "\n",
       "    .dataframe tbody tr th {\n",
       "        vertical-align: top;\n",
       "    }\n",
       "\n",
       "    .dataframe thead th {\n",
       "        text-align: right;\n",
       "    }\n",
       "</style>\n",
       "<table border=\"1\" class=\"dataframe\">\n",
       "  <thead>\n",
       "    <tr style=\"text-align: right;\">\n",
       "      <th></th>\n",
       "      <th>survived</th>\n",
       "      <th>pclass</th>\n",
       "      <th>sex</th>\n",
       "      <th>age</th>\n",
       "      <th>sibsp</th>\n",
       "      <th>parch</th>\n",
       "      <th>fare</th>\n",
       "      <th>embarked</th>\n",
       "      <th>class</th>\n",
       "      <th>who</th>\n",
       "      <th>adult_male</th>\n",
       "      <th>deck</th>\n",
       "      <th>embark_town</th>\n",
       "      <th>alive</th>\n",
       "      <th>alone</th>\n",
       "    </tr>\n",
       "  </thead>\n",
       "  <tbody>\n",
       "    <tr>\n",
       "      <th>0</th>\n",
       "      <td>0</td>\n",
       "      <td>3</td>\n",
       "      <td>male</td>\n",
       "      <td>22.0</td>\n",
       "      <td>1</td>\n",
       "      <td>0</td>\n",
       "      <td>7.2500</td>\n",
       "      <td>S</td>\n",
       "      <td>Third</td>\n",
       "      <td>man</td>\n",
       "      <td>True</td>\n",
       "      <td>NaN</td>\n",
       "      <td>Southampton</td>\n",
       "      <td>no</td>\n",
       "      <td>False</td>\n",
       "    </tr>\n",
       "    <tr>\n",
       "      <th>1</th>\n",
       "      <td>1</td>\n",
       "      <td>1</td>\n",
       "      <td>female</td>\n",
       "      <td>38.0</td>\n",
       "      <td>1</td>\n",
       "      <td>0</td>\n",
       "      <td>71.2833</td>\n",
       "      <td>C</td>\n",
       "      <td>First</td>\n",
       "      <td>woman</td>\n",
       "      <td>False</td>\n",
       "      <td>C</td>\n",
       "      <td>Cherbourg</td>\n",
       "      <td>yes</td>\n",
       "      <td>False</td>\n",
       "    </tr>\n",
       "    <tr>\n",
       "      <th>2</th>\n",
       "      <td>1</td>\n",
       "      <td>3</td>\n",
       "      <td>female</td>\n",
       "      <td>26.0</td>\n",
       "      <td>0</td>\n",
       "      <td>0</td>\n",
       "      <td>7.9250</td>\n",
       "      <td>S</td>\n",
       "      <td>Third</td>\n",
       "      <td>woman</td>\n",
       "      <td>False</td>\n",
       "      <td>NaN</td>\n",
       "      <td>Southampton</td>\n",
       "      <td>yes</td>\n",
       "      <td>True</td>\n",
       "    </tr>\n",
       "    <tr>\n",
       "      <th>3</th>\n",
       "      <td>1</td>\n",
       "      <td>1</td>\n",
       "      <td>female</td>\n",
       "      <td>35.0</td>\n",
       "      <td>1</td>\n",
       "      <td>0</td>\n",
       "      <td>53.1000</td>\n",
       "      <td>S</td>\n",
       "      <td>First</td>\n",
       "      <td>woman</td>\n",
       "      <td>False</td>\n",
       "      <td>C</td>\n",
       "      <td>Southampton</td>\n",
       "      <td>yes</td>\n",
       "      <td>False</td>\n",
       "    </tr>\n",
       "    <tr>\n",
       "      <th>4</th>\n",
       "      <td>0</td>\n",
       "      <td>3</td>\n",
       "      <td>male</td>\n",
       "      <td>35.0</td>\n",
       "      <td>0</td>\n",
       "      <td>0</td>\n",
       "      <td>8.0500</td>\n",
       "      <td>S</td>\n",
       "      <td>Third</td>\n",
       "      <td>man</td>\n",
       "      <td>True</td>\n",
       "      <td>NaN</td>\n",
       "      <td>Southampton</td>\n",
       "      <td>no</td>\n",
       "      <td>True</td>\n",
       "    </tr>\n",
       "  </tbody>\n",
       "</table>\n",
       "</div>"
      ],
      "text/plain": [
       "   survived  pclass     sex   age  sibsp  parch     fare embarked  class  \\\n",
       "0         0       3    male  22.0      1      0   7.2500        S  Third   \n",
       "1         1       1  female  38.0      1      0  71.2833        C  First   \n",
       "2         1       3  female  26.0      0      0   7.9250        S  Third   \n",
       "3         1       1  female  35.0      1      0  53.1000        S  First   \n",
       "4         0       3    male  35.0      0      0   8.0500        S  Third   \n",
       "\n",
       "     who  adult_male deck  embark_town alive  alone  \n",
       "0    man        True  NaN  Southampton    no  False  \n",
       "1  woman       False    C    Cherbourg   yes  False  \n",
       "2  woman       False  NaN  Southampton   yes   True  \n",
       "3  woman       False    C  Southampton   yes  False  \n",
       "4    man        True  NaN  Southampton    no   True  "
      ]
     },
     "execution_count": 3,
     "metadata": {},
     "output_type": "execute_result"
    }
   ],
   "source": [
    "df.head()"
   ]
  },
  {
   "cell_type": "code",
   "execution_count": 4,
   "id": "52079b13-e6c0-4a28-b39e-cb08e4f8479e",
   "metadata": {},
   "outputs": [
    {
     "data": {
      "text/plain": [
       "(891, 15)"
      ]
     },
     "execution_count": 4,
     "metadata": {},
     "output_type": "execute_result"
    }
   ],
   "source": [
    "df.shape"
   ]
  },
  {
   "cell_type": "code",
   "execution_count": 5,
   "id": "818f06fc-b9fa-4ed9-b76e-e74d1dadaf12",
   "metadata": {},
   "outputs": [
    {
     "name": "stdout",
     "output_type": "stream",
     "text": [
      "<class 'pandas.core.frame.DataFrame'>\n",
      "RangeIndex: 891 entries, 0 to 890\n",
      "Data columns (total 15 columns):\n",
      " #   Column       Non-Null Count  Dtype   \n",
      "---  ------       --------------  -----   \n",
      " 0   survived     891 non-null    int64   \n",
      " 1   pclass       891 non-null    int64   \n",
      " 2   sex          891 non-null    object  \n",
      " 3   age          714 non-null    float64 \n",
      " 4   sibsp        891 non-null    int64   \n",
      " 5   parch        891 non-null    int64   \n",
      " 6   fare         891 non-null    float64 \n",
      " 7   embarked     889 non-null    object  \n",
      " 8   class        891 non-null    category\n",
      " 9   who          891 non-null    object  \n",
      " 10  adult_male   891 non-null    bool    \n",
      " 11  deck         203 non-null    category\n",
      " 12  embark_town  889 non-null    object  \n",
      " 13  alive        891 non-null    object  \n",
      " 14  alone        891 non-null    bool    \n",
      "dtypes: bool(2), category(2), float64(2), int64(4), object(5)\n",
      "memory usage: 80.7+ KB\n"
     ]
    }
   ],
   "source": [
    "df.info()"
   ]
  },
  {
   "cell_type": "markdown",
   "id": "6482c2a1-72b1-426f-88be-53748acf1e2b",
   "metadata": {},
   "source": [
    "#### 1) 결측치 확인 및 처리"
   ]
  },
  {
   "cell_type": "code",
   "execution_count": 6,
   "id": "810a3efc-2e5b-438b-ad05-1d7e5b024d3e",
   "metadata": {},
   "outputs": [
    {
     "data": {
      "text/plain": [
       "survived         0\n",
       "pclass           0\n",
       "sex              0\n",
       "age            177\n",
       "sibsp            0\n",
       "parch            0\n",
       "fare             0\n",
       "embarked         2\n",
       "class            0\n",
       "who              0\n",
       "adult_male       0\n",
       "deck           688\n",
       "embark_town      2\n",
       "alive            0\n",
       "alone            0\n",
       "dtype: int64"
      ]
     },
     "execution_count": 6,
     "metadata": {},
     "output_type": "execute_result"
    }
   ],
   "source": [
    "# 결측치 확인\n",
    "df.isnull().sum()"
   ]
  },
  {
   "cell_type": "code",
   "execution_count": 28,
   "id": "89243fc4-483c-49be-bce0-bcb3a153408a",
   "metadata": {},
   "outputs": [
    {
     "name": "stdout",
     "output_type": "stream",
     "text": [
      "    survived  pclass     sex   age  sibsp  parch     fare embarked  class  \\\n",
      "1          1       1  female  38.0      1      0  71.2833        C  First   \n",
      "3          1       1  female  35.0      1      0  53.1000        S  First   \n",
      "6          0       1    male  54.0      0      0  51.8625        S  First   \n",
      "10         1       3  female   4.0      1      1  16.7000        S  Third   \n",
      "11         1       1  female  58.0      0      0  26.5500        S  First   \n",
      "\n",
      "      who  adult_male deck  embark_town alive  alone  \n",
      "1   woman       False    C    Cherbourg   yes  False  \n",
      "3   woman       False    C  Southampton   yes  False  \n",
      "6     man        True    E  Southampton    no   True  \n",
      "10  child       False    G  Southampton   yes  False  \n",
      "11  woman       False    C  Southampton   yes   True  \n"
     ]
    }
   ],
   "source": [
    "# 결측치 제거\n",
    "print(df.dropna(axis=0).head(5)) # 행 기준"
   ]
  },
  {
   "cell_type": "code",
   "execution_count": 27,
   "id": "3b712373-7c92-4e6c-ad68-391f8125062f",
   "metadata": {},
   "outputs": [
    {
     "name": "stdout",
     "output_type": "stream",
     "text": [
      "   survived  pclass     sex  sibsp  parch     fare  class    who  adult_male  \\\n",
      "0         0       3    male      1      0   7.2500  Third    man        True   \n",
      "1         1       1  female      1      0  71.2833  First  woman       False   \n",
      "2         1       3  female      0      0   7.9250  Third  woman       False   \n",
      "3         1       1  female      1      0  53.1000  First  woman       False   \n",
      "4         0       3    male      0      0   8.0500  Third    man        True   \n",
      "\n",
      "  alive  alone  \n",
      "0    no  False  \n",
      "1   yes  False  \n",
      "2   yes   True  \n",
      "3   yes  False  \n",
      "4    no   True  \n"
     ]
    }
   ],
   "source": [
    "print(df.dropna(axis=1).head(5)) # 열 기준"
   ]
  },
  {
   "cell_type": "code",
   "execution_count": 8,
   "id": "22ad5830-9502-4a0c-8f16-18e1e3f74e39",
   "metadata": {},
   "outputs": [],
   "source": [
    "# 결측치 대체\n",
    "# 데이터 복사\n",
    "df2 = df.copy()"
   ]
  },
  {
   "cell_type": "code",
   "execution_count": 9,
   "id": "fecb69e1-aff5-45de-8241-06fab9ef1eb3",
   "metadata": {},
   "outputs": [
    {
     "name": "stdout",
     "output_type": "stream",
     "text": [
      "28.0\n"
     ]
    }
   ],
   "source": [
    "# 1. 중앙값/평균값 등으로 대체\n",
    "# 먼저 중앙값을 구합니다.\n",
    "median_age = df2['age'].median()\n",
    "print(median_age)\n",
    "\n",
    "# 평균으로 대체 할 경우\n",
    "# mean_age = df2['age'].mean()"
   ]
  },
  {
   "cell_type": "code",
   "execution_count": 10,
   "id": "560a954f-ea1d-4b5e-8dc0-ec95de8d6006",
   "metadata": {},
   "outputs": [],
   "source": [
    "# 구한 중앙값으로 결측치를 대체합니다.\n",
    "df2['age'] = df['age'].fillna(median_age)"
   ]
  },
  {
   "cell_type": "code",
   "execution_count": 11,
   "id": "d058e550-3440-4475-a74a-9c585dd1565f",
   "metadata": {},
   "outputs": [
    {
     "data": {
      "text/plain": [
       "survived         0\n",
       "pclass           0\n",
       "sex              0\n",
       "age              0\n",
       "sibsp            0\n",
       "parch            0\n",
       "fare             0\n",
       "embarked         2\n",
       "class            0\n",
       "who              0\n",
       "adult_male       0\n",
       "deck           688\n",
       "embark_town      2\n",
       "alive            0\n",
       "alone            0\n",
       "dtype: int64"
      ]
     },
     "execution_count": 11,
     "metadata": {},
     "output_type": "execute_result"
    }
   ],
   "source": [
    "# 결측치가 잘 대체 되었는지 확인합니다.\n",
    "df2.isnull().sum()"
   ]
  },
  {
   "cell_type": "markdown",
   "id": "2d2f488d-aa19-476a-8e1f-be57be9b08d5",
   "metadata": {},
   "source": [
    "#### 2) 이상치 확인 및 처리\n",
    "\n",
    "상자 그림 활용 ( 이상치 : Q1, Q3로부터 1.5*IQR을 초과하는 값 )"
   ]
  },
  {
   "cell_type": "code",
   "execution_count": 12,
   "id": "9df07e7c-0686-4ef1-b053-9069d785b65b",
   "metadata": {},
   "outputs": [
    {
     "data": {
      "text/plain": [
       "<Axes: ylabel='age'>"
      ]
     },
     "execution_count": 12,
     "metadata": {},
     "output_type": "execute_result"
    },
    {
     "data": {
      "image/png": "[encoded data removed]",
      "text/plain": [
       "<Figure size 640x480 with 1 Axes>"
      ]
     },
     "metadata": {},
     "output_type": "display_data"
    }
   ],
   "source": [
    "# 타이타닉 데이터 불러오기\n",
    "df = sns.load_dataset('titanic')\n",
    "\n",
    "# ( 참고 ) 상자그림\n",
    "sns.boxplot(df['age'])"
   ]
  },
  {
   "cell_type": "code",
   "execution_count": 13,
   "id": "bd6e4b57-ff22-41b4-b236-05e8378ecbd3",
   "metadata": {},
   "outputs": [
    {
     "name": "stdout",
     "output_type": "stream",
     "text": [
      "20.125 38.0 17.875\n"
     ]
    }
   ],
   "source": [
    "# Q1, Q3, IQR 구하기\n",
    "Q1 = df['age'].quantile(0.25)\n",
    "Q3 = df['age'].quantile(0.75)\n",
    "IQR = Q3 - Q1\n",
    "print(Q1, Q3, IQR)"
   ]
  },
  {
   "cell_type": "code",
   "execution_count": 14,
   "id": "801b0683-4dad-4f4a-881d-379d08a0e0da",
   "metadata": {},
   "outputs": [
    {
     "name": "stdout",
     "output_type": "stream",
     "text": [
      "64.8125 -6.6875\n"
     ]
    }
   ],
   "source": [
    "upper = Q3 + 1.5*IQR\n",
    "lower = Q1 - 1.5*IQR\n",
    "print(upper, lower)"
   ]
  },
  {
   "cell_type": "code",
   "execution_count": 15,
   "id": "fc43769b-774e-42b4-8ce7-b6a9bed17e2e",
   "metadata": {},
   "outputs": [
    {
     "name": "stdout",
     "output_type": "stream",
     "text": [
      "703\n",
      "703\n",
      "891\n"
     ]
    }
   ],
   "source": [
    "# 문제 : age 변수의 이상치를 제외한 데이터 수는? (상자그림 기준)\n",
    "cond1 = (df['age'] <= upper) # 부호주의\n",
    "cond2 = (df['age'] >= lower) # 부호주의\n",
    "print(len(df[cond1 & cond2]))\n",
    "print(len(df[cond1]))\n",
    "print(len(df))"
   ]
  },
  {
   "cell_type": "code",
   "execution_count": 16,
   "id": "92330d38-c50f-46cc-9c4b-23c5b9a28d4c",
   "metadata": {},
   "outputs": [
    {
     "name": "stdout",
     "output_type": "stream",
     "text": [
      "   survived  pclass     sex   age  sibsp  parch     fare embarked  class  \\\n",
      "0         0       3    male  22.0      1      0   7.2500        S  Third   \n",
      "1         1       1  female  38.0      1      0  71.2833        C  First   \n",
      "2         1       3  female  26.0      0      0   7.9250        S  Third   \n",
      "\n",
      "     who  adult_male deck  embark_town alive  alone  \n",
      "0    man        True  NaN  Southampton    no  False  \n",
      "1  woman       False    C    Cherbourg   yes  False  \n",
      "2  woman       False  NaN  Southampton   yes   True  \n"
     ]
    }
   ],
   "source": [
    "# 문제 : age 변수의 이상치를 제외한 데이터셋 확인\n",
    "df_new = df[cond1 & cond2]\n",
    "print(df_new.head(3))"
   ]
  },
  {
   "cell_type": "markdown",
   "id": "a8d320cb-38a8-4cbd-afdc-1f46a18ffb71",
   "metadata": {},
   "source": [
    "#### 표준정규분표 활용 ( 이상치: +- 3z 값을 넘어가는 값 )"
   ]
  },
  {
   "cell_type": "code",
   "execution_count": 17,
   "id": "b869e73e-eeef-4978-ae80-a42eed8a7e6d",
   "metadata": {},
   "outputs": [],
   "source": [
    "# 데이터 표준화, Z = ( 개별값 - 평균 ) / 표준편차"
   ]
  },
  {
   "cell_type": "code",
   "execution_count": 18,
   "id": "a334a935-b806-412c-97c9-139f6a5964e3",
   "metadata": {},
   "outputs": [
    {
     "name": "stdout",
     "output_type": "stream",
     "text": [
      "29.69911764705882\n",
      "14.526497332334042\n"
     ]
    }
   ],
   "source": [
    "mean_age = df['age'].mean() # 평균\n",
    "std_age = df['age'].std() # 표준 편차\n",
    "print(mean_age)\n",
    "print(std_age)"
   ]
  },
  {
   "cell_type": "code",
   "execution_count": 19,
   "id": "81d9994d-3d2c-44c0-b5b3-7dc93d5b04bf",
   "metadata": {},
   "outputs": [
    {
     "name": "stdout",
     "output_type": "stream",
     "text": [
      "0     -0.530005\n",
      "1      0.571430\n",
      "2     -0.254646\n",
      "3      0.364911\n",
      "4      0.364911\n",
      "         ...   \n",
      "886   -0.185807\n",
      "887   -0.736524\n",
      "888         NaN\n",
      "889   -0.254646\n",
      "890    0.158392\n",
      "Name: age, Length: 891, dtype: float64\n"
     ]
    }
   ],
   "source": [
    "znorm = (df['age'] - mean_age) / std_age # ( 이상치 )\n",
    "print(znorm)"
   ]
  },
  {
   "cell_type": "code",
   "execution_count": 20,
   "id": "8c2d6910-415a-457d-b756-cdf002a521a5",
   "metadata": {},
   "outputs": [],
   "source": [
    "# 문제 : 이상치의 갯수는 몇 개인가? ( : +- 3Z 기준 )"
   ]
  },
  {
   "cell_type": "code",
   "execution_count": 21,
   "id": "7ce80299-d974-4511-8df2-c998215d72e0",
   "metadata": {},
   "outputs": [
    {
     "data": {
      "text/plain": [
       "2"
      ]
     },
     "execution_count": 21,
     "metadata": {},
     "output_type": "execute_result"
    }
   ],
   "source": [
    "cond1 = (znorm > 3)\n",
    "len(df[cond1])"
   ]
  },
  {
   "cell_type": "code",
   "execution_count": 22,
   "id": "c3c67a40-eb8a-4ac5-a543-10e444f8324d",
   "metadata": {},
   "outputs": [
    {
     "data": {
      "text/plain": [
       "0"
      ]
     },
     "execution_count": 22,
     "metadata": {},
     "output_type": "execute_result"
    }
   ],
   "source": [
    "cond2 = (znorm < -3)\n",
    "len(df[cond2])"
   ]
  },
  {
   "cell_type": "code",
   "execution_count": 23,
   "id": "a76203eb-234e-4d50-94c2-c25dd14a2979",
   "metadata": {},
   "outputs": [
    {
     "name": "stdout",
     "output_type": "stream",
     "text": [
      "2\n"
     ]
    }
   ],
   "source": [
    "print(len(df[cond1]) + len(df[cond2]))"
   ]
  },
  {
   "cell_type": "markdown",
   "id": "89905ff5-8867-4982-a09e-a5d8c58f1d39",
   "metadata": {},
   "source": [
    "#### 3) 중복값 제거"
   ]
  },
  {
   "cell_type": "code",
   "execution_count": 24,
   "id": "1cbcec06-0f7e-4a06-b7e4-08c8e01a28ee",
   "metadata": {},
   "outputs": [
    {
     "data": {
      "text/plain": [
       "(891, 15)"
      ]
     },
     "execution_count": 24,
     "metadata": {},
     "output_type": "execute_result"
    }
   ],
   "source": [
    "# 데이터 불러오기\n",
    "df = sns.load_dataset('titanic')\n",
    "df.shape"
   ]
  },
  {
   "cell_type": "code",
   "execution_count": 25,
   "id": "da6a3c1c-8653-4b8a-9740-a28083cda533",
   "metadata": {},
   "outputs": [
    {
     "name": "stdout",
     "output_type": "stream",
     "text": [
      "(784, 15)\n"
     ]
    }
   ],
   "source": [
    "df1 = df.copy()\n",
    "df1 = df1.drop_duplicates() # 중복값 제거\n",
    "print(df1.shape)\n",
    "# (주의) 예제에서는 중복값이 있어서 제거했지만,\n",
    "# 중복값이 나올 수 있는 상황이면 제거 할 필요 없음"
   ]
  }
 ],
 "metadata": {
  "kernelspec": {
   "display_name": "Python 3 (ipykernel)",
   "language": "python",
   "name": "python3"
  },
  "language_info": {
   "codemirror_mode": {
    "name": "ipython",
    "version": 3
   },
   "file_extension": ".py",
   "mimetype": "text/x-python",
   "name": "python",
   "nbconvert_exporter": "python",
   "pygments_lexer": "ipython3",
   "version": "3.12.3"
  }
 },
 "nbformat": 4,
 "nbformat_minor": 5
}
